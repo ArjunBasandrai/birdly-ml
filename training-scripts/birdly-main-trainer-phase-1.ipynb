{
 "cells": [
  {
   "cell_type": "code",
   "execution_count": 1,
   "id": "2968f84f",
   "metadata": {
    "_cell_guid": "b1076dfc-b9ad-4769-8c92-a6c4dae69d19",
    "_uuid": "8f2839f25d086af736a60e9eeb907d3b93b6e0e5",
    "execution": {
     "iopub.execute_input": "2024-09-15T16:36:45.968522Z",
     "iopub.status.busy": "2024-09-15T16:36:45.968219Z",
     "iopub.status.idle": "2024-09-15T16:37:25.279050Z",
     "shell.execute_reply": "2024-09-15T16:37:25.277744Z"
    },
    "papermill": {
     "duration": 39.320194,
     "end_time": "2024-09-15T16:37:25.281131",
     "exception": false,
     "start_time": "2024-09-15T16:36:45.960937",
     "status": "completed"
    },
    "tags": []
   },
   "outputs": [
    {
     "name": "stderr",
     "output_type": "stream",
     "text": [
      "D0915 16:37:18.129820283      14 config.cc:119]                        gRPC EXPERIMENT tcp_frame_size_tuning               OFF (default:OFF)\n",
      "D0915 16:37:18.129843681      14 config.cc:119]                        gRPC EXPERIMENT tcp_rcv_lowat                       OFF (default:OFF)\n",
      "D0915 16:37:18.129847377      14 config.cc:119]                        gRPC EXPERIMENT peer_state_based_framing            OFF (default:OFF)\n",
      "D0915 16:37:18.129849969      14 config.cc:119]                        gRPC EXPERIMENT flow_control_fixes                  ON  (default:ON)\n",
      "D0915 16:37:18.129852388      14 config.cc:119]                        gRPC EXPERIMENT memory_pressure_controller          OFF (default:OFF)\n",
      "D0915 16:37:18.129855191      14 config.cc:119]                        gRPC EXPERIMENT unconstrained_max_quota_buffer_size OFF (default:OFF)\n",
      "D0915 16:37:18.129858397      14 config.cc:119]                        gRPC EXPERIMENT new_hpack_huffman_decoder           ON  (default:ON)\n",
      "D0915 16:37:18.129860643      14 config.cc:119]                        gRPC EXPERIMENT event_engine_client                 OFF (default:OFF)\n",
      "D0915 16:37:18.129862906      14 config.cc:119]                        gRPC EXPERIMENT monitoring_experiment               ON  (default:ON)\n",
      "D0915 16:37:18.129865265      14 config.cc:119]                        gRPC EXPERIMENT promise_based_client_call           OFF (default:OFF)\n",
      "D0915 16:37:18.129867489      14 config.cc:119]                        gRPC EXPERIMENT free_large_allocator                OFF (default:OFF)\n",
      "D0915 16:37:18.129869827      14 config.cc:119]                        gRPC EXPERIMENT promise_based_server_call           OFF (default:OFF)\n",
      "D0915 16:37:18.129872106      14 config.cc:119]                        gRPC EXPERIMENT transport_supplies_client_latency   OFF (default:OFF)\n",
      "D0915 16:37:18.129874387      14 config.cc:119]                        gRPC EXPERIMENT event_engine_listener               OFF (default:OFF)\n",
      "I0915 16:37:18.130123376      14 ev_epoll1_linux.cc:122]               grpc epoll fd: 58\n",
      "D0915 16:37:18.130137036      14 ev_posix.cc:144]                      Using polling engine: epoll1\n",
      "D0915 16:37:18.130158363      14 dns_resolver_ares.cc:822]             Using ares dns resolver\n",
      "D0915 16:37:18.130644371      14 lb_policy_registry.cc:46]             registering LB policy factory for \"priority_experimental\"\n",
      "D0915 16:37:18.130655803      14 lb_policy_registry.cc:46]             registering LB policy factory for \"outlier_detection_experimental\"\n",
      "D0915 16:37:18.130676735      14 lb_policy_registry.cc:46]             registering LB policy factory for \"weighted_target_experimental\"\n",
      "D0915 16:37:18.130680649      14 lb_policy_registry.cc:46]             registering LB policy factory for \"pick_first\"\n",
      "D0915 16:37:18.130684054      14 lb_policy_registry.cc:46]             registering LB policy factory for \"round_robin\"\n",
      "D0915 16:37:18.130686910      14 lb_policy_registry.cc:46]             registering LB policy factory for \"weighted_round_robin_experimental\"\n",
      "D0915 16:37:18.130694786      14 lb_policy_registry.cc:46]             registering LB policy factory for \"ring_hash_experimental\"\n",
      "D0915 16:37:18.130714356      14 lb_policy_registry.cc:46]             registering LB policy factory for \"grpclb\"\n",
      "D0915 16:37:18.130743091      14 lb_policy_registry.cc:46]             registering LB policy factory for \"rls_experimental\"\n",
      "D0915 16:37:18.130758984      14 lb_policy_registry.cc:46]             registering LB policy factory for \"xds_cluster_manager_experimental\"\n",
      "D0915 16:37:18.130762094      14 lb_policy_registry.cc:46]             registering LB policy factory for \"xds_cluster_impl_experimental\"\n",
      "D0915 16:37:18.130782359      14 lb_policy_registry.cc:46]             registering LB policy factory for \"cds_experimental\"\n",
      "D0915 16:37:18.130790078      14 lb_policy_registry.cc:46]             registering LB policy factory for \"xds_cluster_resolver_experimental\"\n",
      "D0915 16:37:18.130793490      14 lb_policy_registry.cc:46]             registering LB policy factory for \"xds_override_host_experimental\"\n",
      "D0915 16:37:18.130796825      14 lb_policy_registry.cc:46]             registering LB policy factory for \"xds_wrr_locality_experimental\"\n",
      "D0915 16:37:18.130801643      14 certificate_provider_registry.cc:35]  registering certificate provider factory for \"file_watcher\"\n",
      "I0915 16:37:18.134616066      14 socket_utils_common_posix.cc:408]     Disabling AF_INET6 sockets because ::1 is not available.\n",
      "I0915 16:37:18.152035993     172 socket_utils_common_posix.cc:337]     TCP_USER_TIMEOUT is available. TCP_USER_TIMEOUT will be used thereafter\n",
      "E0915 16:37:18.157726935     172 oauth2_credentials.cc:236]            oauth_fetch: UNKNOWN:C-ares status is not ARES_SUCCESS qtype=A name=metadata.google.internal. is_balancer=0: Domain name not found {created_time:\"2024-09-15T16:37:18.157712253+00:00\", grpc_status:2}\n"
     ]
    },
    {
     "name": "stdout",
     "output_type": "stream",
     "text": [
      "Tensorflow version: 2.12.0\n"
     ]
    }
   ],
   "source": [
    "import matplotlib.pyplot as plt\n",
    "import numpy as np\n",
    "import os\n",
    "import random\n",
    "import tensorflow as tf\n",
    "from tensorflow import keras\n",
    "from keras import Sequential\n",
    "from keras.layers import RandomFlip, RandomContrast, GlobalAveragePooling2D, Dense, BatchNormalization, Dropout\n",
    "from keras.applications import EfficientNetV2L as base_m\n",
    "from keras.optimizers import Adam\n",
    "from keras.losses import SparseCategoricalCrossentropy as scc\n",
    "from keras.callbacks import EarlyStopping, LearningRateScheduler, ModelCheckpoint\n",
    "\n",
    "SEED = 154\n",
    "np.random.seed(SEED)\n",
    "tf.random.set_seed(SEED)\n",
    "random.seed(SEED)\n",
    "\n",
    "print(f'Tensorflow version: {tf.__version__}')"
   ]
  },
  {
   "cell_type": "code",
   "execution_count": 2,
   "id": "683d214c",
   "metadata": {
    "execution": {
     "iopub.execute_input": "2024-09-15T16:37:25.291710Z",
     "iopub.status.busy": "2024-09-15T16:37:25.291275Z",
     "iopub.status.idle": "2024-09-15T16:37:33.854854Z",
     "shell.execute_reply": "2024-09-15T16:37:33.853715Z"
    },
    "papermill": {
     "duration": 8.572926,
     "end_time": "2024-09-15T16:37:33.858762",
     "exception": false,
     "start_time": "2024-09-15T16:37:25.285836",
     "status": "completed"
    },
    "tags": []
   },
   "outputs": [
    {
     "name": "stdout",
     "output_type": "stream",
     "text": [
      "INFO:tensorflow:Deallocate tpu buffers before initializing tpu system.\n",
      "INFO:tensorflow:Initializing the TPU system: local\n",
      "INFO:tensorflow:Finished initializing TPU system.\n",
      "INFO:tensorflow:Found TPU system:\n",
      "INFO:tensorflow:*** Num TPU Cores: 8\n",
      "INFO:tensorflow:*** Num TPU Workers: 1\n",
      "INFO:tensorflow:*** Num TPU Cores Per Worker: 8\n",
      "INFO:tensorflow:*** Available Device: _DeviceAttributes(/job:localhost/replica:0/task:0/device:CPU:0, CPU, 0, 0)\n",
      "INFO:tensorflow:*** Available Device: _DeviceAttributes(/job:localhost/replica:0/task:0/device:TPU:0, TPU, 0, 0)\n",
      "INFO:tensorflow:*** Available Device: _DeviceAttributes(/job:localhost/replica:0/task:0/device:TPU:1, TPU, 0, 0)\n",
      "INFO:tensorflow:*** Available Device: _DeviceAttributes(/job:localhost/replica:0/task:0/device:TPU:2, TPU, 0, 0)\n",
      "INFO:tensorflow:*** Available Device: _DeviceAttributes(/job:localhost/replica:0/task:0/device:TPU:3, TPU, 0, 0)\n",
      "INFO:tensorflow:*** Available Device: _DeviceAttributes(/job:localhost/replica:0/task:0/device:TPU:4, TPU, 0, 0)\n",
      "INFO:tensorflow:*** Available Device: _DeviceAttributes(/job:localhost/replica:0/task:0/device:TPU:5, TPU, 0, 0)\n",
      "INFO:tensorflow:*** Available Device: _DeviceAttributes(/job:localhost/replica:0/task:0/device:TPU:6, TPU, 0, 0)\n",
      "INFO:tensorflow:*** Available Device: _DeviceAttributes(/job:localhost/replica:0/task:0/device:TPU:7, TPU, 0, 0)\n",
      "INFO:tensorflow:*** Available Device: _DeviceAttributes(/job:localhost/replica:0/task:0/device:TPU_SYSTEM:0, TPU_SYSTEM, 0, 0)\n",
      "Running on TPU\n",
      "REPLICAS:  8\n"
     ]
    }
   ],
   "source": [
    "tpu = tf.distribute.cluster_resolver.TPUClusterResolver.connect(tpu=\"local\") # \"local\" for 1VM TPU\n",
    "strategy = tf.distribute.TPUStrategy(tpu)\n",
    "print(\"Running on TPU\")\n",
    "print(\"REPLICAS: \", strategy.num_replicas_in_sync)"
   ]
  },
  {
   "cell_type": "code",
   "execution_count": 3,
   "id": "b34cf994",
   "metadata": {
    "execution": {
     "iopub.execute_input": "2024-09-15T16:37:33.871087Z",
     "iopub.status.busy": "2024-09-15T16:37:33.870816Z",
     "iopub.status.idle": "2024-09-15T16:37:33.916063Z",
     "shell.execute_reply": "2024-09-15T16:37:33.915068Z"
    },
    "papermill": {
     "duration": 0.054012,
     "end_time": "2024-09-15T16:37:33.918091",
     "exception": false,
     "start_time": "2024-09-15T16:37:33.864079",
     "status": "completed"
    },
    "tags": []
   },
   "outputs": [],
   "source": [
    "image_size = (480,480)\n",
    "epochs = 12\n",
    "tf_record_sample_size = 4096\n",
    "batch_size = 128 * strategy.num_replicas_in_sync\n",
    "AUTO = tf.data.experimental.AUTOTUNE\n",
    "train = tf.io.gfile.glob(\"/kaggle/input/*/tfrecords/*.tfrec\")"
   ]
  },
  {
   "cell_type": "code",
   "execution_count": 4,
   "id": "e5b575e8",
   "metadata": {
    "execution": {
     "iopub.execute_input": "2024-09-15T16:37:33.931380Z",
     "iopub.status.busy": "2024-09-15T16:37:33.931098Z",
     "iopub.status.idle": "2024-09-15T16:37:33.960564Z",
     "shell.execute_reply": "2024-09-15T16:37:33.959735Z"
    },
    "papermill": {
     "duration": 0.03834,
     "end_time": "2024-09-15T16:37:33.962530",
     "exception": false,
     "start_time": "2024-09-15T16:37:33.924190",
     "status": "completed"
    },
    "tags": []
   },
   "outputs": [],
   "source": [
    "filenames = tf.io.gfile.glob(\"/kaggle/input/*/tfrecords/*.tfrec\")\n",
    "filenames.sort()\n",
    "random.Random(SEED).shuffle(filenames)\n",
    "\n",
    "train_split = 0.8\n",
    "val_split = 0.1\n",
    "\n",
    "num_files = len(filenames)\n",
    "train_end = int(train_split * num_files)\n",
    "val_end = int((train_split + val_split) * num_files)\n",
    "\n",
    "train_filenames = filenames[:train_end]\n",
    "val_filenames = filenames[train_end:val_end]\n",
    "test_filenames = filenames[val_end:]"
   ]
  },
  {
   "cell_type": "code",
   "execution_count": 5,
   "id": "c398f97e",
   "metadata": {
    "execution": {
     "iopub.execute_input": "2024-09-15T16:37:33.977339Z",
     "iopub.status.busy": "2024-09-15T16:37:33.976606Z",
     "iopub.status.idle": "2024-09-15T16:37:33.986425Z",
     "shell.execute_reply": "2024-09-15T16:37:33.985619Z"
    },
    "papermill": {
     "duration": 0.019139,
     "end_time": "2024-09-15T16:37:33.988272",
     "exception": false,
     "start_time": "2024-09-15T16:37:33.969133",
     "status": "completed"
    },
    "tags": []
   },
   "outputs": [],
   "source": [
    "# def decode_image(image_data):\n",
    "#     image = tf.image.decode_jpeg(image_data, channels=3)\n",
    "#     image = tf.cast(image, tf.float32) / 255.0\n",
    "#     image = tf.reshape(image, [*image_size, 3])\n",
    "#     return image\n",
    "\n",
    "def read_labeled_tfrecord(example):\n",
    "    LABELED_TFREC_FORMAT = {\n",
    "        \"feature0\": tf.io.FixedLenFeature([], tf.string),\n",
    "        \"feature1\": tf.io.FixedLenFeature([], tf.int64),\n",
    "    }\n",
    "    example = tf.io.parse_single_example(example, LABELED_TFREC_FORMAT)\n",
    "    image = tf.io.decode_jpeg(example['feature0'])\n",
    "    label = tf.cast(example['feature1'], tf.int64)\n",
    "    return image, label\n",
    "\n",
    "def load_dataset(filenames):\n",
    "    dataset = tf.data.TFRecordDataset(filenames, num_parallel_reads=AUTO)\n",
    "#     options = tf.data.Options()\n",
    "#     options.experimental_deterministic = True\n",
    "#     dataset = dataset.with_options(options)\n",
    "    dataset = dataset.map(read_labeled_tfrecord, num_parallel_calls=AUTO)\n",
    "    return dataset\n",
    "\n",
    "def data_augment(image, label):\n",
    "    image = tf.image.stateless_random_flip_left_right(image, seed=(SEED, SEED))\n",
    "    image = tf.image.stateless_random_saturation(image, lower=0.8, upper=2.0, seed=(SEED + 1, SEED + 1))\n",
    "    return image, label\n",
    "\n",
    "def get_dataset(filenames, augment=False, repeat=False):\n",
    "    dataset = load_dataset(filenames)\n",
    "    dataset_size = (len(filenames) - 1) * tf_record_sample_size\n",
    "    if augment:\n",
    "        dataset = dataset.map(data_augment, num_parallel_calls=AUTO)\n",
    "    if repeat:\n",
    "        dataset = dataset.repeat()\n",
    "    dataset = dataset.shuffle(2048, seed=SEED)\n",
    "    dataset = dataset.batch(batch_size)\n",
    "    dataset = dataset.prefetch(AUTO)\n",
    "    return dataset, dataset_size"
   ]
  },
  {
   "cell_type": "code",
   "execution_count": 6,
   "id": "8bc7dbab",
   "metadata": {
    "execution": {
     "iopub.execute_input": "2024-09-15T16:37:34.000310Z",
     "iopub.status.busy": "2024-09-15T16:37:34.000024Z",
     "iopub.status.idle": "2024-09-15T16:37:34.215803Z",
     "shell.execute_reply": "2024-09-15T16:37:34.214891Z"
    },
    "papermill": {
     "duration": 0.22428,
     "end_time": "2024-09-15T16:37:34.217870",
     "exception": false,
     "start_time": "2024-09-15T16:37:33.993590",
     "status": "completed"
    },
    "tags": []
   },
   "outputs": [],
   "source": [
    "train_ds, train_size = get_dataset(train_filenames, augment=True, repeat=True)\n",
    "val_ds, val_size = get_dataset(val_filenames)\n",
    "test_ds, test_size = get_dataset(test_filenames)"
   ]
  },
  {
   "cell_type": "code",
   "execution_count": 7,
   "id": "ce029c06",
   "metadata": {
    "execution": {
     "iopub.execute_input": "2024-09-15T16:37:34.229827Z",
     "iopub.status.busy": "2024-09-15T16:37:34.229569Z",
     "iopub.status.idle": "2024-09-15T16:37:34.235344Z",
     "shell.execute_reply": "2024-09-15T16:37:34.234542Z"
    },
    "papermill": {
     "duration": 0.014018,
     "end_time": "2024-09-15T16:37:34.237051",
     "exception": false,
     "start_time": "2024-09-15T16:37:34.223033",
     "status": "completed"
    },
    "tags": []
   },
   "outputs": [],
   "source": [
    "def create_model():\n",
    "    data_augmentation = Sequential([\n",
    "        RandomFlip('horizontal'),\n",
    "        RandomContrast(0.2),\n",
    "    ])\n",
    "\n",
    "    base_model = base_m(input_shape=(*image_size, 3), include_top=False, weights='imagenet')\n",
    "    base_model.trainable = False\n",
    "\n",
    "    model = Sequential([\n",
    "        data_augmentation,\n",
    "        base_model,\n",
    "        GlobalAveragePooling2D(),\n",
    "        Dense(4096, activation='swish'),\n",
    "        BatchNormalization(),\n",
    "        Dropout(0.4),\n",
    "        Dense(1024, activation='swish'),\n",
    "        BatchNormalization(),\n",
    "        Dropout(0.3),\n",
    "        Dense(1000)\n",
    "    ])\n",
    "\n",
    "    model.compile(\n",
    "        optimizer=Adam(lr_init),\n",
    "        loss=scc(from_logits=True),\n",
    "        metrics=['accuracy']\n",
    "    )\n",
    "    return model"
   ]
  },
  {
   "cell_type": "code",
   "execution_count": 8,
   "id": "f90f1f94",
   "metadata": {
    "execution": {
     "iopub.execute_input": "2024-09-15T16:37:34.248385Z",
     "iopub.status.busy": "2024-09-15T16:37:34.248152Z",
     "iopub.status.idle": "2024-09-15T16:37:34.251682Z",
     "shell.execute_reply": "2024-09-15T16:37:34.251007Z"
    },
    "papermill": {
     "duration": 0.011331,
     "end_time": "2024-09-15T16:37:34.253306",
     "exception": false,
     "start_time": "2024-09-15T16:37:34.241975",
     "status": "completed"
    },
    "tags": []
   },
   "outputs": [],
   "source": [
    "lr_init = 0.003\n",
    "es = EarlyStopping(\n",
    "    monitor='val_accuracy',\n",
    "    patience=15,\n",
    "    min_delta=0.0005,\n",
    "    restore_best_weights=True,\n",
    "    verbose=1\n",
    ")"
   ]
  },
  {
   "cell_type": "code",
   "execution_count": 9,
   "id": "c5c52bd0",
   "metadata": {
    "execution": {
     "iopub.execute_input": "2024-09-15T16:37:34.264906Z",
     "iopub.status.busy": "2024-09-15T16:37:34.264619Z",
     "iopub.status.idle": "2024-09-15T16:37:34.268934Z",
     "shell.execute_reply": "2024-09-15T16:37:34.268269Z"
    },
    "papermill": {
     "duration": 0.011869,
     "end_time": "2024-09-15T16:37:34.270521",
     "exception": false,
     "start_time": "2024-09-15T16:37:34.258652",
     "status": "completed"
    },
    "tags": []
   },
   "outputs": [],
   "source": [
    "def schedule(epoch,lr):\n",
    "    if epoch < 10:\n",
    "        return (epoch+1)*lr_init/10\n",
    "    elif epoch < 20:\n",
    "        return lr\n",
    "    return lr * tf.math.exp(-0.1)\n",
    "lr_scheduler = LearningRateScheduler(schedule,verbose=1)"
   ]
  },
  {
   "cell_type": "code",
   "execution_count": 10,
   "id": "46d1cbc0",
   "metadata": {
    "execution": {
     "iopub.execute_input": "2024-09-15T16:37:34.282054Z",
     "iopub.status.busy": "2024-09-15T16:37:34.281817Z",
     "iopub.status.idle": "2024-09-15T16:37:34.584825Z",
     "shell.execute_reply": "2024-09-15T16:37:34.583989Z"
    },
    "papermill": {
     "duration": 0.31121,
     "end_time": "2024-09-15T16:37:34.586901",
     "exception": false,
     "start_time": "2024-09-15T16:37:34.275691",
     "status": "completed"
    },
    "tags": []
   },
   "outputs": [
    {
     "data": {
      "image/png": "[encoded data removed]",
      "text/plain": [
       "<Figure size 640x480 with 1 Axes>"
      ]
     },
     "metadata": {},
     "output_type": "display_data"
    }
   ],
   "source": [
    "lr = 0.003\n",
    "x = list(range(100))\n",
    "y = []\n",
    "for i in range(100):\n",
    "    lr = schedule(i + 1, lr)\n",
    "    y.append(lr)\n",
    "\n",
    "plt.plot(x, y, c=\"c\")\n",
    "plt.xlabel(\"Epoch\")\n",
    "plt.ylabel(\"Learning Rate\")\n",
    "plt.title(\"Learning Rate Schedule\")\n",
    "plt.show()"
   ]
  },
  {
   "cell_type": "code",
   "execution_count": 11,
   "id": "02e8c769",
   "metadata": {
    "execution": {
     "iopub.execute_input": "2024-09-15T16:37:34.599779Z",
     "iopub.status.busy": "2024-09-15T16:37:34.599517Z",
     "iopub.status.idle": "2024-09-15T16:37:34.603942Z",
     "shell.execute_reply": "2024-09-15T16:37:34.603211Z"
    },
    "papermill": {
     "duration": 0.013429,
     "end_time": "2024-09-15T16:37:34.605921",
     "exception": false,
     "start_time": "2024-09-15T16:37:34.592492",
     "status": "completed"
    },
    "tags": []
   },
   "outputs": [],
   "source": [
    "if not os.path.exists(\"chkpts\"):\n",
    "    os.makedirs(\"chkpts\")\n",
    "    \n",
    "checkpoint_filepath = 'chkpts/checkpoint.model.keras'\n",
    "model_checkpoint_callback = ModelCheckpoint(\n",
    "    filepath=checkpoint_filepath,\n",
    "    monitor='val_loss',\n",
    "    mode='min',\n",
    "    save_best_only=True\n",
    ")"
   ]
  },
  {
   "cell_type": "code",
   "execution_count": 12,
   "id": "c9897afa",
   "metadata": {
    "execution": {
     "iopub.execute_input": "2024-09-15T16:37:34.618264Z",
     "iopub.status.busy": "2024-09-15T16:37:34.618037Z",
     "iopub.status.idle": "2024-09-15T16:37:34.623620Z",
     "shell.execute_reply": "2024-09-15T16:37:34.622961Z"
    },
    "papermill": {
     "duration": 0.014297,
     "end_time": "2024-09-15T16:37:34.625566",
     "exception": false,
     "start_time": "2024-09-15T16:37:34.611269",
     "status": "completed"
    },
    "tags": []
   },
   "outputs": [],
   "source": [
    "def plot_history(history):\n",
    "    acc = history.history['accuracy']\n",
    "    val_acc = history.history['val_accuracy']\n",
    "    loss = history.history['loss']\n",
    "    val_loss = history.history['val_loss']\n",
    "\n",
    "    plt.figure(figsize=(12, 6))\n",
    "\n",
    "    plt.subplot(1, 2, 1)\n",
    "    plt.plot(acc, label='Training Accuracy')\n",
    "    plt.plot(val_acc, label='Validation Accuracy')\n",
    "    plt.legend(loc='lower right')\n",
    "    plt.title('Training and Validation Accuracy')\n",
    "\n",
    "    plt.subplot(1, 2, 2)\n",
    "    plt.plot(loss, label='Training Loss')\n",
    "    plt.plot(val_loss, label='Validation Loss')\n",
    "    plt.legend(loc='upper right')\n",
    "    plt.title('Training and Validation Loss')\n",
    "    plt.show()"
   ]
  },
  {
   "cell_type": "code",
   "execution_count": 13,
   "id": "57145bec",
   "metadata": {
    "execution": {
     "iopub.execute_input": "2024-09-15T16:37:34.638640Z",
     "iopub.status.busy": "2024-09-15T16:37:34.638420Z",
     "iopub.status.idle": "2024-09-15T16:38:49.025131Z",
     "shell.execute_reply": "2024-09-15T16:38:49.024188Z"
    },
    "papermill": {
     "duration": 74.395792,
     "end_time": "2024-09-15T16:38:49.027500",
     "exception": false,
     "start_time": "2024-09-15T16:37:34.631708",
     "status": "completed"
    },
    "tags": []
   },
   "outputs": [
    {
     "name": "stdout",
     "output_type": "stream",
     "text": [
      "Downloading data from https://storage.googleapis.com/tensorflow/keras-applications/efficientnet_v2/efficientnetv2-l_notop.h5\n",
      "473176280/473176280 [==============================] - 12s 0us/step\n"
     ]
    }
   ],
   "source": [
    "with strategy.scope():\n",
    "    model = create_model()"
   ]
  },
  {
   "cell_type": "code",
   "execution_count": 14,
   "id": "dfa2af79",
   "metadata": {
    "execution": {
     "iopub.execute_input": "2024-09-15T16:38:49.062271Z",
     "iopub.status.busy": "2024-09-15T16:38:49.061937Z",
     "iopub.status.idle": "2024-09-15T16:38:49.066241Z",
     "shell.execute_reply": "2024-09-15T16:38:49.065413Z"
    },
    "papermill": {
     "duration": 0.023388,
     "end_time": "2024-09-15T16:38:49.067926",
     "exception": false,
     "start_time": "2024-09-15T16:38:49.044538",
     "status": "completed"
    },
    "tags": []
   },
   "outputs": [],
   "source": [
    "steps_per_epoch = train_size // batch_size\n",
    "validation_steps = val_size // batch_size"
   ]
  },
  {
   "cell_type": "code",
   "execution_count": 15,
   "id": "fb98b942",
   "metadata": {
    "execution": {
     "iopub.execute_input": "2024-09-15T16:38:49.099203Z",
     "iopub.status.busy": "2024-09-15T16:38:49.098956Z",
     "iopub.status.idle": "2024-09-15T20:38:20.225053Z",
     "shell.execute_reply": "2024-09-15T20:38:20.223736Z"
    },
    "papermill": {
     "duration": 14371.144288,
     "end_time": "2024-09-15T20:38:20.227588",
     "exception": false,
     "start_time": "2024-09-15T16:38:49.083300",
     "status": "completed"
    },
    "tags": []
   },
   "outputs": [
    {
     "name": "stdout",
     "output_type": "stream",
     "text": [
      "\n",
      "Epoch 1: LearningRateScheduler setting learning rate to 0.00030000000000000003.\n",
      "Epoch 1/12\n"
     ]
    },
    {
     "name": "stderr",
     "output_type": "stream",
     "text": [
      "2024-09-15 16:39:29.686014: E tensorflow/core/grappler/optimizers/meta_optimizer.cc:954] model_pruner failed: INVALID_ARGUMENT: Graph does not contain terminal node Adam/Adam/AssignAddVariableOp.\n",
      "2024-09-15 16:39:31.087934: E tensorflow/core/grappler/optimizers/meta_optimizer.cc:954] model_pruner failed: INVALID_ARGUMENT: Graph does not contain terminal node Adam/Adam/AssignAddVariableOp.\n"
     ]
    },
    {
     "name": "stdout",
     "output_type": "stream",
     "text": [
      "644/644 [==============================] - ETA: 0s - loss: 2.3031 - accuracy: 0.4647"
     ]
    },
    {
     "name": "stderr",
     "output_type": "stream",
     "text": [
      "2024-09-15 16:58:07.574039: E tensorflow/core/grappler/optimizers/meta_optimizer.cc:954] model_pruner failed: INVALID_ARGUMENT: Graph does not contain terminal node AssignAddVariableOp.\n",
      "2024-09-15 16:58:08.416444: E tensorflow/core/grappler/optimizers/meta_optimizer.cc:954] model_pruner failed: INVALID_ARGUMENT: Graph does not contain terminal node AssignAddVariableOp.\n"
     ]
    },
    {
     "name": "stdout",
     "output_type": "stream",
     "text": [
      "644/644 [==============================] - 1306s 2s/step - loss: 2.3031 - accuracy: 0.4647 - val_loss: 1.7429 - val_accuracy: 0.5648 - lr: 3.0000e-04\n",
      "\n",
      "Epoch 2: LearningRateScheduler setting learning rate to 0.0006000000000000001.\n",
      "Epoch 2/12\n",
      "644/644 [==============================] - 1177s 2s/step - loss: 1.4552 - accuracy: 0.6147 - val_loss: 1.3840 - val_accuracy: 0.6266 - lr: 6.0000e-04\n",
      "\n",
      "Epoch 3: LearningRateScheduler setting learning rate to 0.0009000000000000001.\n",
      "Epoch 3/12\n",
      "644/644 [==============================] - 1181s 2s/step - loss: 1.2982 - accuracy: 0.6501 - val_loss: 1.2855 - val_accuracy: 0.6463 - lr: 9.0000e-04\n",
      "\n",
      "Epoch 4: LearningRateScheduler setting learning rate to 0.0012000000000000001.\n",
      "Epoch 4/12\n",
      "644/644 [==============================] - 1174s 2s/step - loss: 1.2315 - accuracy: 0.6653 - val_loss: 1.3126 - val_accuracy: 0.6419 - lr: 0.0012\n",
      "\n",
      "Epoch 5: LearningRateScheduler setting learning rate to 0.0015.\n",
      "Epoch 5/12\n",
      "644/644 [==============================] - 1176s 2s/step - loss: 1.1751 - accuracy: 0.6780 - val_loss: 1.3395 - val_accuracy: 0.6392 - lr: 0.0015\n",
      "\n",
      "Epoch 6: LearningRateScheduler setting learning rate to 0.0018000000000000002.\n",
      "Epoch 6/12\n",
      "644/644 [==============================] - 1165s 2s/step - loss: 1.1259 - accuracy: 0.6882 - val_loss: 1.3542 - val_accuracy: 0.6369 - lr: 0.0018\n",
      "\n",
      "Epoch 7: LearningRateScheduler setting learning rate to 0.0021000000000000003.\n",
      "Epoch 7/12\n",
      "644/644 [==============================] - 1177s 2s/step - loss: 1.0857 - accuracy: 0.6977 - val_loss: 1.2919 - val_accuracy: 0.6435 - lr: 0.0021\n",
      "\n",
      "Epoch 8: LearningRateScheduler setting learning rate to 0.0024000000000000002.\n",
      "Epoch 8/12\n",
      "644/644 [==============================] - 1193s 2s/step - loss: 1.0522 - accuracy: 0.7057 - val_loss: 1.3128 - val_accuracy: 0.6455 - lr: 0.0024\n",
      "\n",
      "Epoch 9: LearningRateScheduler setting learning rate to 0.0027.\n",
      "Epoch 9/12\n",
      "644/644 [==============================] - 1202s 2s/step - loss: 1.0235 - accuracy: 0.7120 - val_loss: 1.1976 - val_accuracy: 0.6731 - lr: 0.0027\n",
      "\n",
      "Epoch 10: LearningRateScheduler setting learning rate to 0.003.\n",
      "Epoch 10/12\n",
      "644/644 [==============================] - 1209s 2s/step - loss: 0.9998 - accuracy: 0.7177 - val_loss: 1.1930 - val_accuracy: 0.6738 - lr: 0.0030\n",
      "\n",
      "Epoch 11: LearningRateScheduler setting learning rate to 0.003000000026077032.\n",
      "Epoch 11/12\n",
      "644/644 [==============================] - 1203s 2s/step - loss: 0.9583 - accuracy: 0.7277 - val_loss: 1.1414 - val_accuracy: 0.6865 - lr: 0.0030\n",
      "\n",
      "Epoch 12: LearningRateScheduler setting learning rate to 0.003000000026077032.\n",
      "Epoch 12/12\n",
      "644/644 [==============================] - 1205s 2s/step - loss: 0.9267 - accuracy: 0.7356 - val_loss: 1.1210 - val_accuracy: 0.6885 - lr: 0.0030\n"
     ]
    }
   ],
   "source": [
    "history = model.fit(\n",
    "    train_ds,\n",
    "    epochs=epochs,\n",
    "    validation_data=val_ds,\n",
    "    steps_per_epoch=steps_per_epoch,\n",
    "    validation_steps=validation_steps,\n",
    "    callbacks=[es, model_checkpoint_callback, lr_scheduler]\n",
    ")"
   ]
  },
  {
   "cell_type": "code",
   "execution_count": 16,
   "id": "9dcc9c30",
   "metadata": {
    "execution": {
     "iopub.execute_input": "2024-09-15T20:38:21.119714Z",
     "iopub.status.busy": "2024-09-15T20:38:21.119254Z",
     "iopub.status.idle": "2024-09-15T20:38:21.503593Z",
     "shell.execute_reply": "2024-09-15T20:38:21.502555Z"
    },
    "papermill": {
     "duration": 0.832293,
     "end_time": "2024-09-15T20:38:21.505386",
     "exception": false,
     "start_time": "2024-09-15T20:38:20.673093",
     "status": "completed"
    },
    "tags": []
   },
   "outputs": [
    {
     "data": {
      "image/png": "[encoded data removed]",
      "text/plain": [
       "<Figure size 1200x600 with 2 Axes>"
      ]
     },
     "metadata": {},
     "output_type": "display_data"
    }
   ],
   "source": [
    "plot_history(history)"
   ]
  },
  {
   "cell_type": "code",
   "execution_count": 17,
   "id": "8e070cbb",
   "metadata": {
    "execution": {
     "iopub.execute_input": "2024-09-15T20:38:22.441633Z",
     "iopub.status.busy": "2024-09-15T20:38:22.440987Z",
     "iopub.status.idle": "2024-09-15T20:38:27.931335Z",
     "shell.execute_reply": "2024-09-15T20:38:27.930030Z"
    },
    "papermill": {
     "duration": 5.931301,
     "end_time": "2024-09-15T20:38:27.933651",
     "exception": false,
     "start_time": "2024-09-15T20:38:22.002350",
     "status": "completed"
    },
    "tags": []
   },
   "outputs": [],
   "source": [
    "model.save('model.h5')"
   ]
  },
  {
   "cell_type": "code",
   "execution_count": 18,
   "id": "489e55fa",
   "metadata": {
    "execution": {
     "iopub.execute_input": "2024-09-15T20:38:28.849969Z",
     "iopub.status.busy": "2024-09-15T20:38:28.849022Z",
     "iopub.status.idle": "2024-09-15T20:38:28.854779Z",
     "shell.execute_reply": "2024-09-15T20:38:28.853713Z"
    },
    "papermill": {
     "duration": 0.474119,
     "end_time": "2024-09-15T20:38:28.856626",
     "exception": false,
     "start_time": "2024-09-15T20:38:28.382507",
     "status": "completed"
    },
    "tags": []
   },
   "outputs": [],
   "source": [
    "import pickle\n",
    "\n",
    "with open('/trainHistoryDict', 'wb') as file_pi:\n",
    "    pickle.dump(history.history, file_pi)"
   ]
  },
  {
   "cell_type": "code",
   "execution_count": 19,
   "id": "3480d681",
   "metadata": {
    "execution": {
     "iopub.execute_input": "2024-09-15T20:38:29.834372Z",
     "iopub.status.busy": "2024-09-15T20:38:29.833164Z",
     "iopub.status.idle": "2024-09-15T20:40:27.252958Z",
     "shell.execute_reply": "2024-09-15T20:40:27.251686Z"
    },
    "papermill": {
     "duration": 117.876702,
     "end_time": "2024-09-15T20:40:27.255059",
     "exception": false,
     "start_time": "2024-09-15T20:38:29.378357",
     "status": "completed"
    },
    "tags": []
   },
   "outputs": [
    {
     "name": "stdout",
     "output_type": "stream",
     "text": [
      "80/80 [==============================] - 117s 1s/step - loss: 2.0456 - accuracy: 0.5082\n",
      "Test Loss: 2.05\n",
      "Test Accuracy: 50.82%\n"
     ]
    }
   ],
   "source": [
    "test_steps = test_size // batch_size\n",
    "if test_size % batch_size != 0:\n",
    "    test_steps += 1\n",
    "\n",
    "test_loss, test_accuracy = model.evaluate(test_ds, steps=test_steps)\n",
    "\n",
    "test_loss = round(test_loss, 2)\n",
    "test_accuracy = round(test_accuracy * 100, 2)\n",
    "\n",
    "print(f\"Test Loss: {test_loss}\")\n",
    "print(f\"Test Accuracy: {test_accuracy}%\")"
   ]
  },
  {
   "cell_type": "code",
   "execution_count": null,
   "id": "a28b8e16",
   "metadata": {
    "papermill": {
     "duration": 0.432114,
     "end_time": "2024-09-15T20:40:28.136523",
     "exception": false,
     "start_time": "2024-09-15T20:40:27.704409",
     "status": "completed"
    },
    "tags": []
   },
   "outputs": [],
   "source": []
  }
 ],
 "metadata": {
  "kaggle": {
   "accelerator": "tpu1vmV38",
   "dataSources": [
    {
     "sourceId": 145960787,
     "sourceType": "kernelVersion"
    },
    {
     "sourceId": 145978028,
     "sourceType": "kernelVersion"
    },
    {
     "sourceId": 158734309,
     "sourceType": "kernelVersion"
    },
    {
     "sourceId": 158734313,
     "sourceType": "kernelVersion"
    },
    {
     "sourceId": 195461714,
     "sourceType": "kernelVersion"
    }
   ],
   "dockerImageVersionId": 30529,
   "isGpuEnabled": false,
   "isInternetEnabled": true,
   "language": "python",
   "sourceType": "notebook"
  },
  "kernelspec": {
   "display_name": "Python 3",
   "language": "python",
   "name": "python3"
  },
  "language_info": {
   "codemirror_mode": {
    "name": "ipython",
    "version": 3
   },
   "file_extension": ".py",
   "mimetype": "text/x-python",
   "name": "python",
   "nbconvert_exporter": "python",
   "pygments_lexer": "ipython3",
   "version": "3.8.17"
  },
  "papermill": {
   "default_parameters": {},
   "duration": 14635.043972,
   "end_time": "2024-09-15T20:40:38.874571",
   "environment_variables": {},
   "exception": null,
   "input_path": "__notebook__.ipynb",
   "output_path": "__notebook__.ipynb",
   "parameters": {},
   "start_time": "2024-09-15T16:36:43.830599",
   "version": "2.4.0"
  }
 },
 "nbformat": 4,
 "nbformat_minor": 5
}
