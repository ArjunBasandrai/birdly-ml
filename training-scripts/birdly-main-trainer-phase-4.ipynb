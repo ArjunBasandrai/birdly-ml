{
 "cells": [
  {
   "cell_type": "code",
   "execution_count": 1,
   "id": "01735e68",
   "metadata": {
    "_cell_guid": "b1076dfc-b9ad-4769-8c92-a6c4dae69d19",
    "_uuid": "8f2839f25d086af736a60e9eeb907d3b93b6e0e5",
    "execution": {
     "iopub.execute_input": "2024-09-16T11:38:05.238390Z",
     "iopub.status.busy": "2024-09-16T11:38:05.237585Z",
     "iopub.status.idle": "2024-09-16T11:38:46.515990Z",
     "shell.execute_reply": "2024-09-16T11:38:46.515088Z"
    },
    "papermill": {
     "duration": 41.287926,
     "end_time": "2024-09-16T11:38:46.518258",
     "exception": false,
     "start_time": "2024-09-16T11:38:05.230332",
     "status": "completed"
    },
    "tags": []
   },
   "outputs": [
    {
     "name": "stderr",
     "output_type": "stream",
     "text": [
      "D0916 11:38:38.359065532      14 config.cc:119]                        gRPC EXPERIMENT tcp_frame_size_tuning               OFF (default:OFF)\n",
      "D0916 11:38:38.359095497      14 config.cc:119]                        gRPC EXPERIMENT tcp_rcv_lowat                       OFF (default:OFF)\n",
      "D0916 11:38:38.359099120      14 config.cc:119]                        gRPC EXPERIMENT peer_state_based_framing            OFF (default:OFF)\n",
      "D0916 11:38:38.359101897      14 config.cc:119]                        gRPC EXPERIMENT flow_control_fixes                  ON  (default:ON)\n",
      "D0916 11:38:38.359104385      14 config.cc:119]                        gRPC EXPERIMENT memory_pressure_controller          OFF (default:OFF)\n",
      "D0916 11:38:38.359107147      14 config.cc:119]                        gRPC EXPERIMENT unconstrained_max_quota_buffer_size OFF (default:OFF)\n",
      "D0916 11:38:38.359109556      14 config.cc:119]                        gRPC EXPERIMENT new_hpack_huffman_decoder           ON  (default:ON)\n",
      "D0916 11:38:38.359112908      14 config.cc:119]                        gRPC EXPERIMENT event_engine_client                 OFF (default:OFF)\n",
      "D0916 11:38:38.359115425      14 config.cc:119]                        gRPC EXPERIMENT monitoring_experiment               ON  (default:ON)\n",
      "D0916 11:38:38.359117937      14 config.cc:119]                        gRPC EXPERIMENT promise_based_client_call           OFF (default:OFF)\n",
      "D0916 11:38:38.359120382      14 config.cc:119]                        gRPC EXPERIMENT free_large_allocator                OFF (default:OFF)\n",
      "D0916 11:38:38.359122818      14 config.cc:119]                        gRPC EXPERIMENT promise_based_server_call           OFF (default:OFF)\n",
      "D0916 11:38:38.359125364      14 config.cc:119]                        gRPC EXPERIMENT transport_supplies_client_latency   OFF (default:OFF)\n",
      "D0916 11:38:38.359127797      14 config.cc:119]                        gRPC EXPERIMENT event_engine_listener               OFF (default:OFF)\n",
      "I0916 11:38:38.359374117      14 ev_epoll1_linux.cc:122]               grpc epoll fd: 58\n",
      "D0916 11:38:38.359396270      14 ev_posix.cc:144]                      Using polling engine: epoll1\n",
      "D0916 11:38:38.359417970      14 dns_resolver_ares.cc:822]             Using ares dns resolver\n",
      "D0916 11:38:38.359999673      14 lb_policy_registry.cc:46]             registering LB policy factory for \"priority_experimental\"\n",
      "D0916 11:38:38.360013132      14 lb_policy_registry.cc:46]             registering LB policy factory for \"outlier_detection_experimental\"\n",
      "D0916 11:38:38.360017319      14 lb_policy_registry.cc:46]             registering LB policy factory for \"weighted_target_experimental\"\n",
      "D0916 11:38:38.360020317      14 lb_policy_registry.cc:46]             registering LB policy factory for \"pick_first\"\n",
      "D0916 11:38:38.360023237      14 lb_policy_registry.cc:46]             registering LB policy factory for \"round_robin\"\n",
      "D0916 11:38:38.360026064      14 lb_policy_registry.cc:46]             registering LB policy factory for \"weighted_round_robin_experimental\"\n",
      "D0916 11:38:38.360034170      14 lb_policy_registry.cc:46]             registering LB policy factory for \"ring_hash_experimental\"\n",
      "D0916 11:38:38.360054817      14 lb_policy_registry.cc:46]             registering LB policy factory for \"grpclb\"\n",
      "D0916 11:38:38.360085770      14 lb_policy_registry.cc:46]             registering LB policy factory for \"rls_experimental\"\n",
      "D0916 11:38:38.360102969      14 lb_policy_registry.cc:46]             registering LB policy factory for \"xds_cluster_manager_experimental\"\n",
      "D0916 11:38:38.360106780      14 lb_policy_registry.cc:46]             registering LB policy factory for \"xds_cluster_impl_experimental\"\n",
      "D0916 11:38:38.360110139      14 lb_policy_registry.cc:46]             registering LB policy factory for \"cds_experimental\"\n",
      "D0916 11:38:38.360122717      14 lb_policy_registry.cc:46]             registering LB policy factory for \"xds_cluster_resolver_experimental\"\n",
      "D0916 11:38:38.360126542      14 lb_policy_registry.cc:46]             registering LB policy factory for \"xds_override_host_experimental\"\n",
      "D0916 11:38:38.360130130      14 lb_policy_registry.cc:46]             registering LB policy factory for \"xds_wrr_locality_experimental\"\n",
      "D0916 11:38:38.360135110      14 certificate_provider_registry.cc:35]  registering certificate provider factory for \"file_watcher\"\n",
      "I0916 11:38:38.363944392      14 socket_utils_common_posix.cc:408]     Disabling AF_INET6 sockets because ::1 is not available.\n",
      "I0916 11:38:38.382495202     172 socket_utils_common_posix.cc:337]     TCP_USER_TIMEOUT is available. TCP_USER_TIMEOUT will be used thereafter\n",
      "E0916 11:38:38.388155350     172 oauth2_credentials.cc:236]            oauth_fetch: UNKNOWN:C-ares status is not ARES_SUCCESS qtype=A name=metadata.google.internal. is_balancer=0: Domain name not found {grpc_status:2, created_time:\"2024-09-16T11:38:38.388138394+00:00\"}\n"
     ]
    },
    {
     "name": "stdout",
     "output_type": "stream",
     "text": [
      "Tensorflow version: 2.12.0\n"
     ]
    }
   ],
   "source": [
    "import matplotlib.pyplot as plt\n",
    "import numpy as np\n",
    "import os\n",
    "import random\n",
    "import tensorflow as tf\n",
    "from tensorflow import keras\n",
    "from keras import Sequential\n",
    "from keras.layers import RandomFlip, RandomContrast, GlobalAveragePooling2D, Dense, BatchNormalization, Dropout\n",
    "from keras.applications import EfficientNetV2L as base_m\n",
    "from keras.optimizers import Adam\n",
    "from keras.losses import SparseCategoricalCrossentropy as scc\n",
    "from keras.callbacks import EarlyStopping, LearningRateScheduler, ModelCheckpoint\n",
    "\n",
    "SEED = 154\n",
    "np.random.seed(SEED)\n",
    "tf.random.set_seed(SEED)\n",
    "random.seed(SEED)\n",
    "\n",
    "print(f'Tensorflow version: {tf.__version__}')"
   ]
  },
  {
   "cell_type": "code",
   "execution_count": 2,
   "id": "4e5de951",
   "metadata": {
    "execution": {
     "iopub.execute_input": "2024-09-16T11:38:46.529139Z",
     "iopub.status.busy": "2024-09-16T11:38:46.528606Z",
     "iopub.status.idle": "2024-09-16T11:38:56.412046Z",
     "shell.execute_reply": "2024-09-16T11:38:56.411169Z"
    },
    "papermill": {
     "duration": 9.893587,
     "end_time": "2024-09-16T11:38:56.416514",
     "exception": false,
     "start_time": "2024-09-16T11:38:46.522927",
     "status": "completed"
    },
    "tags": []
   },
   "outputs": [
    {
     "name": "stdout",
     "output_type": "stream",
     "text": [
      "INFO:tensorflow:Deallocate tpu buffers before initializing tpu system.\n",
      "INFO:tensorflow:Initializing the TPU system: local\n",
      "INFO:tensorflow:Finished initializing TPU system.\n",
      "INFO:tensorflow:Found TPU system:\n",
      "INFO:tensorflow:*** Num TPU Cores: 8\n",
      "INFO:tensorflow:*** Num TPU Workers: 1\n",
      "INFO:tensorflow:*** Num TPU Cores Per Worker: 8\n",
      "INFO:tensorflow:*** Available Device: _DeviceAttributes(/job:localhost/replica:0/task:0/device:CPU:0, CPU, 0, 0)\n",
      "INFO:tensorflow:*** Available Device: _DeviceAttributes(/job:localhost/replica:0/task:0/device:TPU:0, TPU, 0, 0)\n",
      "INFO:tensorflow:*** Available Device: _DeviceAttributes(/job:localhost/replica:0/task:0/device:TPU:1, TPU, 0, 0)\n",
      "INFO:tensorflow:*** Available Device: _DeviceAttributes(/job:localhost/replica:0/task:0/device:TPU:2, TPU, 0, 0)\n",
      "INFO:tensorflow:*** Available Device: _DeviceAttributes(/job:localhost/replica:0/task:0/device:TPU:3, TPU, 0, 0)\n",
      "INFO:tensorflow:*** Available Device: _DeviceAttributes(/job:localhost/replica:0/task:0/device:TPU:4, TPU, 0, 0)\n",
      "INFO:tensorflow:*** Available Device: _DeviceAttributes(/job:localhost/replica:0/task:0/device:TPU:5, TPU, 0, 0)\n",
      "INFO:tensorflow:*** Available Device: _DeviceAttributes(/job:localhost/replica:0/task:0/device:TPU:6, TPU, 0, 0)\n",
      "INFO:tensorflow:*** Available Device: _DeviceAttributes(/job:localhost/replica:0/task:0/device:TPU:7, TPU, 0, 0)\n",
      "INFO:tensorflow:*** Available Device: _DeviceAttributes(/job:localhost/replica:0/task:0/device:TPU_SYSTEM:0, TPU_SYSTEM, 0, 0)\n",
      "Running on TPU\n",
      "REPLICAS:  8\n"
     ]
    }
   ],
   "source": [
    "tpu = tf.distribute.cluster_resolver.TPUClusterResolver.connect(tpu=\"local\") # \"local\" for 1VM TPU\n",
    "strategy = tf.distribute.TPUStrategy(tpu)\n",
    "print(\"Running on TPU\")\n",
    "print(\"REPLICAS: \", strategy.num_replicas_in_sync)"
   ]
  },
  {
   "cell_type": "code",
   "execution_count": 3,
   "id": "7b9e0d2b",
   "metadata": {
    "execution": {
     "iopub.execute_input": "2024-09-16T11:38:56.429570Z",
     "iopub.status.busy": "2024-09-16T11:38:56.429232Z",
     "iopub.status.idle": "2024-09-16T11:38:56.493176Z",
     "shell.execute_reply": "2024-09-16T11:38:56.492090Z"
    },
    "papermill": {
     "duration": 0.072708,
     "end_time": "2024-09-16T11:38:56.495347",
     "exception": false,
     "start_time": "2024-09-16T11:38:56.422639",
     "status": "completed"
    },
    "tags": []
   },
   "outputs": [],
   "source": [
    "image_size = (480,480)\n",
    "epochs = 60\n",
    "tf_record_sample_size = 4096\n",
    "batch_size = 128 * strategy.num_replicas_in_sync\n",
    "AUTO = tf.data.experimental.AUTOTUNE\n",
    "train = tf.io.gfile.glob(\"/kaggle/input/*/tfrecords/*.tfrec\")"
   ]
  },
  {
   "cell_type": "code",
   "execution_count": 4,
   "id": "3151ae32",
   "metadata": {
    "execution": {
     "iopub.execute_input": "2024-09-16T11:38:56.509229Z",
     "iopub.status.busy": "2024-09-16T11:38:56.508933Z",
     "iopub.status.idle": "2024-09-16T11:38:56.539635Z",
     "shell.execute_reply": "2024-09-16T11:38:56.538730Z"
    },
    "papermill": {
     "duration": 0.040955,
     "end_time": "2024-09-16T11:38:56.542572",
     "exception": false,
     "start_time": "2024-09-16T11:38:56.501617",
     "status": "completed"
    },
    "tags": []
   },
   "outputs": [],
   "source": [
    "filenames = tf.io.gfile.glob(\"/kaggle/input/*/tfrecords/*.tfrec\")\n",
    "filenames.sort()\n",
    "random.Random(SEED).shuffle(filenames)\n",
    "\n",
    "train_split = 0.8\n",
    "val_split = 0.1\n",
    "\n",
    "num_files = len(filenames)\n",
    "train_end = int(train_split * num_files)\n",
    "val_end = int((train_split + val_split) * num_files)\n",
    "\n",
    "train_filenames = filenames[:train_end]\n",
    "val_filenames = filenames[train_end:val_end]\n",
    "test_filenames = filenames[val_end:]"
   ]
  },
  {
   "cell_type": "code",
   "execution_count": 5,
   "id": "2114e255",
   "metadata": {
    "execution": {
     "iopub.execute_input": "2024-09-16T11:38:56.565731Z",
     "iopub.status.busy": "2024-09-16T11:38:56.565487Z",
     "iopub.status.idle": "2024-09-16T11:38:56.574779Z",
     "shell.execute_reply": "2024-09-16T11:38:56.574064Z"
    },
    "papermill": {
     "duration": 0.023221,
     "end_time": "2024-09-16T11:38:56.577290",
     "exception": false,
     "start_time": "2024-09-16T11:38:56.554069",
     "status": "completed"
    },
    "tags": []
   },
   "outputs": [],
   "source": [
    "# def decode_image(image_data):\n",
    "#     image = tf.image.decode_jpeg(image_data, channels=3)\n",
    "#     image = tf.cast(image, tf.float32) / 255.0\n",
    "#     image = tf.reshape(image, [*image_size, 3])\n",
    "#     return image\n",
    "\n",
    "def read_labeled_tfrecord(example):\n",
    "    LABELED_TFREC_FORMAT = {\n",
    "        \"feature0\": tf.io.FixedLenFeature([], tf.string),\n",
    "        \"feature1\": tf.io.FixedLenFeature([], tf.int64),\n",
    "    }\n",
    "    example = tf.io.parse_single_example(example, LABELED_TFREC_FORMAT)\n",
    "    image = tf.io.decode_jpeg(example['feature0'])\n",
    "    label = tf.cast(example['feature1'], tf.int64)\n",
    "    return image, label\n",
    "\n",
    "def load_dataset(filenames):\n",
    "    dataset = tf.data.TFRecordDataset(filenames, num_parallel_reads=AUTO)\n",
    "#     options = tf.data.Options()\n",
    "#     options.experimental_deterministic = True\n",
    "#     dataset = dataset.with_options(options)\n",
    "    dataset = dataset.map(read_labeled_tfrecord, num_parallel_calls=AUTO)\n",
    "    return dataset\n",
    "\n",
    "def data_augment(image, label):\n",
    "    image = tf.image.stateless_random_flip_left_right(image, seed=(SEED, SEED))\n",
    "    image = tf.image.stateless_random_saturation(image, lower=0.8, upper=2.0, seed=(SEED + 1, SEED + 1))\n",
    "    return image, label\n",
    "\n",
    "def get_dataset(filenames, augment=False, repeat=False):\n",
    "    dataset = load_dataset(filenames)\n",
    "    dataset_size = (len(filenames) - 1) * tf_record_sample_size\n",
    "    if augment:\n",
    "        dataset = dataset.map(data_augment, num_parallel_calls=AUTO)\n",
    "    if repeat:\n",
    "        dataset = dataset.repeat()\n",
    "    dataset = dataset.shuffle(2048, seed=SEED)\n",
    "    dataset = dataset.batch(batch_size)\n",
    "    dataset = dataset.prefetch(AUTO)\n",
    "    return dataset, dataset_size"
   ]
  },
  {
   "cell_type": "code",
   "execution_count": 6,
   "id": "1b75da65",
   "metadata": {
    "execution": {
     "iopub.execute_input": "2024-09-16T11:38:56.589218Z",
     "iopub.status.busy": "2024-09-16T11:38:56.588957Z",
     "iopub.status.idle": "2024-09-16T11:38:56.798910Z",
     "shell.execute_reply": "2024-09-16T11:38:56.797916Z"
    },
    "papermill": {
     "duration": 0.218146,
     "end_time": "2024-09-16T11:38:56.801050",
     "exception": false,
     "start_time": "2024-09-16T11:38:56.582904",
     "status": "completed"
    },
    "tags": []
   },
   "outputs": [],
   "source": [
    "train_ds, train_size = get_dataset(train_filenames, augment=True, repeat=True)\n",
    "val_ds, val_size = get_dataset(val_filenames)\n",
    "test_ds, test_size = get_dataset(test_filenames)"
   ]
  },
  {
   "cell_type": "code",
   "execution_count": 7,
   "id": "1340880c",
   "metadata": {
    "execution": {
     "iopub.execute_input": "2024-09-16T11:38:56.813282Z",
     "iopub.status.busy": "2024-09-16T11:38:56.813024Z",
     "iopub.status.idle": "2024-09-16T11:38:56.818926Z",
     "shell.execute_reply": "2024-09-16T11:38:56.818071Z"
    },
    "papermill": {
     "duration": 0.01443,
     "end_time": "2024-09-16T11:38:56.820610",
     "exception": false,
     "start_time": "2024-09-16T11:38:56.806180",
     "status": "completed"
    },
    "tags": []
   },
   "outputs": [],
   "source": [
    "def create_model():\n",
    "    data_augmentation = Sequential([\n",
    "        RandomFlip('horizontal'),\n",
    "        RandomContrast(0.2),\n",
    "    ])\n",
    "\n",
    "    base_model = base_m(input_shape=(*image_size, 3), include_top=False, weights='imagenet')\n",
    "    base_model.trainable = False\n",
    "\n",
    "    model = Sequential([\n",
    "        data_augmentation,\n",
    "        base_model,\n",
    "        GlobalAveragePooling2D(),\n",
    "        Dense(4096, activation='swish'),\n",
    "        BatchNormalization(),\n",
    "        Dropout(0.4),\n",
    "        Dense(1024, activation='swish'),\n",
    "        BatchNormalization(),\n",
    "        Dropout(0.3),\n",
    "        Dense(1000)\n",
    "    ])\n",
    "\n",
    "    model.compile(\n",
    "        optimizer=Adam(lr_init),\n",
    "        loss=scc(from_logits=True),\n",
    "        metrics=['accuracy']\n",
    "    )\n",
    "    return model"
   ]
  },
  {
   "cell_type": "code",
   "execution_count": 8,
   "id": "25b0a937",
   "metadata": {
    "execution": {
     "iopub.execute_input": "2024-09-16T11:38:56.832247Z",
     "iopub.status.busy": "2024-09-16T11:38:56.832014Z",
     "iopub.status.idle": "2024-09-16T11:38:56.835676Z",
     "shell.execute_reply": "2024-09-16T11:38:56.835015Z"
    },
    "papermill": {
     "duration": 0.011768,
     "end_time": "2024-09-16T11:38:56.837390",
     "exception": false,
     "start_time": "2024-09-16T11:38:56.825622",
     "status": "completed"
    },
    "tags": []
   },
   "outputs": [],
   "source": [
    "lr_init = 0.003\n",
    "es = EarlyStopping(\n",
    "    monitor='val_loss',\n",
    "    patience=8,\n",
    "    min_delta=0.005,\n",
    "    restore_best_weights=True,\n",
    "    verbose=1\n",
    ")"
   ]
  },
  {
   "cell_type": "code",
   "execution_count": 9,
   "id": "e05f953f",
   "metadata": {
    "execution": {
     "iopub.execute_input": "2024-09-16T11:38:56.849030Z",
     "iopub.status.busy": "2024-09-16T11:38:56.848735Z",
     "iopub.status.idle": "2024-09-16T11:38:56.853005Z",
     "shell.execute_reply": "2024-09-16T11:38:56.852317Z"
    },
    "papermill": {
     "duration": 0.011939,
     "end_time": "2024-09-16T11:38:56.854714",
     "exception": false,
     "start_time": "2024-09-16T11:38:56.842775",
     "status": "completed"
    },
    "tags": []
   },
   "outputs": [],
   "source": [
    "def schedule(epoch,lr):\n",
    "    if epoch < 10:\n",
    "        return (epoch+1)*lr_init/10\n",
    "    elif epoch < 20:\n",
    "        return lr\n",
    "    return lr * tf.math.exp(-0.1)\n",
    "lr_scheduler = LearningRateScheduler(schedule,verbose=1)"
   ]
  },
  {
   "cell_type": "code",
   "execution_count": 10,
   "id": "d61ca3fe",
   "metadata": {
    "execution": {
     "iopub.execute_input": "2024-09-16T11:38:56.866348Z",
     "iopub.status.busy": "2024-09-16T11:38:56.866122Z",
     "iopub.status.idle": "2024-09-16T11:38:57.177206Z",
     "shell.execute_reply": "2024-09-16T11:38:57.176351Z"
    },
    "papermill": {
     "duration": 0.319235,
     "end_time": "2024-09-16T11:38:57.179261",
     "exception": false,
     "start_time": "2024-09-16T11:38:56.860026",
     "status": "completed"
    },
    "tags": []
   },
   "outputs": [
    {
     "data": {
      "image/png": "[encoded data removed]",
      "text/plain": [
       "<Figure size 640x480 with 1 Axes>"
      ]
     },
     "metadata": {},
     "output_type": "display_data"
    }
   ],
   "source": [
    "lr = 0.003\n",
    "x = list(range(100))\n",
    "y = []\n",
    "for i in range(100):\n",
    "    lr = schedule(i + 1, lr)\n",
    "    y.append(lr)\n",
    "\n",
    "plt.plot(x, y, c=\"c\")\n",
    "plt.xlabel(\"Epoch\")\n",
    "plt.ylabel(\"Learning Rate\")\n",
    "plt.title(\"Learning Rate Schedule\")\n",
    "plt.show()"
   ]
  },
  {
   "cell_type": "code",
   "execution_count": 11,
   "id": "24089521",
   "metadata": {
    "execution": {
     "iopub.execute_input": "2024-09-16T11:38:57.192703Z",
     "iopub.status.busy": "2024-09-16T11:38:57.192435Z",
     "iopub.status.idle": "2024-09-16T11:38:57.197090Z",
     "shell.execute_reply": "2024-09-16T11:38:57.196352Z"
    },
    "papermill": {
     "duration": 0.01348,
     "end_time": "2024-09-16T11:38:57.198936",
     "exception": false,
     "start_time": "2024-09-16T11:38:57.185456",
     "status": "completed"
    },
    "tags": []
   },
   "outputs": [],
   "source": [
    "if not os.path.exists(\"chkpts\"):\n",
    "    os.makedirs(\"chkpts\")\n",
    "    \n",
    "checkpoint_filepath = 'chkpts/best_loss_model.h5'\n",
    "model_checkpoint_callback = ModelCheckpoint(\n",
    "    filepath=checkpoint_filepath,\n",
    "    monitor='val_loss',\n",
    "    mode='min',\n",
    "    save_best_only=True,\n",
    "    save_format='h5'\n",
    ")"
   ]
  },
  {
   "cell_type": "code",
   "execution_count": 12,
   "id": "89ed6f33",
   "metadata": {
    "execution": {
     "iopub.execute_input": "2024-09-16T11:38:57.211527Z",
     "iopub.status.busy": "2024-09-16T11:38:57.211273Z",
     "iopub.status.idle": "2024-09-16T11:38:57.216994Z",
     "shell.execute_reply": "2024-09-16T11:38:57.216252Z"
    },
    "papermill": {
     "duration": 0.014377,
     "end_time": "2024-09-16T11:38:57.218808",
     "exception": false,
     "start_time": "2024-09-16T11:38:57.204431",
     "status": "completed"
    },
    "tags": []
   },
   "outputs": [],
   "source": [
    "def plot_history(history):\n",
    "    acc = history.history['accuracy']\n",
    "    val_acc = history.history['val_accuracy']\n",
    "    loss = history.history['loss']\n",
    "    val_loss = history.history['val_loss']\n",
    "\n",
    "    plt.figure(figsize=(12, 6))\n",
    "\n",
    "    plt.subplot(1, 2, 1)\n",
    "    plt.plot(acc, label='Training Accuracy')\n",
    "    plt.plot(val_acc, label='Validation Accuracy')\n",
    "    plt.legend(loc='lower right')\n",
    "    plt.title('Training and Validation Accuracy')\n",
    "\n",
    "    plt.subplot(1, 2, 2)\n",
    "    plt.plot(loss, label='Training Loss')\n",
    "    plt.plot(val_loss, label='Validation Loss')\n",
    "    plt.legend(loc='upper right')\n",
    "    plt.title('Training and Validation Loss')\n",
    "    plt.show()"
   ]
  },
  {
   "cell_type": "code",
   "execution_count": 13,
   "id": "14e8c90d",
   "metadata": {
    "execution": {
     "iopub.execute_input": "2024-09-16T11:38:57.232025Z",
     "iopub.status.busy": "2024-09-16T11:38:57.231779Z",
     "iopub.status.idle": "2024-09-16T11:40:17.064221Z",
     "shell.execute_reply": "2024-09-16T11:40:17.062858Z"
    },
    "papermill": {
     "duration": 79.841869,
     "end_time": "2024-09-16T11:40:17.066891",
     "exception": false,
     "start_time": "2024-09-16T11:38:57.225022",
     "status": "completed"
    },
    "tags": []
   },
   "outputs": [],
   "source": [
    "with strategy.scope():\n",
    "    model = keras.models.load_model(\"/kaggle/input/birdly-main-trainer-phase-3/model.h5\")\n",
    "#     model = create_model()"
   ]
  },
  {
   "cell_type": "code",
   "execution_count": 14,
   "id": "fd5a7eec",
   "metadata": {
    "execution": {
     "iopub.execute_input": "2024-09-16T11:40:17.080106Z",
     "iopub.status.busy": "2024-09-16T11:40:17.079807Z",
     "iopub.status.idle": "2024-09-16T11:40:17.084156Z",
     "shell.execute_reply": "2024-09-16T11:40:17.083305Z"
    },
    "papermill": {
     "duration": 0.013118,
     "end_time": "2024-09-16T11:40:17.085923",
     "exception": false,
     "start_time": "2024-09-16T11:40:17.072805",
     "status": "completed"
    },
    "tags": []
   },
   "outputs": [],
   "source": [
    "steps_per_epoch = train_size // batch_size\n",
    "validation_steps = val_size // batch_size"
   ]
  },
  {
   "cell_type": "code",
   "execution_count": 15,
   "id": "ff72754e",
   "metadata": {
    "execution": {
     "iopub.execute_input": "2024-09-16T11:40:17.098884Z",
     "iopub.status.busy": "2024-09-16T11:40:17.098615Z",
     "iopub.status.idle": "2024-09-16T19:41:48.761942Z",
     "shell.execute_reply": "2024-09-16T19:41:48.760752Z"
    },
    "papermill": {
     "duration": 28891.825385,
     "end_time": "2024-09-16T19:41:48.916948",
     "exception": false,
     "start_time": "2024-09-16T11:40:17.091563",
     "status": "completed"
    },
    "tags": []
   },
   "outputs": [
    {
     "name": "stdout",
     "output_type": "stream",
     "text": [
      "\n",
      "Epoch 37: LearningRateScheduler setting learning rate to 0.0005480506806634367.\n",
      "Epoch 37/60\n"
     ]
    },
    {
     "name": "stderr",
     "output_type": "stream",
     "text": [
      "2024-09-16 11:40:38.029524: E tensorflow/core/grappler/optimizers/meta_optimizer.cc:954] model_pruner failed: INVALID_ARGUMENT: Graph does not contain terminal node Adam/Adam/AssignAddVariableOp.\n",
      "2024-09-16 11:40:39.616287: E tensorflow/core/grappler/optimizers/meta_optimizer.cc:954] model_pruner failed: INVALID_ARGUMENT: Graph does not contain terminal node Adam/Adam/AssignAddVariableOp.\n"
     ]
    },
    {
     "name": "stdout",
     "output_type": "stream",
     "text": [
      "644/644 [==============================] - ETA: 0s - loss: 0.4643 - accuracy: 0.8565"
     ]
    },
    {
     "name": "stderr",
     "output_type": "stream",
     "text": [
      "2024-09-16 11:59:25.358337: E tensorflow/core/grappler/optimizers/meta_optimizer.cc:954] model_pruner failed: INVALID_ARGUMENT: Graph does not contain terminal node AssignAddVariableOp.\n",
      "2024-09-16 11:59:26.164353: E tensorflow/core/grappler/optimizers/meta_optimizer.cc:954] model_pruner failed: INVALID_ARGUMENT: Graph does not contain terminal node AssignAddVariableOp.\n"
     ]
    },
    {
     "name": "stdout",
     "output_type": "stream",
     "text": [
      "644/644 [==============================] - 1293s 2s/step - loss: 0.4643 - accuracy: 0.8565 - val_loss: 0.6424 - val_accuracy: 0.8314 - lr: 5.4805e-04\n",
      "\n",
      "Epoch 38: LearningRateScheduler setting learning rate to 0.0004958967911079526.\n",
      "Epoch 38/60\n",
      "644/644 [==============================] - 1184s 2s/step - loss: 0.4662 - accuracy: 0.8553 - val_loss: 0.6356 - val_accuracy: 0.8333 - lr: 4.9590e-04\n",
      "\n",
      "Epoch 39: LearningRateScheduler setting learning rate to 0.00044870597776025534.\n",
      "Epoch 39/60\n",
      "644/644 [==============================] - 1188s 2s/step - loss: 0.4607 - accuracy: 0.8567 - val_loss: 0.6241 - val_accuracy: 0.8358 - lr: 4.4871e-04\n",
      "\n",
      "Epoch 40: LearningRateScheduler setting learning rate to 0.00040600597276352346.\n",
      "Epoch 40/60\n",
      "644/644 [==============================] - 1179s 2s/step - loss: 0.4568 - accuracy: 0.8579 - val_loss: 0.6214 - val_accuracy: 0.8371 - lr: 4.0601e-04\n",
      "\n",
      "Epoch 41: LearningRateScheduler setting learning rate to 0.00036736938636749983.\n",
      "Epoch 41/60\n",
      "644/644 [==============================] - 1180s 2s/step - loss: 0.4518 - accuracy: 0.8593 - val_loss: 0.6192 - val_accuracy: 0.8384 - lr: 3.6737e-04\n",
      "\n",
      "Epoch 42: LearningRateScheduler setting learning rate to 0.00033240957418456674.\n",
      "Epoch 42/60\n",
      "644/644 [==============================] - 1192s 2s/step - loss: 0.4480 - accuracy: 0.8599 - val_loss: 0.6129 - val_accuracy: 0.8394 - lr: 3.3241e-04\n",
      "\n",
      "Epoch 43: LearningRateScheduler setting learning rate to 0.0003007766208611429.\n",
      "Epoch 43/60\n",
      "644/644 [==============================] - 1203s 2s/step - loss: 0.4457 - accuracy: 0.8606 - val_loss: 0.6111 - val_accuracy: 0.8407 - lr: 3.0078e-04\n",
      "\n",
      "Epoch 44: LearningRateScheduler setting learning rate to 0.0002721539349295199.\n",
      "Epoch 44/60\n",
      "644/644 [==============================] - 1207s 2s/step - loss: 0.4428 - accuracy: 0.8616 - val_loss: 0.6092 - val_accuracy: 0.8413 - lr: 2.7215e-04\n",
      "\n",
      "Epoch 45: LearningRateScheduler setting learning rate to 0.0002462550764903426.\n",
      "Epoch 45/60\n",
      "644/644 [==============================] - 1213s 2s/step - loss: 0.4403 - accuracy: 0.8625 - val_loss: 0.6061 - val_accuracy: 0.8416 - lr: 2.4626e-04\n",
      "\n",
      "Epoch 46: LearningRateScheduler setting learning rate to 0.0002228208031738177.\n",
      "Epoch 46/60\n",
      "644/644 [==============================] - 1208s 2s/step - loss: 0.4373 - accuracy: 0.8632 - val_loss: 0.6052 - val_accuracy: 0.8422 - lr: 2.2282e-04\n",
      "\n",
      "Epoch 47: LearningRateScheduler setting learning rate to 0.00020161659631412476.\n",
      "Epoch 47/60\n",
      "644/644 [==============================] - 1208s 2s/step - loss: 0.4374 - accuracy: 0.8630 - val_loss: 0.6027 - val_accuracy: 0.8428 - lr: 2.0162e-04\n",
      "\n",
      "Epoch 48: LearningRateScheduler setting learning rate to 0.00018243024533148855.\n",
      "Epoch 48/60\n",
      "644/644 [==============================] - 1205s 2s/step - loss: 0.4357 - accuracy: 0.8634 - val_loss: 0.6032 - val_accuracy: 0.8428 - lr: 1.8243e-04\n",
      "\n",
      "Epoch 49: LearningRateScheduler setting learning rate to 0.0001650697086006403.\n",
      "Epoch 49/60\n",
      "644/644 [==============================] - 1209s 2s/step - loss: 0.4401 - accuracy: 0.8616 - val_loss: 0.6021 - val_accuracy: 0.8426 - lr: 1.6507e-04\n",
      "\n",
      "Epoch 50: LearningRateScheduler setting learning rate to 0.00014936125080566853.\n",
      "Epoch 50/60\n",
      "644/644 [==============================] - 1196s 2s/step - loss: 0.4377 - accuracy: 0.8624 - val_loss: 0.6024 - val_accuracy: 0.8435 - lr: 1.4936e-04\n",
      "\n",
      "Epoch 51: LearningRateScheduler setting learning rate to 0.00013514765305444598.\n",
      "Epoch 51/60\n",
      "644/644 [==============================] - 1201s 2s/step - loss: 0.4362 - accuracy: 0.8629 - val_loss: 0.6025 - val_accuracy: 0.8432 - lr: 1.3515e-04\n",
      "\n",
      "Epoch 52: LearningRateScheduler setting learning rate to 0.00012228665582370013.\n",
      "Epoch 52/60\n",
      "644/644 [==============================] - 1206s 2s/step - loss: 0.4347 - accuracy: 0.8635 - val_loss: 0.6019 - val_accuracy: 0.8436 - lr: 1.2229e-04\n",
      "\n",
      "Epoch 53: LearningRateScheduler setting learning rate to 0.00011064954014727846.\n",
      "Epoch 53/60\n",
      "644/644 [==============================] - 1209s 2s/step - loss: 0.4365 - accuracy: 0.8627 - val_loss: 0.6000 - val_accuracy: 0.8436 - lr: 1.1065e-04\n",
      "\n",
      "Epoch 54: LearningRateScheduler setting learning rate to 0.00010011984704760835.\n",
      "Epoch 54/60\n",
      "644/644 [==============================] - 1197s 2s/step - loss: 0.4352 - accuracy: 0.8637 - val_loss: 0.6001 - val_accuracy: 0.8436 - lr: 1.0012e-04\n",
      "\n",
      "Epoch 55: LearningRateScheduler setting learning rate to 9.059218427864835e-05.\n",
      "Epoch 55/60\n",
      "644/644 [==============================] - 1194s 2s/step - loss: 0.4346 - accuracy: 0.8635 - val_loss: 0.6007 - val_accuracy: 0.8435 - lr: 9.0592e-05\n",
      "\n",
      "Epoch 56: LearningRateScheduler setting learning rate to 8.197120041586459e-05.\n",
      "Epoch 56/60\n",
      "644/644 [==============================] - 1205s 2s/step - loss: 0.4338 - accuracy: 0.8634 - val_loss: 0.5996 - val_accuracy: 0.8437 - lr: 8.1971e-05\n",
      "\n",
      "Epoch 57: LearningRateScheduler setting learning rate to 7.417060987791047e-05.\n",
      "Epoch 57/60\n",
      "644/644 [==============================] - 1199s 2s/step - loss: 0.4319 - accuracy: 0.8642 - val_loss: 0.6009 - val_accuracy: 0.8436 - lr: 7.4171e-05\n",
      "\n",
      "Epoch 58: LearningRateScheduler setting learning rate to 6.711234163958579e-05.\n",
      "Epoch 58/60\n",
      "644/644 [==============================] - 1204s 2s/step - loss: 0.4330 - accuracy: 0.8636 - val_loss: 0.6004 - val_accuracy: 0.8435 - lr: 6.7112e-05\n",
      "\n",
      "Epoch 59: LearningRateScheduler setting learning rate to 6.072575706639327e-05.\n",
      "Epoch 59/60\n",
      "644/644 [==============================] - 1208s 2s/step - loss: 0.4323 - accuracy: 0.8639 - val_loss: 0.5989 - val_accuracy: 0.8433 - lr: 6.0726e-05\n",
      "\n",
      "Epoch 60: LearningRateScheduler setting learning rate to 5.49469368706923e-05.\n",
      "Epoch 60/60\n",
      "644/644 [==============================] - 1201s 2s/step - loss: 0.4315 - accuracy: 0.8639 - val_loss: 0.6017 - val_accuracy: 0.8431 - lr: 5.4947e-05\n"
     ]
    }
   ],
   "source": [
    "history = model.fit(\n",
    "    train_ds,\n",
    "    initial_epoch = 36,\n",
    "    epochs=epochs,\n",
    "    validation_data=val_ds,\n",
    "    steps_per_epoch=steps_per_epoch,\n",
    "    validation_steps=validation_steps,\n",
    "    callbacks=[es, model_checkpoint_callback, lr_scheduler]\n",
    ")"
   ]
  },
  {
   "cell_type": "code",
   "execution_count": 16,
   "id": "e4419bd1",
   "metadata": {
    "execution": {
     "iopub.execute_input": "2024-09-16T19:41:50.886488Z",
     "iopub.status.busy": "2024-09-16T19:41:50.886148Z",
     "iopub.status.idle": "2024-09-16T19:41:51.317116Z",
     "shell.execute_reply": "2024-09-16T19:41:51.316027Z"
    },
    "papermill": {
     "duration": 1.394671,
     "end_time": "2024-09-16T19:41:51.319059",
     "exception": false,
     "start_time": "2024-09-16T19:41:49.924388",
     "status": "completed"
    },
    "tags": []
   },
   "outputs": [
    {
     "data": {
      "image/png": "[encoded data removed]",
      "text/plain": [
       "<Figure size 1200x600 with 2 Axes>"
      ]
     },
     "metadata": {},
     "output_type": "display_data"
    }
   ],
   "source": [
    "plot_history(history)"
   ]
  },
  {
   "cell_type": "code",
   "execution_count": 17,
   "id": "f6c2b81e",
   "metadata": {
    "execution": {
     "iopub.execute_input": "2024-09-16T19:41:53.203373Z",
     "iopub.status.busy": "2024-09-16T19:41:53.202405Z",
     "iopub.status.idle": "2024-09-16T19:41:58.488031Z",
     "shell.execute_reply": "2024-09-16T19:41:58.486768Z"
    },
    "papermill": {
     "duration": 6.291239,
     "end_time": "2024-09-16T19:41:58.490548",
     "exception": false,
     "start_time": "2024-09-16T19:41:52.199309",
     "status": "completed"
    },
    "tags": []
   },
   "outputs": [],
   "source": [
    "model.save('model.h5')"
   ]
  },
  {
   "cell_type": "code",
   "execution_count": 18,
   "id": "50a3d484",
   "metadata": {
    "execution": {
     "iopub.execute_input": "2024-09-16T19:42:00.211252Z",
     "iopub.status.busy": "2024-09-16T19:42:00.210929Z",
     "iopub.status.idle": "2024-09-16T19:42:00.216314Z",
     "shell.execute_reply": "2024-09-16T19:42:00.215301Z"
    },
    "papermill": {
     "duration": 0.869647,
     "end_time": "2024-09-16T19:42:00.218097",
     "exception": false,
     "start_time": "2024-09-16T19:41:59.348450",
     "status": "completed"
    },
    "tags": []
   },
   "outputs": [],
   "source": [
    "import pickle\n",
    "\n",
    "with open('train_history.pkl', 'wb') as file_pi:\n",
    "    pickle.dump(history.history, file_pi)"
   ]
  },
  {
   "cell_type": "code",
   "execution_count": 19,
   "id": "2b773a46",
   "metadata": {
    "execution": {
     "iopub.execute_input": "2024-09-16T19:42:02.088195Z",
     "iopub.status.busy": "2024-09-16T19:42:02.087848Z",
     "iopub.status.idle": "2024-09-16T19:43:57.574178Z",
     "shell.execute_reply": "2024-09-16T19:43:57.573147Z"
    },
    "papermill": {
     "duration": 116.39238,
     "end_time": "2024-09-16T19:43:57.576257",
     "exception": false,
     "start_time": "2024-09-16T19:42:01.183877",
     "status": "completed"
    },
    "tags": []
   },
   "outputs": [
    {
     "name": "stdout",
     "output_type": "stream",
     "text": [
      "80/80 [==============================] - 115s 1s/step - loss: 0.6679 - accuracy: 0.8202\n",
      "Test Loss: 0.67\n",
      "Test Accuracy: 82.02%\n"
     ]
    }
   ],
   "source": [
    "test_steps = test_size // batch_size\n",
    "if test_size % batch_size != 0:\n",
    "    test_steps += 1\n",
    "\n",
    "test_loss, test_accuracy = model.evaluate(test_ds, steps=test_steps)\n",
    "\n",
    "test_loss = round(test_loss, 2)\n",
    "test_accuracy = round(test_accuracy * 100, 2)\n",
    "\n",
    "print(f\"Test Loss: {test_loss}\")\n",
    "print(f\"Test Accuracy: {test_accuracy}%\")"
   ]
  },
  {
   "cell_type": "code",
   "execution_count": null,
   "id": "7543821c",
   "metadata": {
    "papermill": {
     "duration": 0.960071,
     "end_time": "2024-09-16T19:43:59.434101",
     "exception": false,
     "start_time": "2024-09-16T19:43:58.474030",
     "status": "completed"
    },
    "tags": []
   },
   "outputs": [],
   "source": []
  }
 ],
 "metadata": {
  "kaggle": {
   "accelerator": "tpu1vmV38",
   "dataSources": [
    {
     "sourceId": 145960787,
     "sourceType": "kernelVersion"
    },
    {
     "sourceId": 145978028,
     "sourceType": "kernelVersion"
    },
    {
     "sourceId": 158734309,
     "sourceType": "kernelVersion"
    },
    {
     "sourceId": 158734313,
     "sourceType": "kernelVersion"
    },
    {
     "sourceId": 196845968,
     "sourceType": "kernelVersion"
    }
   ],
   "dockerImageVersionId": 30529,
   "isGpuEnabled": false,
   "isInternetEnabled": true,
   "language": "python",
   "sourceType": "notebook"
  },
  "kernelspec": {
   "display_name": "Python 3",
   "language": "python",
   "name": "python3"
  },
  "language_info": {
   "codemirror_mode": {
    "name": "ipython",
    "version": 3
   },
   "file_extension": ".py",
   "mimetype": "text/x-python",
   "name": "python",
   "nbconvert_exporter": "python",
   "pygments_lexer": "ipython3",
   "version": "3.8.17"
  },
  "papermill": {
   "default_parameters": {},
   "duration": 29168.020107,
   "end_time": "2024-09-16T19:44:11.094755",
   "environment_variables": {},
   "exception": null,
   "input_path": "__notebook__.ipynb",
   "output_path": "__notebook__.ipynb",
   "parameters": {},
   "start_time": "2024-09-16T11:38:03.074648",
   "version": "2.4.0"
  }
 },
 "nbformat": 4,
 "nbformat_minor": 5
}
