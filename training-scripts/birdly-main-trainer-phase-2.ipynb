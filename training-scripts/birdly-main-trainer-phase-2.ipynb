{
 "cells": [
  {
   "cell_type": "code",
   "execution_count": 1,
   "id": "fd857339",
   "metadata": {
    "_cell_guid": "b1076dfc-b9ad-4769-8c92-a6c4dae69d19",
    "_uuid": "8f2839f25d086af736a60e9eeb907d3b93b6e0e5",
    "execution": {
     "iopub.execute_input": "2024-09-15T22:03:45.730968Z",
     "iopub.status.busy": "2024-09-15T22:03:45.730606Z",
     "iopub.status.idle": "2024-09-15T22:04:25.177768Z",
     "shell.execute_reply": "2024-09-15T22:04:25.176914Z"
    },
    "papermill": {
     "duration": 39.456142,
     "end_time": "2024-09-15T22:04:25.179866",
     "exception": false,
     "start_time": "2024-09-15T22:03:45.723724",
     "status": "completed"
    },
    "tags": []
   },
   "outputs": [
    {
     "name": "stderr",
     "output_type": "stream",
     "text": [
      "D0915 22:04:17.952175718      15 config.cc:119]                        gRPC EXPERIMENT tcp_frame_size_tuning               OFF (default:OFF)\n",
      "D0915 22:04:17.952202703      15 config.cc:119]                        gRPC EXPERIMENT tcp_rcv_lowat                       OFF (default:OFF)\n",
      "D0915 22:04:17.952206112      15 config.cc:119]                        gRPC EXPERIMENT peer_state_based_framing            OFF (default:OFF)\n",
      "D0915 22:04:17.952208868      15 config.cc:119]                        gRPC EXPERIMENT flow_control_fixes                  ON  (default:ON)\n",
      "D0915 22:04:17.952211801      15 config.cc:119]                        gRPC EXPERIMENT memory_pressure_controller          OFF (default:OFF)\n",
      "D0915 22:04:17.952214457      15 config.cc:119]                        gRPC EXPERIMENT unconstrained_max_quota_buffer_size OFF (default:OFF)\n",
      "D0915 22:04:17.952217000      15 config.cc:119]                        gRPC EXPERIMENT new_hpack_huffman_decoder           ON  (default:ON)\n",
      "D0915 22:04:17.952219264      15 config.cc:119]                        gRPC EXPERIMENT event_engine_client                 OFF (default:OFF)\n",
      "D0915 22:04:17.952221570      15 config.cc:119]                        gRPC EXPERIMENT monitoring_experiment               ON  (default:ON)\n",
      "D0915 22:04:17.952224020      15 config.cc:119]                        gRPC EXPERIMENT promise_based_client_call           OFF (default:OFF)\n",
      "D0915 22:04:17.952226457      15 config.cc:119]                        gRPC EXPERIMENT free_large_allocator                OFF (default:OFF)\n",
      "D0915 22:04:17.952233737      15 config.cc:119]                        gRPC EXPERIMENT promise_based_server_call           OFF (default:OFF)\n",
      "D0915 22:04:17.952236343      15 config.cc:119]                        gRPC EXPERIMENT transport_supplies_client_latency   OFF (default:OFF)\n",
      "D0915 22:04:17.952238726      15 config.cc:119]                        gRPC EXPERIMENT event_engine_listener               OFF (default:OFF)\n",
      "I0915 22:04:17.952498599      15 ev_epoll1_linux.cc:122]               grpc epoll fd: 58\n",
      "D0915 22:04:17.952595723      15 ev_posix.cc:144]                      Using polling engine: epoll1\n",
      "D0915 22:04:17.952663578      15 dns_resolver_ares.cc:822]             Using ares dns resolver\n",
      "D0915 22:04:17.953159870      15 lb_policy_registry.cc:46]             registering LB policy factory for \"priority_experimental\"\n",
      "D0915 22:04:17.953174617      15 lb_policy_registry.cc:46]             registering LB policy factory for \"outlier_detection_experimental\"\n",
      "D0915 22:04:17.953178875      15 lb_policy_registry.cc:46]             registering LB policy factory for \"weighted_target_experimental\"\n",
      "D0915 22:04:17.953182586      15 lb_policy_registry.cc:46]             registering LB policy factory for \"pick_first\"\n",
      "D0915 22:04:17.953186428      15 lb_policy_registry.cc:46]             registering LB policy factory for \"round_robin\"\n",
      "D0915 22:04:17.953189976      15 lb_policy_registry.cc:46]             registering LB policy factory for \"weighted_round_robin_experimental\"\n",
      "D0915 22:04:17.953199680      15 lb_policy_registry.cc:46]             registering LB policy factory for \"ring_hash_experimental\"\n",
      "D0915 22:04:17.953223013      15 lb_policy_registry.cc:46]             registering LB policy factory for \"grpclb\"\n",
      "D0915 22:04:17.953265463      15 lb_policy_registry.cc:46]             registering LB policy factory for \"rls_experimental\"\n",
      "D0915 22:04:17.953285245      15 lb_policy_registry.cc:46]             registering LB policy factory for \"xds_cluster_manager_experimental\"\n",
      "D0915 22:04:17.953289819      15 lb_policy_registry.cc:46]             registering LB policy factory for \"xds_cluster_impl_experimental\"\n",
      "D0915 22:04:17.953293402      15 lb_policy_registry.cc:46]             registering LB policy factory for \"cds_experimental\"\n",
      "D0915 22:04:17.953302356      15 lb_policy_registry.cc:46]             registering LB policy factory for \"xds_cluster_resolver_experimental\"\n",
      "D0915 22:04:17.953306162      15 lb_policy_registry.cc:46]             registering LB policy factory for \"xds_override_host_experimental\"\n",
      "D0915 22:04:17.953310312      15 lb_policy_registry.cc:46]             registering LB policy factory for \"xds_wrr_locality_experimental\"\n",
      "D0915 22:04:17.953315556      15 certificate_provider_registry.cc:35]  registering certificate provider factory for \"file_watcher\"\n",
      "I0915 22:04:17.957522885      15 socket_utils_common_posix.cc:408]     Disabling AF_INET6 sockets because ::1 is not available.\n",
      "I0915 22:04:17.974708340     173 socket_utils_common_posix.cc:337]     TCP_USER_TIMEOUT is available. TCP_USER_TIMEOUT will be used thereafter\n",
      "E0915 22:04:17.980432624     173 oauth2_credentials.cc:236]            oauth_fetch: UNKNOWN:C-ares status is not ARES_SUCCESS qtype=A name=metadata.google.internal. is_balancer=0: Domain name not found {created_time:\"2024-09-15T22:04:17.980418085+00:00\", grpc_status:2}\n"
     ]
    },
    {
     "name": "stdout",
     "output_type": "stream",
     "text": [
      "Tensorflow version: 2.12.0\n"
     ]
    }
   ],
   "source": [
    "import matplotlib.pyplot as plt\n",
    "import numpy as np\n",
    "import os\n",
    "import random\n",
    "import tensorflow as tf\n",
    "from tensorflow import keras\n",
    "from keras import Sequential\n",
    "from keras.layers import RandomFlip, RandomContrast, GlobalAveragePooling2D, Dense, BatchNormalization, Dropout\n",
    "from keras.applications import EfficientNetV2L as base_m\n",
    "from keras.optimizers import Adam\n",
    "from keras.losses import SparseCategoricalCrossentropy as scc\n",
    "from keras.callbacks import EarlyStopping, LearningRateScheduler, ModelCheckpoint\n",
    "\n",
    "SEED = 154\n",
    "np.random.seed(SEED)\n",
    "tf.random.set_seed(SEED)\n",
    "random.seed(SEED)\n",
    "\n",
    "print(f'Tensorflow version: {tf.__version__}')"
   ]
  },
  {
   "cell_type": "code",
   "execution_count": 2,
   "id": "c2b96c61",
   "metadata": {
    "execution": {
     "iopub.execute_input": "2024-09-15T22:04:25.190414Z",
     "iopub.status.busy": "2024-09-15T22:04:25.189949Z",
     "iopub.status.idle": "2024-09-15T22:04:33.299435Z",
     "shell.execute_reply": "2024-09-15T22:04:33.298581Z"
    },
    "papermill": {
     "duration": 8.120422,
     "end_time": "2024-09-15T22:04:33.304918",
     "exception": false,
     "start_time": "2024-09-15T22:04:25.184496",
     "status": "completed"
    },
    "tags": []
   },
   "outputs": [
    {
     "name": "stdout",
     "output_type": "stream",
     "text": [
      "INFO:tensorflow:Deallocate tpu buffers before initializing tpu system.\n",
      "INFO:tensorflow:Initializing the TPU system: local\n",
      "INFO:tensorflow:Finished initializing TPU system.\n",
      "INFO:tensorflow:Found TPU system:\n",
      "INFO:tensorflow:*** Num TPU Cores: 8\n",
      "INFO:tensorflow:*** Num TPU Workers: 1\n",
      "INFO:tensorflow:*** Num TPU Cores Per Worker: 8\n",
      "INFO:tensorflow:*** Available Device: _DeviceAttributes(/job:localhost/replica:0/task:0/device:CPU:0, CPU, 0, 0)\n",
      "INFO:tensorflow:*** Available Device: _DeviceAttributes(/job:localhost/replica:0/task:0/device:TPU:0, TPU, 0, 0)\n",
      "INFO:tensorflow:*** Available Device: _DeviceAttributes(/job:localhost/replica:0/task:0/device:TPU:1, TPU, 0, 0)\n",
      "INFO:tensorflow:*** Available Device: _DeviceAttributes(/job:localhost/replica:0/task:0/device:TPU:2, TPU, 0, 0)\n",
      "INFO:tensorflow:*** Available Device: _DeviceAttributes(/job:localhost/replica:0/task:0/device:TPU:3, TPU, 0, 0)\n",
      "INFO:tensorflow:*** Available Device: _DeviceAttributes(/job:localhost/replica:0/task:0/device:TPU:4, TPU, 0, 0)\n",
      "INFO:tensorflow:*** Available Device: _DeviceAttributes(/job:localhost/replica:0/task:0/device:TPU:5, TPU, 0, 0)\n",
      "INFO:tensorflow:*** Available Device: _DeviceAttributes(/job:localhost/replica:0/task:0/device:TPU:6, TPU, 0, 0)\n",
      "INFO:tensorflow:*** Available Device: _DeviceAttributes(/job:localhost/replica:0/task:0/device:TPU:7, TPU, 0, 0)\n",
      "INFO:tensorflow:*** Available Device: _DeviceAttributes(/job:localhost/replica:0/task:0/device:TPU_SYSTEM:0, TPU_SYSTEM, 0, 0)\n",
      "Running on TPU\n",
      "REPLICAS:  8\n"
     ]
    }
   ],
   "source": [
    "tpu = tf.distribute.cluster_resolver.TPUClusterResolver.connect(tpu=\"local\") # \"local\" for 1VM TPU\n",
    "strategy = tf.distribute.TPUStrategy(tpu)\n",
    "print(\"Running on TPU\")\n",
    "print(\"REPLICAS: \", strategy.num_replicas_in_sync)"
   ]
  },
  {
   "cell_type": "code",
   "execution_count": 3,
   "id": "354c07e4",
   "metadata": {
    "execution": {
     "iopub.execute_input": "2024-09-15T22:04:33.318691Z",
     "iopub.status.busy": "2024-09-15T22:04:33.317856Z",
     "iopub.status.idle": "2024-09-15T22:04:33.370926Z",
     "shell.execute_reply": "2024-09-15T22:04:33.369789Z"
    },
    "papermill": {
     "duration": 0.062254,
     "end_time": "2024-09-15T22:04:33.373017",
     "exception": false,
     "start_time": "2024-09-15T22:04:33.310763",
     "status": "completed"
    },
    "tags": []
   },
   "outputs": [],
   "source": [
    "image_size = (480,480)\n",
    "epochs = 24\n",
    "tf_record_sample_size = 4096\n",
    "batch_size = 128 * strategy.num_replicas_in_sync\n",
    "AUTO = tf.data.experimental.AUTOTUNE\n",
    "train = tf.io.gfile.glob(\"/kaggle/input/*/tfrecords/*.tfrec\")"
   ]
  },
  {
   "cell_type": "code",
   "execution_count": 4,
   "id": "8c61e1a8",
   "metadata": {
    "execution": {
     "iopub.execute_input": "2024-09-15T22:04:33.387234Z",
     "iopub.status.busy": "2024-09-15T22:04:33.386915Z",
     "iopub.status.idle": "2024-09-15T22:04:33.419889Z",
     "shell.execute_reply": "2024-09-15T22:04:33.418820Z"
    },
    "papermill": {
     "duration": 0.043021,
     "end_time": "2024-09-15T22:04:33.422049",
     "exception": false,
     "start_time": "2024-09-15T22:04:33.379028",
     "status": "completed"
    },
    "tags": []
   },
   "outputs": [],
   "source": [
    "filenames = tf.io.gfile.glob(\"/kaggle/input/*/tfrecords/*.tfrec\")\n",
    "filenames.sort()\n",
    "random.Random(SEED).shuffle(filenames)\n",
    "\n",
    "train_split = 0.8\n",
    "val_split = 0.1\n",
    "\n",
    "num_files = len(filenames)\n",
    "train_end = int(train_split * num_files)\n",
    "val_end = int((train_split + val_split) * num_files)\n",
    "\n",
    "train_filenames = filenames[:train_end]\n",
    "val_filenames = filenames[train_end:val_end]\n",
    "test_filenames = filenames[val_end:]"
   ]
  },
  {
   "cell_type": "code",
   "execution_count": 5,
   "id": "902d5740",
   "metadata": {
    "execution": {
     "iopub.execute_input": "2024-09-15T22:04:33.435843Z",
     "iopub.status.busy": "2024-09-15T22:04:33.435555Z",
     "iopub.status.idle": "2024-09-15T22:04:33.445065Z",
     "shell.execute_reply": "2024-09-15T22:04:33.444155Z"
    },
    "papermill": {
     "duration": 0.018311,
     "end_time": "2024-09-15T22:04:33.446814",
     "exception": false,
     "start_time": "2024-09-15T22:04:33.428503",
     "status": "completed"
    },
    "tags": []
   },
   "outputs": [],
   "source": [
    "# def decode_image(image_data):\n",
    "#     image = tf.image.decode_jpeg(image_data, channels=3)\n",
    "#     image = tf.cast(image, tf.float32) / 255.0\n",
    "#     image = tf.reshape(image, [*image_size, 3])\n",
    "#     return image\n",
    "\n",
    "def read_labeled_tfrecord(example):\n",
    "    LABELED_TFREC_FORMAT = {\n",
    "        \"feature0\": tf.io.FixedLenFeature([], tf.string),\n",
    "        \"feature1\": tf.io.FixedLenFeature([], tf.int64),\n",
    "    }\n",
    "    example = tf.io.parse_single_example(example, LABELED_TFREC_FORMAT)\n",
    "    image = tf.io.decode_jpeg(example['feature0'])\n",
    "    label = tf.cast(example['feature1'], tf.int64)\n",
    "    return image, label\n",
    "\n",
    "def load_dataset(filenames):\n",
    "    dataset = tf.data.TFRecordDataset(filenames, num_parallel_reads=AUTO)\n",
    "#     options = tf.data.Options()\n",
    "#     options.experimental_deterministic = True\n",
    "#     dataset = dataset.with_options(options)\n",
    "    dataset = dataset.map(read_labeled_tfrecord, num_parallel_calls=AUTO)\n",
    "    return dataset\n",
    "\n",
    "def data_augment(image, label):\n",
    "    image = tf.image.stateless_random_flip_left_right(image, seed=(SEED, SEED))\n",
    "    image = tf.image.stateless_random_saturation(image, lower=0.8, upper=2.0, seed=(SEED + 1, SEED + 1))\n",
    "    return image, label\n",
    "\n",
    "def get_dataset(filenames, augment=False, repeat=False):\n",
    "    dataset = load_dataset(filenames)\n",
    "    dataset_size = (len(filenames) - 1) * tf_record_sample_size\n",
    "    if augment:\n",
    "        dataset = dataset.map(data_augment, num_parallel_calls=AUTO)\n",
    "    if repeat:\n",
    "        dataset = dataset.repeat()\n",
    "    dataset = dataset.shuffle(2048, seed=SEED)\n",
    "    dataset = dataset.batch(batch_size)\n",
    "    dataset = dataset.prefetch(AUTO)\n",
    "    return dataset, dataset_size"
   ]
  },
  {
   "cell_type": "code",
   "execution_count": 6,
   "id": "c6474ed9",
   "metadata": {
    "execution": {
     "iopub.execute_input": "2024-09-15T22:04:33.459013Z",
     "iopub.status.busy": "2024-09-15T22:04:33.458769Z",
     "iopub.status.idle": "2024-09-15T22:04:33.673804Z",
     "shell.execute_reply": "2024-09-15T22:04:33.672936Z"
    },
    "papermill": {
     "duration": 0.223973,
     "end_time": "2024-09-15T22:04:33.676235",
     "exception": false,
     "start_time": "2024-09-15T22:04:33.452262",
     "status": "completed"
    },
    "tags": []
   },
   "outputs": [],
   "source": [
    "train_ds, train_size = get_dataset(train_filenames, augment=True, repeat=True)\n",
    "val_ds, val_size = get_dataset(val_filenames)\n",
    "test_ds, test_size = get_dataset(test_filenames)"
   ]
  },
  {
   "cell_type": "code",
   "execution_count": 7,
   "id": "1aa20cad",
   "metadata": {
    "execution": {
     "iopub.execute_input": "2024-09-15T22:04:33.688944Z",
     "iopub.status.busy": "2024-09-15T22:04:33.688632Z",
     "iopub.status.idle": "2024-09-15T22:04:33.695288Z",
     "shell.execute_reply": "2024-09-15T22:04:33.694424Z"
    },
    "papermill": {
     "duration": 0.015362,
     "end_time": "2024-09-15T22:04:33.696996",
     "exception": false,
     "start_time": "2024-09-15T22:04:33.681634",
     "status": "completed"
    },
    "tags": []
   },
   "outputs": [],
   "source": [
    "def create_model():\n",
    "    data_augmentation = Sequential([\n",
    "        RandomFlip('horizontal'),\n",
    "        RandomContrast(0.2),\n",
    "    ])\n",
    "\n",
    "    base_model = base_m(input_shape=(*image_size, 3), include_top=False, weights='imagenet')\n",
    "    base_model.trainable = False\n",
    "\n",
    "    model = Sequential([\n",
    "        data_augmentation,\n",
    "        base_model,\n",
    "        GlobalAveragePooling2D(),\n",
    "        Dense(4096, activation='swish'),\n",
    "        BatchNormalization(),\n",
    "        Dropout(0.4),\n",
    "        Dense(1024, activation='swish'),\n",
    "        BatchNormalization(),\n",
    "        Dropout(0.3),\n",
    "        Dense(1000)\n",
    "    ])\n",
    "\n",
    "    model.compile(\n",
    "        optimizer=Adam(lr_init),\n",
    "        loss=scc(from_logits=True),\n",
    "        metrics=['accuracy']\n",
    "    )\n",
    "    return model"
   ]
  },
  {
   "cell_type": "code",
   "execution_count": 8,
   "id": "72062fcc",
   "metadata": {
    "execution": {
     "iopub.execute_input": "2024-09-15T22:04:33.709282Z",
     "iopub.status.busy": "2024-09-15T22:04:33.708637Z",
     "iopub.status.idle": "2024-09-15T22:04:33.712376Z",
     "shell.execute_reply": "2024-09-15T22:04:33.711705Z"
    },
    "papermill": {
     "duration": 0.012156,
     "end_time": "2024-09-15T22:04:33.714211",
     "exception": false,
     "start_time": "2024-09-15T22:04:33.702055",
     "status": "completed"
    },
    "tags": []
   },
   "outputs": [],
   "source": [
    "lr_init = 0.003\n",
    "es = EarlyStopping(\n",
    "    monitor='val_accuracy',\n",
    "    patience=15,\n",
    "    min_delta=0.0005,\n",
    "    restore_best_weights=True,\n",
    "    verbose=1\n",
    ")"
   ]
  },
  {
   "cell_type": "code",
   "execution_count": 9,
   "id": "21d8affd",
   "metadata": {
    "execution": {
     "iopub.execute_input": "2024-09-15T22:04:33.727082Z",
     "iopub.status.busy": "2024-09-15T22:04:33.726784Z",
     "iopub.status.idle": "2024-09-15T22:04:33.732140Z",
     "shell.execute_reply": "2024-09-15T22:04:33.731281Z"
    },
    "papermill": {
     "duration": 0.014431,
     "end_time": "2024-09-15T22:04:33.734102",
     "exception": false,
     "start_time": "2024-09-15T22:04:33.719671",
     "status": "completed"
    },
    "tags": []
   },
   "outputs": [],
   "source": [
    "def schedule(epoch,lr):\n",
    "    if epoch < 10:\n",
    "        return (epoch+1)*lr_init/10\n",
    "    elif epoch < 20:\n",
    "        return lr\n",
    "    return lr * tf.math.exp(-0.1)\n",
    "lr_scheduler = LearningRateScheduler(schedule,verbose=1)"
   ]
  },
  {
   "cell_type": "code",
   "execution_count": 10,
   "id": "a1a7288e",
   "metadata": {
    "execution": {
     "iopub.execute_input": "2024-09-15T22:04:33.746563Z",
     "iopub.status.busy": "2024-09-15T22:04:33.746278Z",
     "iopub.status.idle": "2024-09-15T22:04:34.056086Z",
     "shell.execute_reply": "2024-09-15T22:04:34.055121Z"
    },
    "papermill": {
     "duration": 0.318378,
     "end_time": "2024-09-15T22:04:34.058122",
     "exception": false,
     "start_time": "2024-09-15T22:04:33.739744",
     "status": "completed"
    },
    "tags": []
   },
   "outputs": [
    {
     "data": {
      "image/png": "[encoded data removed]",
      "text/plain": [
       "<Figure size 640x480 with 1 Axes>"
      ]
     },
     "metadata": {},
     "output_type": "display_data"
    }
   ],
   "source": [
    "lr = 0.003\n",
    "x = list(range(100))\n",
    "y = []\n",
    "for i in range(100):\n",
    "    lr = schedule(i + 1, lr)\n",
    "    y.append(lr)\n",
    "\n",
    "plt.plot(x, y, c=\"c\")\n",
    "plt.xlabel(\"Epoch\")\n",
    "plt.ylabel(\"Learning Rate\")\n",
    "plt.title(\"Learning Rate Schedule\")\n",
    "plt.show()"
   ]
  },
  {
   "cell_type": "code",
   "execution_count": 11,
   "id": "76f6867b",
   "metadata": {
    "execution": {
     "iopub.execute_input": "2024-09-15T22:04:34.071526Z",
     "iopub.status.busy": "2024-09-15T22:04:34.071246Z",
     "iopub.status.idle": "2024-09-15T22:04:34.075899Z",
     "shell.execute_reply": "2024-09-15T22:04:34.075102Z"
    },
    "papermill": {
     "duration": 0.013624,
     "end_time": "2024-09-15T22:04:34.077662",
     "exception": false,
     "start_time": "2024-09-15T22:04:34.064038",
     "status": "completed"
    },
    "tags": []
   },
   "outputs": [],
   "source": [
    "if not os.path.exists(\"chkpts\"):\n",
    "    os.makedirs(\"chkpts\")\n",
    "    \n",
    "checkpoint_filepath = 'chkpts/checkpoint.model.keras'\n",
    "model_checkpoint_callback = ModelCheckpoint(\n",
    "    filepath=checkpoint_filepath,\n",
    "    monitor='val_loss',\n",
    "    mode='min',\n",
    "    save_best_only=True\n",
    ")"
   ]
  },
  {
   "cell_type": "code",
   "execution_count": 12,
   "id": "77485835",
   "metadata": {
    "execution": {
     "iopub.execute_input": "2024-09-15T22:04:34.090304Z",
     "iopub.status.busy": "2024-09-15T22:04:34.089840Z",
     "iopub.status.idle": "2024-09-15T22:04:34.095636Z",
     "shell.execute_reply": "2024-09-15T22:04:34.094867Z"
    },
    "papermill": {
     "duration": 0.014277,
     "end_time": "2024-09-15T22:04:34.097321",
     "exception": false,
     "start_time": "2024-09-15T22:04:34.083044",
     "status": "completed"
    },
    "tags": []
   },
   "outputs": [],
   "source": [
    "def plot_history(history):\n",
    "    acc = history.history['accuracy']\n",
    "    val_acc = history.history['val_accuracy']\n",
    "    loss = history.history['loss']\n",
    "    val_loss = history.history['val_loss']\n",
    "\n",
    "    plt.figure(figsize=(12, 6))\n",
    "\n",
    "    plt.subplot(1, 2, 1)\n",
    "    plt.plot(acc, label='Training Accuracy')\n",
    "    plt.plot(val_acc, label='Validation Accuracy')\n",
    "    plt.legend(loc='lower right')\n",
    "    plt.title('Training and Validation Accuracy')\n",
    "\n",
    "    plt.subplot(1, 2, 2)\n",
    "    plt.plot(loss, label='Training Loss')\n",
    "    plt.plot(val_loss, label='Validation Loss')\n",
    "    plt.legend(loc='upper right')\n",
    "    plt.title('Training and Validation Loss')\n",
    "    plt.show()"
   ]
  },
  {
   "cell_type": "code",
   "execution_count": 13,
   "id": "fc75e6b0",
   "metadata": {
    "execution": {
     "iopub.execute_input": "2024-09-15T22:04:34.110337Z",
     "iopub.status.busy": "2024-09-15T22:04:34.110112Z",
     "iopub.status.idle": "2024-09-15T22:05:52.894599Z",
     "shell.execute_reply": "2024-09-15T22:05:52.893111Z"
    },
    "papermill": {
     "duration": 78.79412,
     "end_time": "2024-09-15T22:05:52.897624",
     "exception": false,
     "start_time": "2024-09-15T22:04:34.103504",
     "status": "completed"
    },
    "tags": []
   },
   "outputs": [],
   "source": [
    "with strategy.scope():\n",
    "    model = keras.models.load_model(\"/kaggle/input/birdly-main-trainer/model.h5\")\n",
    "#     model = create_model()"
   ]
  },
  {
   "cell_type": "code",
   "execution_count": 14,
   "id": "623956b5",
   "metadata": {
    "execution": {
     "iopub.execute_input": "2024-09-15T22:05:52.911893Z",
     "iopub.status.busy": "2024-09-15T22:05:52.911581Z",
     "iopub.status.idle": "2024-09-15T22:05:52.915950Z",
     "shell.execute_reply": "2024-09-15T22:05:52.915120Z"
    },
    "papermill": {
     "duration": 0.01376,
     "end_time": "2024-09-15T22:05:52.917738",
     "exception": false,
     "start_time": "2024-09-15T22:05:52.903978",
     "status": "completed"
    },
    "tags": []
   },
   "outputs": [],
   "source": [
    "steps_per_epoch = train_size // batch_size\n",
    "validation_steps = val_size // batch_size"
   ]
  },
  {
   "cell_type": "code",
   "execution_count": 15,
   "id": "cb5f3e12",
   "metadata": {
    "execution": {
     "iopub.execute_input": "2024-09-15T22:05:52.930401Z",
     "iopub.status.busy": "2024-09-15T22:05:52.930148Z",
     "iopub.status.idle": "2024-09-16T02:09:03.536617Z",
     "shell.execute_reply": "2024-09-16T02:09:03.535257Z"
    },
    "papermill": {
     "duration": 14590.61673,
     "end_time": "2024-09-16T02:09:03.540271",
     "exception": false,
     "start_time": "2024-09-15T22:05:52.923541",
     "status": "completed"
    },
    "tags": []
   },
   "outputs": [
    {
     "name": "stdout",
     "output_type": "stream",
     "text": [
      "\n",
      "Epoch 13: LearningRateScheduler setting learning rate to 0.003000000026077032.\n",
      "Epoch 13/24\n"
     ]
    },
    {
     "name": "stderr",
     "output_type": "stream",
     "text": [
      "2024-09-15 22:06:13.580456: E tensorflow/core/grappler/optimizers/meta_optimizer.cc:954] model_pruner failed: INVALID_ARGUMENT: Graph does not contain terminal node Adam/Adam/AssignAddVariableOp.\n",
      "2024-09-15 22:06:15.072318: E tensorflow/core/grappler/optimizers/meta_optimizer.cc:954] model_pruner failed: INVALID_ARGUMENT: Graph does not contain terminal node Adam/Adam/AssignAddVariableOp.\n"
     ]
    },
    {
     "name": "stdout",
     "output_type": "stream",
     "text": [
      "644/644 [==============================] - ETA: 0s - loss: 0.8912 - accuracy: 0.7448"
     ]
    },
    {
     "name": "stderr",
     "output_type": "stream",
     "text": [
      "2024-09-15 22:25:07.816027: E tensorflow/core/grappler/optimizers/meta_optimizer.cc:954] model_pruner failed: INVALID_ARGUMENT: Graph does not contain terminal node AssignAddVariableOp.\n",
      "2024-09-15 22:25:08.597401: E tensorflow/core/grappler/optimizers/meta_optimizer.cc:954] model_pruner failed: INVALID_ARGUMENT: Graph does not contain terminal node AssignAddVariableOp.\n"
     ]
    },
    {
     "name": "stdout",
     "output_type": "stream",
     "text": [
      "644/644 [==============================] - 1300s 2s/step - loss: 0.8912 - accuracy: 0.7448 - val_loss: 1.0223 - val_accuracy: 0.7197 - lr: 0.0030\n",
      "\n",
      "Epoch 14: LearningRateScheduler setting learning rate to 0.003000000026077032.\n",
      "Epoch 14/24\n",
      "644/644 [==============================] - 1197s 2s/step - loss: 0.8747 - accuracy: 0.7488 - val_loss: 0.9584 - val_accuracy: 0.7343 - lr: 0.0030\n",
      "\n",
      "Epoch 15: LearningRateScheduler setting learning rate to 0.003000000026077032.\n",
      "Epoch 15/24\n",
      "644/644 [==============================] - 1202s 2s/step - loss: 0.8486 - accuracy: 0.7550 - val_loss: 0.9025 - val_accuracy: 0.7443 - lr: 0.0030\n",
      "\n",
      "Epoch 16: LearningRateScheduler setting learning rate to 0.003000000026077032.\n",
      "Epoch 16/24\n",
      "644/644 [==============================] - 1198s 2s/step - loss: 0.8278 - accuracy: 0.7601 - val_loss: 0.9012 - val_accuracy: 0.7444 - lr: 0.0030\n",
      "\n",
      "Epoch 17: LearningRateScheduler setting learning rate to 0.003000000026077032.\n",
      "Epoch 17/24\n",
      "644/644 [==============================] - 1191s 2s/step - loss: 0.8089 - accuracy: 0.7647 - val_loss: 0.9088 - val_accuracy: 0.7424 - lr: 0.0030\n",
      "\n",
      "Epoch 18: LearningRateScheduler setting learning rate to 0.003000000026077032.\n",
      "Epoch 18/24\n",
      "644/644 [==============================] - 1191s 2s/step - loss: 0.7907 - accuracy: 0.7694 - val_loss: 0.9492 - val_accuracy: 0.7345 - lr: 0.0030\n",
      "\n",
      "Epoch 19: LearningRateScheduler setting learning rate to 0.003000000026077032.\n",
      "Epoch 19/24\n",
      "644/644 [==============================] - 1209s 2s/step - loss: 0.7737 - accuracy: 0.7731 - val_loss: 0.9537 - val_accuracy: 0.7339 - lr: 0.0030\n",
      "\n",
      "Epoch 20: LearningRateScheduler setting learning rate to 0.003000000026077032.\n",
      "Epoch 20/24\n",
      "644/644 [==============================] - 1223s 2s/step - loss: 0.7583 - accuracy: 0.7770 - val_loss: 0.9341 - val_accuracy: 0.7391 - lr: 0.0030\n",
      "\n",
      "Epoch 21: LearningRateScheduler setting learning rate to 0.0027145124040544033.\n",
      "Epoch 21/24\n",
      "644/644 [==============================] - 1216s 2s/step - loss: 0.7300 - accuracy: 0.7844 - val_loss: 0.9261 - val_accuracy: 0.7421 - lr: 0.0027\n",
      "\n",
      "Epoch 22: LearningRateScheduler setting learning rate to 0.0024561923928558826.\n",
      "Epoch 22/24\n",
      "644/644 [==============================] - 1221s 2s/step - loss: 0.6996 - accuracy: 0.7928 - val_loss: 0.8806 - val_accuracy: 0.7521 - lr: 0.0025\n",
      "\n",
      "Epoch 23: LearningRateScheduler setting learning rate to 0.002222454873844981.\n",
      "Epoch 23/24\n",
      "644/644 [==============================] - 1215s 2s/step - loss: 0.6739 - accuracy: 0.7994 - val_loss: 0.8692 - val_accuracy: 0.7583 - lr: 0.0022\n",
      "\n",
      "Epoch 24: LearningRateScheduler setting learning rate to 0.002010960364714265.\n",
      "Epoch 24/24\n",
      "644/644 [==============================] - 1224s 2s/step - loss: 0.6487 - accuracy: 0.8060 - val_loss: 0.8398 - val_accuracy: 0.7669 - lr: 0.0020\n"
     ]
    }
   ],
   "source": [
    "history = model.fit(\n",
    "    train_ds,\n",
    "    initial_epoch = 12,\n",
    "    epochs=epochs,\n",
    "    validation_data=val_ds,\n",
    "    steps_per_epoch=steps_per_epoch,\n",
    "    validation_steps=validation_steps,\n",
    "    callbacks=[es, model_checkpoint_callback, lr_scheduler]\n",
    ")"
   ]
  },
  {
   "cell_type": "code",
   "execution_count": 16,
   "id": "ed905763",
   "metadata": {
    "execution": {
     "iopub.execute_input": "2024-09-16T02:09:04.423558Z",
     "iopub.status.busy": "2024-09-16T02:09:04.422409Z",
     "iopub.status.idle": "2024-09-16T02:09:04.848916Z",
     "shell.execute_reply": "2024-09-16T02:09:04.847760Z"
    },
    "papermill": {
     "duration": 0.861171,
     "end_time": "2024-09-16T02:09:04.850717",
     "exception": false,
     "start_time": "2024-09-16T02:09:03.989546",
     "status": "completed"
    },
    "tags": []
   },
   "outputs": [
    {
     "data": {
      "image/png": "[encoded data removed]",
      "text/plain": [
       "<Figure size 1200x600 with 2 Axes>"
      ]
     },
     "metadata": {},
     "output_type": "display_data"
    }
   ],
   "source": [
    "plot_history(history)"
   ]
  },
  {
   "cell_type": "code",
   "execution_count": 17,
   "id": "cca51598",
   "metadata": {
    "execution": {
     "iopub.execute_input": "2024-09-16T02:09:05.751474Z",
     "iopub.status.busy": "2024-09-16T02:09:05.751089Z",
     "iopub.status.idle": "2024-09-16T02:09:11.208124Z",
     "shell.execute_reply": "2024-09-16T02:09:11.206952Z"
    },
    "papermill": {
     "duration": 5.938221,
     "end_time": "2024-09-16T02:09:11.210547",
     "exception": false,
     "start_time": "2024-09-16T02:09:05.272326",
     "status": "completed"
    },
    "tags": []
   },
   "outputs": [],
   "source": [
    "model.save('model.h5')"
   ]
  },
  {
   "cell_type": "code",
   "execution_count": 18,
   "id": "e6a92799",
   "metadata": {
    "execution": {
     "iopub.execute_input": "2024-09-16T02:09:12.068078Z",
     "iopub.status.busy": "2024-09-16T02:09:12.067676Z",
     "iopub.status.idle": "2024-09-16T02:09:12.073187Z",
     "shell.execute_reply": "2024-09-16T02:09:12.072260Z"
    },
    "papermill": {
     "duration": 0.437256,
     "end_time": "2024-09-16T02:09:12.075046",
     "exception": false,
     "start_time": "2024-09-16T02:09:11.637790",
     "status": "completed"
    },
    "tags": []
   },
   "outputs": [],
   "source": [
    "import pickle\n",
    "\n",
    "with open('/trainHistoryDict', 'wb') as file_pi:\n",
    "    pickle.dump(history.history, file_pi)"
   ]
  },
  {
   "cell_type": "code",
   "execution_count": 19,
   "id": "e1398b48",
   "metadata": {
    "execution": {
     "iopub.execute_input": "2024-09-16T02:09:13.014578Z",
     "iopub.status.busy": "2024-09-16T02:09:13.014196Z",
     "iopub.status.idle": "2024-09-16T02:11:08.991623Z",
     "shell.execute_reply": "2024-09-16T02:11:08.990592Z"
    },
    "papermill": {
     "duration": 116.454504,
     "end_time": "2024-09-16T02:11:08.994723",
     "exception": false,
     "start_time": "2024-09-16T02:09:12.540219",
     "status": "completed"
    },
    "tags": []
   },
   "outputs": [
    {
     "name": "stdout",
     "output_type": "stream",
     "text": [
      "80/80 [==============================] - 116s 1s/step - loss: 1.4414 - accuracy: 0.6261\n",
      "Test Loss: 1.44\n",
      "Test Accuracy: 62.61%\n"
     ]
    }
   ],
   "source": [
    "test_steps = test_size // batch_size\n",
    "if test_size % batch_size != 0:\n",
    "    test_steps += 1\n",
    "\n",
    "test_loss, test_accuracy = model.evaluate(test_ds, steps=test_steps)\n",
    "\n",
    "test_loss = round(test_loss, 2)\n",
    "test_accuracy = round(test_accuracy * 100, 2)\n",
    "\n",
    "print(f\"Test Loss: {test_loss}\")\n",
    "print(f\"Test Accuracy: {test_accuracy}%\")"
   ]
  },
  {
   "cell_type": "code",
   "execution_count": null,
   "id": "2b6f3aaf",
   "metadata": {
    "papermill": {
     "duration": 0.632707,
     "end_time": "2024-09-16T02:11:10.312959",
     "exception": false,
     "start_time": "2024-09-16T02:11:09.680252",
     "status": "completed"
    },
    "tags": []
   },
   "outputs": [],
   "source": []
  }
 ],
 "metadata": {
  "kaggle": {
   "accelerator": "tpu1vmV38",
   "dataSources": [
    {
     "sourceId": 145960787,
     "sourceType": "kernelVersion"
    },
    {
     "sourceId": 145978028,
     "sourceType": "kernelVersion"
    },
    {
     "sourceId": 158734309,
     "sourceType": "kernelVersion"
    },
    {
     "sourceId": 158734313,
     "sourceType": "kernelVersion"
    },
    {
     "sourceId": 196776429,
     "sourceType": "kernelVersion"
    }
   ],
   "dockerImageVersionId": 30529,
   "isGpuEnabled": false,
   "isInternetEnabled": true,
   "language": "python",
   "sourceType": "notebook"
  },
  "kernelspec": {
   "display_name": "Python 3",
   "language": "python",
   "name": "python3"
  },
  "language_info": {
   "codemirror_mode": {
    "name": "ipython",
    "version": 3
   },
   "file_extension": ".py",
   "mimetype": "text/x-python",
   "name": "python",
   "nbconvert_exporter": "python",
   "pygments_lexer": "ipython3",
   "version": "3.8.17"
  },
  "papermill": {
   "default_parameters": {},
   "duration": 14857.602437,
   "end_time": "2024-09-16T02:11:21.263080",
   "environment_variables": {},
   "exception": null,
   "input_path": "__notebook__.ipynb",
   "output_path": "__notebook__.ipynb",
   "parameters": {},
   "start_time": "2024-09-15T22:03:43.660643",
   "version": "2.4.0"
  }
 },
 "nbformat": 4,
 "nbformat_minor": 5
}
