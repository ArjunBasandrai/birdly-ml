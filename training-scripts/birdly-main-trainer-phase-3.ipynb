{
 "cells": [
  {
   "cell_type": "code",
   "execution_count": 1,
   "id": "94e5fcbf",
   "metadata": {
    "_cell_guid": "b1076dfc-b9ad-4769-8c92-a6c4dae69d19",
    "_uuid": "8f2839f25d086af736a60e9eeb907d3b93b6e0e5",
    "execution": {
     "iopub.execute_input": "2024-09-16T07:11:46.595054Z",
     "iopub.status.busy": "2024-09-16T07:11:46.594801Z",
     "iopub.status.idle": "2024-09-16T07:12:28.083252Z",
     "shell.execute_reply": "2024-09-16T07:12:28.082357Z"
    },
    "papermill": {
     "duration": 41.496975,
     "end_time": "2024-09-16T07:12:28.085232",
     "exception": false,
     "start_time": "2024-09-16T07:11:46.588257",
     "status": "completed"
    },
    "tags": []
   },
   "outputs": [
    {
     "name": "stderr",
     "output_type": "stream",
     "text": [
      "D0916 07:12:19.634205646      14 config.cc:119]                        gRPC EXPERIMENT tcp_frame_size_tuning               OFF (default:OFF)\n",
      "D0916 07:12:19.634228494      14 config.cc:119]                        gRPC EXPERIMENT tcp_rcv_lowat                       OFF (default:OFF)\n",
      "D0916 07:12:19.634232065      14 config.cc:119]                        gRPC EXPERIMENT peer_state_based_framing            OFF (default:OFF)\n",
      "D0916 07:12:19.634234994      14 config.cc:119]                        gRPC EXPERIMENT flow_control_fixes                  ON  (default:ON)\n",
      "D0916 07:12:19.634237326      14 config.cc:119]                        gRPC EXPERIMENT memory_pressure_controller          OFF (default:OFF)\n",
      "D0916 07:12:19.634240005      14 config.cc:119]                        gRPC EXPERIMENT unconstrained_max_quota_buffer_size OFF (default:OFF)\n",
      "D0916 07:12:19.634242394      14 config.cc:119]                        gRPC EXPERIMENT new_hpack_huffman_decoder           ON  (default:ON)\n",
      "D0916 07:12:19.634245329      14 config.cc:119]                        gRPC EXPERIMENT event_engine_client                 OFF (default:OFF)\n",
      "D0916 07:12:19.634247587      14 config.cc:119]                        gRPC EXPERIMENT monitoring_experiment               ON  (default:ON)\n",
      "D0916 07:12:19.634249882      14 config.cc:119]                        gRPC EXPERIMENT promise_based_client_call           OFF (default:OFF)\n",
      "D0916 07:12:19.634252177      14 config.cc:119]                        gRPC EXPERIMENT free_large_allocator                OFF (default:OFF)\n",
      "D0916 07:12:19.634254324      14 config.cc:119]                        gRPC EXPERIMENT promise_based_server_call           OFF (default:OFF)\n",
      "D0916 07:12:19.634256592      14 config.cc:119]                        gRPC EXPERIMENT transport_supplies_client_latency   OFF (default:OFF)\n",
      "D0916 07:12:19.634258729      14 config.cc:119]                        gRPC EXPERIMENT event_engine_listener               OFF (default:OFF)\n",
      "I0916 07:12:19.634475029      14 ev_epoll1_linux.cc:122]               grpc epoll fd: 58\n",
      "D0916 07:12:19.634489880      14 ev_posix.cc:144]                      Using polling engine: epoll1\n",
      "D0916 07:12:19.634564442      14 dns_resolver_ares.cc:822]             Using ares dns resolver\n",
      "D0916 07:12:19.634954766      14 lb_policy_registry.cc:46]             registering LB policy factory for \"priority_experimental\"\n",
      "D0916 07:12:19.634967913      14 lb_policy_registry.cc:46]             registering LB policy factory for \"outlier_detection_experimental\"\n",
      "D0916 07:12:19.634971194      14 lb_policy_registry.cc:46]             registering LB policy factory for \"weighted_target_experimental\"\n",
      "D0916 07:12:19.634974135      14 lb_policy_registry.cc:46]             registering LB policy factory for \"pick_first\"\n",
      "D0916 07:12:19.634976972      14 lb_policy_registry.cc:46]             registering LB policy factory for \"round_robin\"\n",
      "D0916 07:12:19.634979813      14 lb_policy_registry.cc:46]             registering LB policy factory for \"weighted_round_robin_experimental\"\n",
      "D0916 07:12:19.634987967      14 lb_policy_registry.cc:46]             registering LB policy factory for \"ring_hash_experimental\"\n",
      "D0916 07:12:19.635008209      14 lb_policy_registry.cc:46]             registering LB policy factory for \"grpclb\"\n",
      "D0916 07:12:19.635038062      14 lb_policy_registry.cc:46]             registering LB policy factory for \"rls_experimental\"\n",
      "D0916 07:12:19.635054913      14 lb_policy_registry.cc:46]             registering LB policy factory for \"xds_cluster_manager_experimental\"\n",
      "D0916 07:12:19.635058492      14 lb_policy_registry.cc:46]             registering LB policy factory for \"xds_cluster_impl_experimental\"\n",
      "D0916 07:12:19.635061829      14 lb_policy_registry.cc:46]             registering LB policy factory for \"cds_experimental\"\n",
      "D0916 07:12:19.635069446      14 lb_policy_registry.cc:46]             registering LB policy factory for \"xds_cluster_resolver_experimental\"\n",
      "D0916 07:12:19.635072734      14 lb_policy_registry.cc:46]             registering LB policy factory for \"xds_override_host_experimental\"\n",
      "D0916 07:12:19.635076055      14 lb_policy_registry.cc:46]             registering LB policy factory for \"xds_wrr_locality_experimental\"\n",
      "D0916 07:12:19.635080357      14 certificate_provider_registry.cc:35]  registering certificate provider factory for \"file_watcher\"\n",
      "I0916 07:12:19.638826719      14 socket_utils_common_posix.cc:408]     Disabling AF_INET6 sockets because ::1 is not available.\n",
      "I0916 07:12:19.657413592     172 socket_utils_common_posix.cc:337]     TCP_USER_TIMEOUT is available. TCP_USER_TIMEOUT will be used thereafter\n",
      "E0916 07:12:19.663799364     172 oauth2_credentials.cc:236]            oauth_fetch: UNKNOWN:C-ares status is not ARES_SUCCESS qtype=A name=metadata.google.internal. is_balancer=0: Domain name not found {created_time:\"2024-09-16T07:12:19.663777426+00:00\", grpc_status:2}\n"
     ]
    },
    {
     "name": "stdout",
     "output_type": "stream",
     "text": [
      "Tensorflow version: 2.12.0\n"
     ]
    }
   ],
   "source": [
    "import matplotlib.pyplot as plt\n",
    "import numpy as np\n",
    "import os\n",
    "import random\n",
    "import tensorflow as tf\n",
    "from tensorflow import keras\n",
    "from keras import Sequential\n",
    "from keras.layers import RandomFlip, RandomContrast, GlobalAveragePooling2D, Dense, BatchNormalization, Dropout\n",
    "from keras.applications import EfficientNetV2L as base_m\n",
    "from keras.optimizers import Adam\n",
    "from keras.losses import SparseCategoricalCrossentropy as scc\n",
    "from keras.callbacks import EarlyStopping, LearningRateScheduler, ModelCheckpoint\n",
    "\n",
    "SEED = 154\n",
    "np.random.seed(SEED)\n",
    "tf.random.set_seed(SEED)\n",
    "random.seed(SEED)\n",
    "\n",
    "print(f'Tensorflow version: {tf.__version__}')"
   ]
  },
  {
   "cell_type": "code",
   "execution_count": 2,
   "id": "becf0af0",
   "metadata": {
    "execution": {
     "iopub.execute_input": "2024-09-16T07:12:28.095721Z",
     "iopub.status.busy": "2024-09-16T07:12:28.095292Z",
     "iopub.status.idle": "2024-09-16T07:12:36.374530Z",
     "shell.execute_reply": "2024-09-16T07:12:36.373654Z"
    },
    "papermill": {
     "duration": 8.290784,
     "end_time": "2024-09-16T07:12:36.380399",
     "exception": false,
     "start_time": "2024-09-16T07:12:28.089615",
     "status": "completed"
    },
    "tags": []
   },
   "outputs": [
    {
     "name": "stdout",
     "output_type": "stream",
     "text": [
      "INFO:tensorflow:Deallocate tpu buffers before initializing tpu system.\n",
      "INFO:tensorflow:Initializing the TPU system: local\n",
      "INFO:tensorflow:Finished initializing TPU system.\n",
      "INFO:tensorflow:Found TPU system:\n",
      "INFO:tensorflow:*** Num TPU Cores: 8\n",
      "INFO:tensorflow:*** Num TPU Workers: 1\n",
      "INFO:tensorflow:*** Num TPU Cores Per Worker: 8\n",
      "INFO:tensorflow:*** Available Device: _DeviceAttributes(/job:localhost/replica:0/task:0/device:CPU:0, CPU, 0, 0)\n",
      "INFO:tensorflow:*** Available Device: _DeviceAttributes(/job:localhost/replica:0/task:0/device:TPU:0, TPU, 0, 0)\n",
      "INFO:tensorflow:*** Available Device: _DeviceAttributes(/job:localhost/replica:0/task:0/device:TPU:1, TPU, 0, 0)\n",
      "INFO:tensorflow:*** Available Device: _DeviceAttributes(/job:localhost/replica:0/task:0/device:TPU:2, TPU, 0, 0)\n",
      "INFO:tensorflow:*** Available Device: _DeviceAttributes(/job:localhost/replica:0/task:0/device:TPU:3, TPU, 0, 0)\n",
      "INFO:tensorflow:*** Available Device: _DeviceAttributes(/job:localhost/replica:0/task:0/device:TPU:4, TPU, 0, 0)\n",
      "INFO:tensorflow:*** Available Device: _DeviceAttributes(/job:localhost/replica:0/task:0/device:TPU:5, TPU, 0, 0)\n",
      "INFO:tensorflow:*** Available Device: _DeviceAttributes(/job:localhost/replica:0/task:0/device:TPU:6, TPU, 0, 0)\n",
      "INFO:tensorflow:*** Available Device: _DeviceAttributes(/job:localhost/replica:0/task:0/device:TPU:7, TPU, 0, 0)\n",
      "INFO:tensorflow:*** Available Device: _DeviceAttributes(/job:localhost/replica:0/task:0/device:TPU_SYSTEM:0, TPU_SYSTEM, 0, 0)\n",
      "Running on TPU\n",
      "REPLICAS:  8\n"
     ]
    }
   ],
   "source": [
    "tpu = tf.distribute.cluster_resolver.TPUClusterResolver.connect(tpu=\"local\") # \"local\" for 1VM TPU\n",
    "strategy = tf.distribute.TPUStrategy(tpu)\n",
    "print(\"Running on TPU\")\n",
    "print(\"REPLICAS: \", strategy.num_replicas_in_sync)"
   ]
  },
  {
   "cell_type": "code",
   "execution_count": 3,
   "id": "76b781b7",
   "metadata": {
    "execution": {
     "iopub.execute_input": "2024-09-16T07:12:36.394289Z",
     "iopub.status.busy": "2024-09-16T07:12:36.394010Z",
     "iopub.status.idle": "2024-09-16T07:12:36.448320Z",
     "shell.execute_reply": "2024-09-16T07:12:36.447409Z"
    },
    "papermill": {
     "duration": 0.063106,
     "end_time": "2024-09-16T07:12:36.450299",
     "exception": false,
     "start_time": "2024-09-16T07:12:36.387193",
     "status": "completed"
    },
    "tags": []
   },
   "outputs": [],
   "source": [
    "image_size = (480,480)\n",
    "epochs = 36\n",
    "tf_record_sample_size = 4096\n",
    "batch_size = 128 * strategy.num_replicas_in_sync\n",
    "AUTO = tf.data.experimental.AUTOTUNE\n",
    "train = tf.io.gfile.glob(\"/kaggle/input/*/tfrecords/*.tfrec\")"
   ]
  },
  {
   "cell_type": "code",
   "execution_count": 4,
   "id": "6cd65dbc",
   "metadata": {
    "execution": {
     "iopub.execute_input": "2024-09-16T07:12:36.463403Z",
     "iopub.status.busy": "2024-09-16T07:12:36.463132Z",
     "iopub.status.idle": "2024-09-16T07:12:36.495125Z",
     "shell.execute_reply": "2024-09-16T07:12:36.494267Z"
    },
    "papermill": {
     "duration": 0.040872,
     "end_time": "2024-09-16T07:12:36.497090",
     "exception": false,
     "start_time": "2024-09-16T07:12:36.456218",
     "status": "completed"
    },
    "tags": []
   },
   "outputs": [],
   "source": [
    "filenames = tf.io.gfile.glob(\"/kaggle/input/*/tfrecords/*.tfrec\")\n",
    "filenames.sort()\n",
    "random.Random(SEED).shuffle(filenames)\n",
    "\n",
    "train_split = 0.8\n",
    "val_split = 0.1\n",
    "\n",
    "num_files = len(filenames)\n",
    "train_end = int(train_split * num_files)\n",
    "val_end = int((train_split + val_split) * num_files)\n",
    "\n",
    "train_filenames = filenames[:train_end]\n",
    "val_filenames = filenames[train_end:val_end]\n",
    "test_filenames = filenames[val_end:]"
   ]
  },
  {
   "cell_type": "code",
   "execution_count": 5,
   "id": "06560c80",
   "metadata": {
    "execution": {
     "iopub.execute_input": "2024-09-16T07:12:36.510406Z",
     "iopub.status.busy": "2024-09-16T07:12:36.510169Z",
     "iopub.status.idle": "2024-09-16T07:12:36.518826Z",
     "shell.execute_reply": "2024-09-16T07:12:36.518132Z"
    },
    "papermill": {
     "duration": 0.017127,
     "end_time": "2024-09-16T07:12:36.520488",
     "exception": false,
     "start_time": "2024-09-16T07:12:36.503361",
     "status": "completed"
    },
    "tags": []
   },
   "outputs": [],
   "source": [
    "# def decode_image(image_data):\n",
    "#     image = tf.image.decode_jpeg(image_data, channels=3)\n",
    "#     image = tf.cast(image, tf.float32) / 255.0\n",
    "#     image = tf.reshape(image, [*image_size, 3])\n",
    "#     return image\n",
    "\n",
    "def read_labeled_tfrecord(example):\n",
    "    LABELED_TFREC_FORMAT = {\n",
    "        \"feature0\": tf.io.FixedLenFeature([], tf.string),\n",
    "        \"feature1\": tf.io.FixedLenFeature([], tf.int64),\n",
    "    }\n",
    "    example = tf.io.parse_single_example(example, LABELED_TFREC_FORMAT)\n",
    "    image = tf.io.decode_jpeg(example['feature0'])\n",
    "    label = tf.cast(example['feature1'], tf.int64)\n",
    "    return image, label\n",
    "\n",
    "def load_dataset(filenames):\n",
    "    dataset = tf.data.TFRecordDataset(filenames, num_parallel_reads=AUTO)\n",
    "#     options = tf.data.Options()\n",
    "#     options.experimental_deterministic = True\n",
    "#     dataset = dataset.with_options(options)\n",
    "    dataset = dataset.map(read_labeled_tfrecord, num_parallel_calls=AUTO)\n",
    "    return dataset\n",
    "\n",
    "def data_augment(image, label):\n",
    "    image = tf.image.stateless_random_flip_left_right(image, seed=(SEED, SEED))\n",
    "    image = tf.image.stateless_random_saturation(image, lower=0.8, upper=2.0, seed=(SEED + 1, SEED + 1))\n",
    "    return image, label\n",
    "\n",
    "def get_dataset(filenames, augment=False, repeat=False):\n",
    "    dataset = load_dataset(filenames)\n",
    "    dataset_size = (len(filenames) - 1) * tf_record_sample_size\n",
    "    if augment:\n",
    "        dataset = dataset.map(data_augment, num_parallel_calls=AUTO)\n",
    "    if repeat:\n",
    "        dataset = dataset.repeat()\n",
    "    dataset = dataset.shuffle(2048, seed=SEED)\n",
    "    dataset = dataset.batch(batch_size)\n",
    "    dataset = dataset.prefetch(AUTO)\n",
    "    return dataset, dataset_size"
   ]
  },
  {
   "cell_type": "code",
   "execution_count": 6,
   "id": "69d91163",
   "metadata": {
    "execution": {
     "iopub.execute_input": "2024-09-16T07:12:36.532019Z",
     "iopub.status.busy": "2024-09-16T07:12:36.531782Z",
     "iopub.status.idle": "2024-09-16T07:12:36.736517Z",
     "shell.execute_reply": "2024-09-16T07:12:36.735743Z"
    },
    "papermill": {
     "duration": 0.212566,
     "end_time": "2024-09-16T07:12:36.738554",
     "exception": false,
     "start_time": "2024-09-16T07:12:36.525988",
     "status": "completed"
    },
    "tags": []
   },
   "outputs": [],
   "source": [
    "train_ds, train_size = get_dataset(train_filenames, augment=True, repeat=True)\n",
    "val_ds, val_size = get_dataset(val_filenames)\n",
    "test_ds, test_size = get_dataset(test_filenames)"
   ]
  },
  {
   "cell_type": "code",
   "execution_count": 7,
   "id": "f239b307",
   "metadata": {
    "execution": {
     "iopub.execute_input": "2024-09-16T07:12:36.750733Z",
     "iopub.status.busy": "2024-09-16T07:12:36.750495Z",
     "iopub.status.idle": "2024-09-16T07:12:36.756273Z",
     "shell.execute_reply": "2024-09-16T07:12:36.755580Z"
    },
    "papermill": {
     "duration": 0.01391,
     "end_time": "2024-09-16T07:12:36.757987",
     "exception": false,
     "start_time": "2024-09-16T07:12:36.744077",
     "status": "completed"
    },
    "tags": []
   },
   "outputs": [],
   "source": [
    "def create_model():\n",
    "    data_augmentation = Sequential([\n",
    "        RandomFlip('horizontal'),\n",
    "        RandomContrast(0.2),\n",
    "    ])\n",
    "\n",
    "    base_model = base_m(input_shape=(*image_size, 3), include_top=False, weights='imagenet')\n",
    "    base_model.trainable = False\n",
    "\n",
    "    model = Sequential([\n",
    "        data_augmentation,\n",
    "        base_model,\n",
    "        GlobalAveragePooling2D(),\n",
    "        Dense(4096, activation='swish'),\n",
    "        BatchNormalization(),\n",
    "        Dropout(0.4),\n",
    "        Dense(1024, activation='swish'),\n",
    "        BatchNormalization(),\n",
    "        Dropout(0.3),\n",
    "        Dense(1000)\n",
    "    ])\n",
    "\n",
    "    model.compile(\n",
    "        optimizer=Adam(lr_init),\n",
    "        loss=scc(from_logits=True),\n",
    "        metrics=['accuracy']\n",
    "    )\n",
    "    return model"
   ]
  },
  {
   "cell_type": "code",
   "execution_count": 8,
   "id": "bb52b017",
   "metadata": {
    "execution": {
     "iopub.execute_input": "2024-09-16T07:12:36.769636Z",
     "iopub.status.busy": "2024-09-16T07:12:36.769411Z",
     "iopub.status.idle": "2024-09-16T07:12:36.772911Z",
     "shell.execute_reply": "2024-09-16T07:12:36.772251Z"
    },
    "papermill": {
     "duration": 0.011697,
     "end_time": "2024-09-16T07:12:36.774733",
     "exception": false,
     "start_time": "2024-09-16T07:12:36.763036",
     "status": "completed"
    },
    "tags": []
   },
   "outputs": [],
   "source": [
    "lr_init = 0.003\n",
    "es = EarlyStopping(\n",
    "    monitor='val_accuracy',\n",
    "    patience=15,\n",
    "    min_delta=0.0005,\n",
    "    restore_best_weights=True,\n",
    "    verbose=1\n",
    ")"
   ]
  },
  {
   "cell_type": "code",
   "execution_count": 9,
   "id": "331df6ad",
   "metadata": {
    "execution": {
     "iopub.execute_input": "2024-09-16T07:12:36.786459Z",
     "iopub.status.busy": "2024-09-16T07:12:36.786229Z",
     "iopub.status.idle": "2024-09-16T07:12:36.790222Z",
     "shell.execute_reply": "2024-09-16T07:12:36.789565Z"
    },
    "papermill": {
     "duration": 0.012105,
     "end_time": "2024-09-16T07:12:36.791947",
     "exception": false,
     "start_time": "2024-09-16T07:12:36.779842",
     "status": "completed"
    },
    "tags": []
   },
   "outputs": [],
   "source": [
    "def schedule(epoch,lr):\n",
    "    if epoch < 10:\n",
    "        return (epoch+1)*lr_init/10\n",
    "    elif epoch < 20:\n",
    "        return lr\n",
    "    return lr * tf.math.exp(-0.1)\n",
    "lr_scheduler = LearningRateScheduler(schedule,verbose=1)"
   ]
  },
  {
   "cell_type": "code",
   "execution_count": 10,
   "id": "de92227c",
   "metadata": {
    "execution": {
     "iopub.execute_input": "2024-09-16T07:12:36.803524Z",
     "iopub.status.busy": "2024-09-16T07:12:36.803258Z",
     "iopub.status.idle": "2024-09-16T07:12:37.108865Z",
     "shell.execute_reply": "2024-09-16T07:12:37.108184Z"
    },
    "papermill": {
     "duration": 0.313357,
     "end_time": "2024-09-16T07:12:37.110650",
     "exception": false,
     "start_time": "2024-09-16T07:12:36.797293",
     "status": "completed"
    },
    "tags": []
   },
   "outputs": [
    {
     "data": {
      "image/png": "[encoded data removed]",
      "text/plain": [
       "<Figure size 640x480 with 1 Axes>"
      ]
     },
     "metadata": {},
     "output_type": "display_data"
    }
   ],
   "source": [
    "lr = 0.003\n",
    "x = list(range(100))\n",
    "y = []\n",
    "for i in range(100):\n",
    "    lr = schedule(i + 1, lr)\n",
    "    y.append(lr)\n",
    "\n",
    "plt.plot(x, y, c=\"c\")\n",
    "plt.xlabel(\"Epoch\")\n",
    "plt.ylabel(\"Learning Rate\")\n",
    "plt.title(\"Learning Rate Schedule\")\n",
    "plt.show()"
   ]
  },
  {
   "cell_type": "code",
   "execution_count": 11,
   "id": "b0f5e176",
   "metadata": {
    "execution": {
     "iopub.execute_input": "2024-09-16T07:12:37.123268Z",
     "iopub.status.busy": "2024-09-16T07:12:37.122984Z",
     "iopub.status.idle": "2024-09-16T07:12:37.127441Z",
     "shell.execute_reply": "2024-09-16T07:12:37.126779Z"
    },
    "papermill": {
     "duration": 0.012656,
     "end_time": "2024-09-16T07:12:37.129140",
     "exception": false,
     "start_time": "2024-09-16T07:12:37.116484",
     "status": "completed"
    },
    "tags": []
   },
   "outputs": [],
   "source": [
    "if not os.path.exists(\"chkpts\"):\n",
    "    os.makedirs(\"chkpts\")\n",
    "    \n",
    "checkpoint_filepath = 'chkpts/checkpoint.model.keras'\n",
    "model_checkpoint_callback = ModelCheckpoint(\n",
    "    filepath=checkpoint_filepath,\n",
    "    monitor='val_loss',\n",
    "    mode='min',\n",
    "    save_best_only=True\n",
    ")"
   ]
  },
  {
   "cell_type": "code",
   "execution_count": 12,
   "id": "8a462672",
   "metadata": {
    "execution": {
     "iopub.execute_input": "2024-09-16T07:12:37.141282Z",
     "iopub.status.busy": "2024-09-16T07:12:37.141058Z",
     "iopub.status.idle": "2024-09-16T07:12:37.146914Z",
     "shell.execute_reply": "2024-09-16T07:12:37.146271Z"
    },
    "papermill": {
     "duration": 0.013912,
     "end_time": "2024-09-16T07:12:37.148549",
     "exception": false,
     "start_time": "2024-09-16T07:12:37.134637",
     "status": "completed"
    },
    "tags": []
   },
   "outputs": [],
   "source": [
    "def plot_history(history):\n",
    "    acc = history.history['accuracy']\n",
    "    val_acc = history.history['val_accuracy']\n",
    "    loss = history.history['loss']\n",
    "    val_loss = history.history['val_loss']\n",
    "\n",
    "    plt.figure(figsize=(12, 6))\n",
    "\n",
    "    plt.subplot(1, 2, 1)\n",
    "    plt.plot(acc, label='Training Accuracy')\n",
    "    plt.plot(val_acc, label='Validation Accuracy')\n",
    "    plt.legend(loc='lower right')\n",
    "    plt.title('Training and Validation Accuracy')\n",
    "\n",
    "    plt.subplot(1, 2, 2)\n",
    "    plt.plot(loss, label='Training Loss')\n",
    "    plt.plot(val_loss, label='Validation Loss')\n",
    "    plt.legend(loc='upper right')\n",
    "    plt.title('Training and Validation Loss')\n",
    "    plt.show()"
   ]
  },
  {
   "cell_type": "code",
   "execution_count": 13,
   "id": "727adc7c",
   "metadata": {
    "execution": {
     "iopub.execute_input": "2024-09-16T07:12:37.161363Z",
     "iopub.status.busy": "2024-09-16T07:12:37.161127Z",
     "iopub.status.idle": "2024-09-16T07:13:55.686256Z",
     "shell.execute_reply": "2024-09-16T07:13:55.685199Z"
    },
    "papermill": {
     "duration": 78.534093,
     "end_time": "2024-09-16T07:13:55.688815",
     "exception": false,
     "start_time": "2024-09-16T07:12:37.154722",
     "status": "completed"
    },
    "tags": []
   },
   "outputs": [],
   "source": [
    "with strategy.scope():\n",
    "    model = keras.models.load_model(\"/kaggle/input/birdly-main-trainer-phase-2/model.h5\")\n",
    "#     model = create_model()"
   ]
  },
  {
   "cell_type": "code",
   "execution_count": 14,
   "id": "fdb76d2b",
   "metadata": {
    "execution": {
     "iopub.execute_input": "2024-09-16T07:13:55.701947Z",
     "iopub.status.busy": "2024-09-16T07:13:55.701628Z",
     "iopub.status.idle": "2024-09-16T07:13:55.705577Z",
     "shell.execute_reply": "2024-09-16T07:13:55.704832Z"
    },
    "papermill": {
     "duration": 0.012099,
     "end_time": "2024-09-16T07:13:55.707145",
     "exception": false,
     "start_time": "2024-09-16T07:13:55.695046",
     "status": "completed"
    },
    "tags": []
   },
   "outputs": [],
   "source": [
    "steps_per_epoch = train_size // batch_size\n",
    "validation_steps = val_size // batch_size"
   ]
  },
  {
   "cell_type": "code",
   "execution_count": 15,
   "id": "7727cfc3",
   "metadata": {
    "execution": {
     "iopub.execute_input": "2024-09-16T07:13:55.719135Z",
     "iopub.status.busy": "2024-09-16T07:13:55.718874Z",
     "iopub.status.idle": "2024-09-16T11:14:32.955078Z",
     "shell.execute_reply": "2024-09-16T11:14:32.954030Z"
    },
    "papermill": {
     "duration": 14437.245609,
     "end_time": "2024-09-16T11:14:32.958222",
     "exception": false,
     "start_time": "2024-09-16T07:13:55.712613",
     "status": "completed"
    },
    "tags": []
   },
   "outputs": [
    {
     "name": "stdout",
     "output_type": "stream",
     "text": [
      "\n",
      "Epoch 25: LearningRateScheduler setting learning rate to 0.0018195922020822763.\n",
      "Epoch 25/36\n"
     ]
    },
    {
     "name": "stderr",
     "output_type": "stream",
     "text": [
      "2024-09-16 07:14:15.791020: E tensorflow/core/grappler/optimizers/meta_optimizer.cc:954] model_pruner failed: INVALID_ARGUMENT: Graph does not contain terminal node Adam/Adam/AssignAddVariableOp.\n",
      "2024-09-16 07:14:17.203309: E tensorflow/core/grappler/optimizers/meta_optimizer.cc:954] model_pruner failed: INVALID_ARGUMENT: Graph does not contain terminal node Adam/Adam/AssignAddVariableOp.\n"
     ]
    },
    {
     "name": "stdout",
     "output_type": "stream",
     "text": [
      "644/644 [==============================] - ETA: 0s - loss: 0.6179 - accuracy: 0.8148"
     ]
    },
    {
     "name": "stderr",
     "output_type": "stream",
     "text": [
      "2024-09-16 07:32:58.695789: E tensorflow/core/grappler/optimizers/meta_optimizer.cc:954] model_pruner failed: INVALID_ARGUMENT: Graph does not contain terminal node AssignAddVariableOp.\n",
      "2024-09-16 07:32:59.520119: E tensorflow/core/grappler/optimizers/meta_optimizer.cc:954] model_pruner failed: INVALID_ARGUMENT: Graph does not contain terminal node AssignAddVariableOp.\n"
     ]
    },
    {
     "name": "stdout",
     "output_type": "stream",
     "text": [
      "644/644 [==============================] - 1289s 2s/step - loss: 0.6179 - accuracy: 0.8148 - val_loss: 0.7341 - val_accuracy: 0.8016 - lr: 0.0018\n",
      "\n",
      "Epoch 26: LearningRateScheduler setting learning rate to 0.0016464351210743189.\n",
      "Epoch 26/36\n",
      "644/644 [==============================] - 1183s 2s/step - loss: 0.6051 - accuracy: 0.8182 - val_loss: 0.7087 - val_accuracy: 0.8078 - lr: 0.0016\n",
      "\n",
      "Epoch 27: LearningRateScheduler setting learning rate to 0.0014897561632096767.\n",
      "Epoch 27/36\n",
      "644/644 [==============================] - 1191s 2s/step - loss: 0.5854 - accuracy: 0.8235 - val_loss: 0.6880 - val_accuracy: 0.8126 - lr: 0.0015\n",
      "\n",
      "Epoch 28: LearningRateScheduler setting learning rate to 0.0013479870976880193.\n",
      "Epoch 28/36\n",
      "644/644 [==============================] - 1188s 2s/step - loss: 0.5671 - accuracy: 0.8278 - val_loss: 0.6752 - val_accuracy: 0.8157 - lr: 0.0013\n",
      "\n",
      "Epoch 29: LearningRateScheduler setting learning rate to 0.0012197091709822416.\n",
      "Epoch 29/36\n",
      "644/644 [==============================] - 1176s 2s/step - loss: 0.5521 - accuracy: 0.8319 - val_loss: 0.6747 - val_accuracy: 0.8152 - lr: 0.0012\n",
      "\n",
      "Epoch 30: LearningRateScheduler setting learning rate to 0.0011036385549232364.\n",
      "Epoch 30/36\n",
      "644/644 [==============================] - 1186s 2s/step - loss: 0.5372 - accuracy: 0.8364 - val_loss: 0.6589 - val_accuracy: 0.8204 - lr: 0.0011\n",
      "\n",
      "Epoch 31: LearningRateScheduler setting learning rate to 0.0009986134245991707.\n",
      "Epoch 31/36\n",
      "644/644 [==============================] - 1196s 2s/step - loss: 0.5250 - accuracy: 0.8390 - val_loss: 0.6583 - val_accuracy: 0.8201 - lr: 9.9861e-04\n",
      "\n",
      "Epoch 32: LearningRateScheduler setting learning rate to 0.000903582782484591.\n",
      "Epoch 32/36\n",
      "644/644 [==============================] - 1205s 2s/step - loss: 0.5149 - accuracy: 0.8422 - val_loss: 0.6468 - val_accuracy: 0.8242 - lr: 9.0358e-04\n",
      "\n",
      "Epoch 33: LearningRateScheduler setting learning rate to 0.0008175955154001713.\n",
      "Epoch 33/36\n",
      "644/644 [==============================] - 1204s 2s/step - loss: 0.5040 - accuracy: 0.8454 - val_loss: 0.6454 - val_accuracy: 0.8252 - lr: 8.1760e-04\n",
      "\n",
      "Epoch 34: LearningRateScheduler setting learning rate to 0.0007397910230793059.\n",
      "Epoch 34/36\n",
      "644/644 [==============================] - 1204s 2s/step - loss: 0.4946 - accuracy: 0.8480 - val_loss: 0.6388 - val_accuracy: 0.8273 - lr: 7.3979e-04\n",
      "\n",
      "Epoch 35: LearningRateScheduler setting learning rate to 0.0006693906034342945.\n",
      "Epoch 35/36\n",
      "644/644 [==============================] - 1206s 2s/step - loss: 0.4857 - accuracy: 0.8505 - val_loss: 0.6379 - val_accuracy: 0.8283 - lr: 6.6939e-04\n",
      "\n",
      "Epoch 36: LearningRateScheduler setting learning rate to 0.0006056896527297795.\n",
      "Epoch 36/36\n",
      "644/644 [==============================] - 1208s 2s/step - loss: 0.4783 - accuracy: 0.8525 - val_loss: 0.6345 - val_accuracy: 0.8294 - lr: 6.0569e-04\n"
     ]
    }
   ],
   "source": [
    "history = model.fit(\n",
    "    train_ds,\n",
    "    initial_epoch = 24,\n",
    "    epochs=epochs,\n",
    "    validation_data=val_ds,\n",
    "    steps_per_epoch=steps_per_epoch,\n",
    "    validation_steps=validation_steps,\n",
    "    callbacks=[es, model_checkpoint_callback, lr_scheduler]\n",
    ")"
   ]
  },
  {
   "cell_type": "code",
   "execution_count": 16,
   "id": "32ac1fe4",
   "metadata": {
    "execution": {
     "iopub.execute_input": "2024-09-16T11:14:33.953342Z",
     "iopub.status.busy": "2024-09-16T11:14:33.952991Z",
     "iopub.status.idle": "2024-09-16T11:14:34.360720Z",
     "shell.execute_reply": "2024-09-16T11:14:34.359769Z"
    },
    "papermill": {
     "duration": 0.955175,
     "end_time": "2024-09-16T11:14:34.363025",
     "exception": false,
     "start_time": "2024-09-16T11:14:33.407850",
     "status": "completed"
    },
    "tags": []
   },
   "outputs": [
    {
     "data": {
      "image/png": "[encoded data removed]",
      "text/plain": [
       "<Figure size 1200x600 with 2 Axes>"
      ]
     },
     "metadata": {},
     "output_type": "display_data"
    }
   ],
   "source": [
    "plot_history(history)"
   ]
  },
  {
   "cell_type": "code",
   "execution_count": 17,
   "id": "ecbe4267",
   "metadata": {
    "execution": {
     "iopub.execute_input": "2024-09-16T11:14:35.226556Z",
     "iopub.status.busy": "2024-09-16T11:14:35.225913Z",
     "iopub.status.idle": "2024-09-16T11:14:40.499302Z",
     "shell.execute_reply": "2024-09-16T11:14:40.497750Z"
    },
    "papermill": {
     "duration": 5.709564,
     "end_time": "2024-09-16T11:14:40.502413",
     "exception": false,
     "start_time": "2024-09-16T11:14:34.792849",
     "status": "completed"
    },
    "tags": []
   },
   "outputs": [],
   "source": [
    "model.save('model.h5')"
   ]
  },
  {
   "cell_type": "code",
   "execution_count": 18,
   "id": "cb023c57",
   "metadata": {
    "execution": {
     "iopub.execute_input": "2024-09-16T11:14:41.414345Z",
     "iopub.status.busy": "2024-09-16T11:14:41.413274Z",
     "iopub.status.idle": "2024-09-16T11:14:41.418825Z",
     "shell.execute_reply": "2024-09-16T11:14:41.417843Z"
    },
    "papermill": {
     "duration": 0.459304,
     "end_time": "2024-09-16T11:14:41.420812",
     "exception": false,
     "start_time": "2024-09-16T11:14:40.961508",
     "status": "completed"
    },
    "tags": []
   },
   "outputs": [],
   "source": [
    "import pickle\n",
    "\n",
    "with open('/trainHistoryDict', 'wb') as file_pi:\n",
    "    pickle.dump(history.history, file_pi)"
   ]
  },
  {
   "cell_type": "code",
   "execution_count": 19,
   "id": "cf16831c",
   "metadata": {
    "execution": {
     "iopub.execute_input": "2024-09-16T11:14:42.458373Z",
     "iopub.status.busy": "2024-09-16T11:14:42.457960Z",
     "iopub.status.idle": "2024-09-16T11:16:37.675208Z",
     "shell.execute_reply": "2024-09-16T11:16:37.674110Z"
    },
    "papermill": {
     "duration": 115.712016,
     "end_time": "2024-09-16T11:16:37.677477",
     "exception": false,
     "start_time": "2024-09-16T11:14:41.965461",
     "status": "completed"
    },
    "tags": []
   },
   "outputs": [
    {
     "name": "stdout",
     "output_type": "stream",
     "text": [
      "80/80 [==============================] - 115s 1s/step - loss: 0.8978 - accuracy: 0.7538\n",
      "Test Loss: 0.9\n",
      "Test Accuracy: 75.38%\n"
     ]
    }
   ],
   "source": [
    "test_steps = test_size // batch_size\n",
    "if test_size % batch_size != 0:\n",
    "    test_steps += 1\n",
    "\n",
    "test_loss, test_accuracy = model.evaluate(test_ds, steps=test_steps)\n",
    "\n",
    "test_loss = round(test_loss, 2)\n",
    "test_accuracy = round(test_accuracy * 100, 2)\n",
    "\n",
    "print(f\"Test Loss: {test_loss}\")\n",
    "print(f\"Test Accuracy: {test_accuracy}%\")"
   ]
  },
  {
   "cell_type": "code",
   "execution_count": null,
   "id": "67f0c768",
   "metadata": {
    "papermill": {
     "duration": 0.448445,
     "end_time": "2024-09-16T11:16:38.672969",
     "exception": false,
     "start_time": "2024-09-16T11:16:38.224524",
     "status": "completed"
    },
    "tags": []
   },
   "outputs": [],
   "source": []
  }
 ],
 "metadata": {
  "kaggle": {
   "accelerator": "tpu1vmV38",
   "dataSources": [
    {
     "sourceId": 145960787,
     "sourceType": "kernelVersion"
    },
    {
     "sourceId": 145978028,
     "sourceType": "kernelVersion"
    },
    {
     "sourceId": 158734309,
     "sourceType": "kernelVersion"
    },
    {
     "sourceId": 158734313,
     "sourceType": "kernelVersion"
    },
    {
     "sourceId": 196806022,
     "sourceType": "kernelVersion"
    }
   ],
   "dockerImageVersionId": 30529,
   "isGpuEnabled": false,
   "isInternetEnabled": true,
   "language": "python",
   "sourceType": "notebook"
  },
  "kernelspec": {
   "display_name": "Python 3",
   "language": "python",
   "name": "python3"
  },
  "language_info": {
   "codemirror_mode": {
    "name": "ipython",
    "version": 3
   },
   "file_extension": ".py",
   "mimetype": "text/x-python",
   "name": "python",
   "nbconvert_exporter": "python",
   "pygments_lexer": "ipython3",
   "version": "3.8.17"
  },
  "papermill": {
   "default_parameters": {},
   "duration": 14704.862487,
   "end_time": "2024-09-16T11:16:49.205587",
   "environment_variables": {},
   "exception": null,
   "input_path": "__notebook__.ipynb",
   "output_path": "__notebook__.ipynb",
   "parameters": {},
   "start_time": "2024-09-16T07:11:44.343100",
   "version": "2.4.0"
  }
 },
 "nbformat": 4,
 "nbformat_minor": 5
}
