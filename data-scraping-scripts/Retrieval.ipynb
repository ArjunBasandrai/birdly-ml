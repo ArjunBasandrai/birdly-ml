{
 "cells": [
  {
   "cell_type": "code",
   "execution_count": null,
   "id": "4f278f3f",
   "metadata": {},
   "outputs": [],
   "source": [
    "import requests\n",
    "import re\n",
    "import shutil\n",
    "import os\n",
    "\n",
    "from tqdm import tqdm\n",
    "\n",
    "from selenium import webdriver\n",
    "from selenium.webdriver.common.action_chains import ActionChains\n",
    "from selenium.webdriver.common.by import By\n",
    "\n",
    "from datetime import datetime\n",
    "from time import sleep\n",
    "\n",
    "import urllib.request"
   ]
  },
  {
   "cell_type": "code",
   "execution_count": null,
   "id": "20800ad5",
   "metadata": {},
   "outputs": [],
   "source": [
    "resp = requests.get('https://ebird.org/region/IN?yr=all')"
   ]
  },
  {
   "cell_type": "code",
   "execution_count": null,
   "id": "f3172585",
   "metadata": {},
   "outputs": [],
   "source": [
    "start = resp.text.find('<div id=\"place-species-observed-results\">')\n",
    "end_txt = '<span class=\"Heading-main\">Three-banded Rosefinch</span>'\n",
    "end = resp.text.find(end_txt) + len(end_txt)\n",
    "res = resp.text[start:end]"
   ]
  },
  {
   "cell_type": "code",
   "execution_count": null,
   "id": "69a63a0e",
   "metadata": {},
   "outputs": [],
   "source": [
    "pattern = r'data-species-code=\"(.*?)\"'\n",
    "codes = re.findall(pattern, res)"
   ]
  },
  {
   "cell_type": "code",
   "execution_count": null,
   "id": "76e7e69a",
   "metadata": {},
   "outputs": [],
   "source": [
    "pattern = '<span class=\"Heading-main\">(.*?)</span>'\n",
    "ssp = re.findall(pattern, res)"
   ]
  },
  {
   "cell_type": "code",
   "execution_count": null,
   "id": "adc7cb5a",
   "metadata": {},
   "outputs": [],
   "source": [
    "len(codes), len(ssp)"
   ]
  },
  {
   "cell_type": "code",
   "execution_count": null,
   "id": "405e24ee",
   "metadata": {},
   "outputs": [],
   "source": [
    "records = list(zip(ssp, codes))"
   ]
  },
  {
   "cell_type": "code",
   "execution_count": null,
   "id": "95f6094d",
   "metadata": {},
   "outputs": [],
   "source": [
    "step = len(records)/5\n",
    "batches = list()\n",
    "for i in range(5):\n",
    "    batches.append(records[int(i*step):int((i+1)*step)])\n",
    "for m in range(5):\n",
    "    with open(f'batches/batch{m+1}.txt','w') as f:\n",
    "        f.write(str(batches[m]))"
   ]
  }
 ],
 "metadata": {
  "kernelspec": {
   "display_name": "Python 3 (ipykernel)",
   "language": "python",
   "name": "python3"
  },
  "language_info": {
   "codemirror_mode": {
    "name": "ipython",
    "version": 3
   },
   "file_extension": ".py",
   "mimetype": "text/x-python",
   "name": "python",
   "nbconvert_exporter": "python",
   "pygments_lexer": "ipython3",
   "version": "3.8.0"
  }
 },
 "nbformat": 4,
 "nbformat_minor": 5
}
