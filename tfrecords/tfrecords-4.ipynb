{
 "cells": [
  {
   "cell_type": "code",
   "execution_count": 1,
   "id": "1fac4861",
   "metadata": {
    "_cell_guid": "b1076dfc-b9ad-4769-8c92-a6c4dae69d19",
    "_uuid": "8f2839f25d086af736a60e9eeb907d3b93b6e0e5",
    "execution": {
     "iopub.execute_input": "2024-01-12T17:40:32.740078Z",
     "iopub.status.busy": "2024-01-12T17:40:32.738790Z",
     "iopub.status.idle": "2024-01-12T17:40:42.174897Z",
     "shell.execute_reply": "2024-01-12T17:40:42.173628Z"
    },
    "papermill": {
     "duration": 9.449084,
     "end_time": "2024-01-12T17:40:42.177864",
     "exception": false,
     "start_time": "2024-01-12T17:40:32.728780",
     "status": "completed"
    },
    "tags": []
   },
   "outputs": [
    {
     "name": "stderr",
     "output_type": "stream",
     "text": [
      "/opt/conda/lib/python3.10/site-packages/scipy/__init__.py:146: UserWarning: A NumPy version >=1.16.5 and <1.23.0 is required for this version of SciPy (detected version 1.23.5\n",
      "  warnings.warn(f\"A NumPy version >={np_minversion} and <{np_maxversion}\"\n",
      "/opt/conda/lib/python3.10/site-packages/tensorflow_io/python/ops/__init__.py:98: UserWarning: unable to load libtensorflow_io_plugins.so: unable to open file: libtensorflow_io_plugins.so, from paths: ['/opt/conda/lib/python3.10/site-packages/tensorflow_io/python/ops/libtensorflow_io_plugins.so']\n",
      "caused by: ['/opt/conda/lib/python3.10/site-packages/tensorflow_io/python/ops/libtensorflow_io_plugins.so: undefined symbol: _ZN3tsl6StatusC1EN10tensorflow5error4CodeESt17basic_string_viewIcSt11char_traitsIcEENS_14SourceLocationE']\n",
      "  warnings.warn(f\"unable to load libtensorflow_io_plugins.so: {e}\")\n",
      "/opt/conda/lib/python3.10/site-packages/tensorflow_io/python/ops/__init__.py:104: UserWarning: file system plugins are not loaded: unable to open file: libtensorflow_io.so, from paths: ['/opt/conda/lib/python3.10/site-packages/tensorflow_io/python/ops/libtensorflow_io.so']\n",
      "caused by: ['/opt/conda/lib/python3.10/site-packages/tensorflow_io/python/ops/libtensorflow_io.so: undefined symbol: _ZTVN10tensorflow13GcsFileSystemE']\n",
      "  warnings.warn(f\"file system plugins are not loaded: {e}\")\n"
     ]
    },
    {
     "data": {
      "text/plain": [
       "'Tensorflow version: 2.12.0'"
      ]
     },
     "execution_count": 1,
     "metadata": {},
     "output_type": "execute_result"
    }
   ],
   "source": [
    "import numpy as np\n",
    "\n",
    "import os\n",
    "from tqdm import tqdm\n",
    "import gc\n",
    "import tensorflow as tf\n",
    "from tensorflow.keras.utils import image_dataset_from_directory\n",
    "f'Tensorflow version: {tf.__version__}'"
   ]
  },
  {
   "cell_type": "code",
   "execution_count": 2,
   "id": "51397ef4",
   "metadata": {
    "execution": {
     "iopub.execute_input": "2024-01-12T17:40:42.192628Z",
     "iopub.status.busy": "2024-01-12T17:40:42.191744Z",
     "iopub.status.idle": "2024-01-12T17:40:42.196996Z",
     "shell.execute_reply": "2024-01-12T17:40:42.195893Z"
    },
    "papermill": {
     "duration": 0.015108,
     "end_time": "2024-01-12T17:40:42.199375",
     "exception": false,
     "start_time": "2024-01-12T17:40:42.184267",
     "status": "completed"
    },
    "tags": []
   },
   "outputs": [],
   "source": [
    "batch_size = 16\n",
    "image_size = 480\n",
    "samples = 4096"
   ]
  },
  {
   "cell_type": "code",
   "execution_count": 3,
   "id": "0b3b9404",
   "metadata": {
    "execution": {
     "iopub.execute_input": "2024-01-12T17:40:42.213580Z",
     "iopub.status.busy": "2024-01-12T17:40:42.212613Z",
     "iopub.status.idle": "2024-01-12T17:40:42.219023Z",
     "shell.execute_reply": "2024-01-12T17:40:42.217888Z"
    },
    "papermill": {
     "duration": 0.015789,
     "end_time": "2024-01-12T17:40:42.221153",
     "exception": false,
     "start_time": "2024-01-12T17:40:42.205364",
     "status": "completed"
    },
    "tags": []
   },
   "outputs": [
    {
     "name": "stdout",
     "output_type": "stream",
     "text": [
      "5\n",
      "['/kaggle/input/indian-birds-2/training_data_16', '/kaggle/input/indian-birds-2/training_data_17', '/kaggle/input/indian-birds-2/training_data_18', '/kaggle/input/indian-birds-2/training_data_19', '/kaggle/input/indian-birds-2/training_data_20']\n"
     ]
    }
   ],
   "source": [
    "datasets = [\"/kaggle/input/indian-birds-2/training_data_16\", \"/kaggle/input/indian-birds-2/training_data_17\", \"/kaggle/input/indian-birds-2/training_data_18\", \"/kaggle/input/indian-birds-2/training_data_19\", \"/kaggle/input/indian-birds-2/training_data_20\"]\n",
    "# datasets=[]\n",
    "# datasets.extend(tf.io.gfile.glob(\"/kaggle/input/indian-birds-250/training_data_[^0-5]/*\"))\n",
    "print(len(datasets))\n",
    "print(datasets)"
   ]
  },
  {
   "cell_type": "code",
   "execution_count": 4,
   "id": "0bc9213b",
   "metadata": {
    "execution": {
     "iopub.execute_input": "2024-01-12T17:40:42.236688Z",
     "iopub.status.busy": "2024-01-12T17:40:42.235512Z",
     "iopub.status.idle": "2024-01-12T17:41:01.367370Z",
     "shell.execute_reply": "2024-01-12T17:41:01.366279Z"
    },
    "papermill": {
     "duration": 19.143489,
     "end_time": "2024-01-12T17:41:01.371083",
     "exception": false,
     "start_time": "2024-01-12T17:40:42.227594",
     "status": "completed"
    },
    "tags": []
   },
   "outputs": [
    {
     "name": "stdout",
     "output_type": "stream",
     "text": [
      "Found 40847 files belonging to 50 classes.\n",
      "Found 44925 files belonging to 50 classes.\n",
      "Found 33922 files belonging to 50 classes.\n",
      "Found 40103 files belonging to 50 classes.\n",
      "Found 35535 files belonging to 50 classes.\n"
     ]
    }
   ],
   "source": [
    "train_ds = None\n",
    "val_ds = None\n",
    "class_names = []\n",
    "increment = 750\n",
    "\n",
    "for i,ds in enumerate(datasets):\n",
    "    tds = image_dataset_from_directory(\n",
    "        ds,\n",
    "        seed=123,\n",
    "        image_size=(image_size, image_size),\n",
    "        batch_size=batch_size\n",
    "    )\n",
    "\n",
    "    class_names.extend(tds.class_names)\n",
    "\n",
    "    tds = tds.map(lambda x, y: (x, y + increment))\n",
    "    if train_ds is None:\n",
    "        train_ds = tds\n",
    "    else:\n",
    "        train_ds = train_ds.concatenate(tds)\n",
    "\n",
    "    if ds != datasets[-1]:\n",
    "        increment += len(os.listdir(datasets[i+1]))"
   ]
  },
  {
   "cell_type": "code",
   "execution_count": 5,
   "id": "775dd96f",
   "metadata": {
    "execution": {
     "iopub.execute_input": "2024-01-12T17:41:01.388446Z",
     "iopub.status.busy": "2024-01-12T17:41:01.387958Z",
     "iopub.status.idle": "2024-01-12T17:41:01.397052Z",
     "shell.execute_reply": "2024-01-12T17:41:01.395764Z"
    },
    "papermill": {
     "duration": 0.020841,
     "end_time": "2024-01-12T17:41:01.399317",
     "exception": false,
     "start_time": "2024-01-12T17:41:01.378476",
     "status": "completed"
    },
    "tags": []
   },
   "outputs": [],
   "source": [
    "def int64_feature(value):\n",
    "    return tf.train.Feature(int64_list=tf.train.Int64List(value=[value]))\n",
    "\n",
    "def image_feature(value):\n",
    "    return tf.train.Feature(bytes_list=tf.train.BytesList(value=[tf.io.encode_jpeg(value).numpy()]))\n",
    "\n",
    "def serialize_example(feature0, feature1):\n",
    "    feature = {\n",
    "      'feature0': image_feature(feature0),\n",
    "      'feature1': int64_feature(feature1)\n",
    "    }\n",
    "    example_proto = tf.train.Example(features=tf.train.Features(feature=feature))\n",
    "    return example_proto.SerializeToString()\n",
    "    \n",
    "def tf_serialize_example(f0,f1):\n",
    "    tf_string = tf.py_function(serialize_example, (f0, f1), tf.string)\n",
    "    return tf.reshape(tf_string, ())"
   ]
  },
  {
   "cell_type": "code",
   "execution_count": 6,
   "id": "db4200b7",
   "metadata": {
    "execution": {
     "iopub.execute_input": "2024-01-12T17:41:01.416615Z",
     "iopub.status.busy": "2024-01-12T17:41:01.415356Z",
     "iopub.status.idle": "2024-01-12T17:41:01.421480Z",
     "shell.execute_reply": "2024-01-12T17:41:01.420524Z"
    },
    "papermill": {
     "duration": 0.017325,
     "end_time": "2024-01-12T17:41:01.423872",
     "exception": false,
     "start_time": "2024-01-12T17:41:01.406547",
     "status": "completed"
    },
    "tags": []
   },
   "outputs": [],
   "source": [
    "if not os.path.exists('tfrecords'):\n",
    "    os.mkdir('tfrecords')"
   ]
  },
  {
   "cell_type": "code",
   "execution_count": 7,
   "id": "49585124",
   "metadata": {
    "execution": {
     "iopub.execute_input": "2024-01-12T17:41:01.440608Z",
     "iopub.status.busy": "2024-01-12T17:41:01.439726Z",
     "iopub.status.idle": "2024-01-12T17:41:01.452604Z",
     "shell.execute_reply": "2024-01-12T17:41:01.451479Z"
    },
    "papermill": {
     "duration": 0.024203,
     "end_time": "2024-01-12T17:41:01.455284",
     "exception": false,
     "start_time": "2024-01-12T17:41:01.431081",
     "status": "completed"
    },
    "tags": []
   },
   "outputs": [
    {
     "data": {
      "text/plain": [
       "['American Pipit',\n",
       " 'Amur Paradise-Flycatcher',\n",
       " 'Amur Stonechat',\n",
       " 'Arctic Warbler',\n",
       " 'Ashambu Laughingthrush',\n",
       " 'Ashy Minivet',\n",
       " 'Asian Desert Warbler',\n",
       " 'Asian Dowitcher',\n",
       " 'Asian Stubtail',\n",
       " 'Australasian Grass-Owl',\n",
       " 'Baer_s Pochard',\n",
       " 'Baikal Bush Warbler',\n",
       " 'Baikal Teal',\n",
       " 'Baillon_s Crake',\n",
       " 'Banasura Laughingthrush',\n",
       " 'Bar-tailed Godwit',\n",
       " 'Beach Thick-knee',\n",
       " 'Bimaculated Lark',\n",
       " 'Black-bellied Sandgrouse',\n",
       " 'Black-bellied Tern',\n",
       " 'Black-browed Reed Warbler',\n",
       " 'Black-faced Bunting',\n",
       " 'Black-headed Bunting',\n",
       " 'Black-rumped Magpie',\n",
       " 'Black-throated Accentor',\n",
       " 'Black-throated Thrush',\n",
       " 'Blue-and-white Flycatcher',\n",
       " 'Blue-winged Pitta',\n",
       " 'Blunt-winged Warbler',\n",
       " 'Blyth_s Pipit',\n",
       " 'Booted Warbler',\n",
       " 'Brambling',\n",
       " 'Broad-billed Sandpiper',\n",
       " 'Brown-breasted Flycatcher',\n",
       " 'Brown-capped Laughingthrush',\n",
       " 'Brown-cheeked Rail',\n",
       " 'Brown-rumped Minivet',\n",
       " 'Burmese Shrike',\n",
       " 'Caspian Gull',\n",
       " 'Caspian Plover',\n",
       " 'Cetti_s Warbler',\n",
       " 'Chestnut Bunting',\n",
       " 'Chestnut-cheeked Starling',\n",
       " 'Chestnut-flanked White-eye',\n",
       " 'Chestnut-vented Nuthatch',\n",
       " 'Chin Hills Wren-Babbler',\n",
       " 'Chinese Francolin',\n",
       " 'Chinese Sparrowhawk',\n",
       " 'Christmas Island Frigatebird',\n",
       " 'Common Chiffchaff',\n",
       " 'Common Goldeneye',\n",
       " 'Common Grasshopper Warbler',\n",
       " 'Common Gull',\n",
       " 'Common Quail',\n",
       " 'Common Redstart',\n",
       " 'Common Ringed Plover',\n",
       " 'Common Shelduck',\n",
       " 'Common Snipe',\n",
       " 'Common Wood-Pigeon',\n",
       " 'Cream-colored Courser',\n",
       " 'Dark-rumped Swift',\n",
       " 'Dark-sided Thrush',\n",
       " 'Daurian Redstart',\n",
       " 'Daurian Starling',\n",
       " 'Desert Finch',\n",
       " 'Eastern Marsh-Harrier',\n",
       " 'Eastern Orphean Warbler',\n",
       " 'Eastern Spot-billed Duck',\n",
       " 'Eurasian Blackcap',\n",
       " 'Eurasian Marsh-Harrier',\n",
       " 'Eurasian Nightjar',\n",
       " 'Eurasian Oystercatcher',\n",
       " 'Eurasian Scops-Owl',\n",
       " 'Eurasian Siskin',\n",
       " 'European Honey-buzzard',\n",
       " 'Eyebrowed Thrush',\n",
       " 'Falcated Duck',\n",
       " 'Golden-crested Myna',\n",
       " 'Gray-eyed Bulbul',\n",
       " 'Gray-necked Bunting',\n",
       " 'Gray-sided Thrush',\n",
       " 'Great Bittern',\n",
       " 'Greater Hoopoe-Lark',\n",
       " 'Greater Scaup',\n",
       " 'Greater Spotted Eagle',\n",
       " 'Greater White-fronted Goose',\n",
       " 'Green Warbler',\n",
       " 'Hen Harrier',\n",
       " 'Hodgson_s Redstart',\n",
       " 'Horned Grebe',\n",
       " 'Hume_s Pheasant',\n",
       " 'Hume_s Treecreeper',\n",
       " 'Hume_s Wheatear',\n",
       " 'Hypocolius',\n",
       " 'Imperial Eagle',\n",
       " 'Indian Skimmer',\n",
       " 'Isabelline Shrike',\n",
       " 'Isabelline Wheatear',\n",
       " 'Jack Snipe',\n",
       " 'Japanese Sparrowhawk',\n",
       " 'Japanese Thrush',\n",
       " 'Lanceolated Warbler',\n",
       " 'Large-billed Reed Warbler',\n",
       " 'Lesser Frigatebird',\n",
       " 'Lesser Gray Shrike',\n",
       " 'Lesser Kestrel',\n",
       " 'Lesser Noddy',\n",
       " 'Lesser White-fronted Goose',\n",
       " 'Little Bunting',\n",
       " 'Little Crake',\n",
       " 'Long-billed Dowitcher',\n",
       " 'Long-tailed Duck',\n",
       " 'Long-tailed Jaeger',\n",
       " 'Long-toed Stint',\n",
       " 'Macqueen_s Bustard',\n",
       " 'Mandarin Duck',\n",
       " 'Marbled Teal',\n",
       " 'Maroon-backed Accentor',\n",
       " 'Meadow Pipit',\n",
       " 'Merlin',\n",
       " 'Mongolian Short-toed Lark',\n",
       " 'Montagu_s Harrier',\n",
       " 'Mount Victoria Babax',\n",
       " 'Mountain Bamboo-Partridge',\n",
       " 'Moustached Laughingthrush',\n",
       " 'Moustached Warbler',\n",
       " 'Mugimaki Flycatcher',\n",
       " 'Naga Wren-Babbler',\n",
       " 'Namaqua Dove',\n",
       " 'Naumann_s Thrush',\n",
       " 'Nicobar Bulbul',\n",
       " 'Nicobar Imperial-Pigeon',\n",
       " 'Nicobar Jungle Flycatcher',\n",
       " 'Nicobar Megapode',\n",
       " 'Nicobar Parakeet',\n",
       " 'Nicobar Pigeon',\n",
       " 'Nicobar Scops-Owl',\n",
       " 'Nicobar Serpent-Eagle',\n",
       " 'Nicobar Sparrowhawk',\n",
       " 'Nordmann_s Greenshank',\n",
       " 'Northern Goshawk',\n",
       " 'Northern Lapwing',\n",
       " 'Oriental Bay-Owl',\n",
       " 'Oriental Plover',\n",
       " 'Oriental Reed Warbler',\n",
       " 'Ortolan Bunting',\n",
       " 'Pacific Swift',\n",
       " 'Paddyfield Warbler',\n",
       " 'Pale Rockfinch',\n",
       " 'Pale Rosefinch',\n",
       " 'Pale-legged Leaf Warbler',\n",
       " 'Pallas_s Grasshopper Warbler',\n",
       " 'Pallid Harrier',\n",
       " 'Pallid Scops-Owl',\n",
       " 'Pectoral Sandpiper',\n",
       " 'Persian Wheatear',\n",
       " 'Pied Harrier',\n",
       " 'Pied Triller',\n",
       " 'Pine Bunting',\n",
       " 'Plain Leaf Warbler',\n",
       " 'Pomarine Jaeger',\n",
       " 'Red Knot',\n",
       " 'Red Phalarope',\n",
       " 'Red-backed Shrike',\n",
       " 'Red-billed Tropicbird',\n",
       " 'Red-breasted Flycatcher',\n",
       " 'Red-breasted Goose',\n",
       " 'Red-breasted Merganser',\n",
       " 'Red-flanked Bluetail',\n",
       " 'Red-footed Booby',\n",
       " 'Red-fronted Rosefinch',\n",
       " 'Red-legged Crake',\n",
       " 'Red-necked Grebe',\n",
       " 'Red-necked Stint',\n",
       " 'Red-throated Thrush',\n",
       " 'Reed Bunting',\n",
       " 'Rook',\n",
       " 'Roseate Tern',\n",
       " 'Rufous-backed Redstart',\n",
       " 'Rufous-tailed Rock-Thrush',\n",
       " 'Rufous-tailed Scrub-Robin',\n",
       " 'Rufous-vented Grass Babbler',\n",
       " 'Rufous-vented Laughingthrush',\n",
       " 'Rufous-winged Buzzard',\n",
       " 'Rustic Bunting',\n",
       " 'Sakhalin Leaf Warbler',\n",
       " 'Sclater_s Monal',\n",
       " 'Sedge Warbler',\n",
       " 'Sharp-tailed Sandpiper',\n",
       " 'Short-eared Owl',\n",
       " 'Short-tailed Shearwater',\n",
       " 'Siberian Blue Robin',\n",
       " 'Siberian Rubythroat',\n",
       " 'Siberian Thrush',\n",
       " 'Sichuan Leaf Warbler',\n",
       " 'Silver-backed Needletail',\n",
       " 'Slaty-backed Flycatcher',\n",
       " 'Slender-billed Babbler',\n",
       " 'Slender-billed Vulture',\n",
       " 'Smew',\n",
       " 'Smoky Warbler',\n",
       " 'Sociable Lapwing',\n",
       " 'Solitary Snipe',\n",
       " 'Sooty Gull',\n",
       " 'Sooty Shearwater',\n",
       " 'Spanish Sparrow',\n",
       " 'Spot-throated Babbler',\n",
       " 'Spotted Crake',\n",
       " 'Spotted Sandgrouse',\n",
       " 'Sri Lanka Bay-Owl',\n",
       " 'Stripe-breasted Woodpecker',\n",
       " 'Striped Laughingthrush',\n",
       " 'Swinhoe_s Storm-Petrel',\n",
       " 'Sykes_s Nightjar',\n",
       " 'Sykes_s Warbler',\n",
       " 'Taiga Bean-Goose',\n",
       " 'Tawny Pipit',\n",
       " 'Thick-billed Warbler',\n",
       " 'Three-banded Rosefinch',\n",
       " 'Tibetan Serin',\n",
       " 'Trumpeter Finch',\n",
       " 'Tundra Bean-Goose',\n",
       " 'Tundra Swan',\n",
       " 'Two-barred Warbler',\n",
       " 'Van Hasselt_s Sunbird',\n",
       " 'Vinaceous Rosefinch',\n",
       " 'Water Pipit',\n",
       " 'Water Rail',\n",
       " 'Wedge-tailed Shearwater',\n",
       " 'Whinchat',\n",
       " 'White Stork',\n",
       " 'White-backed Thrush',\n",
       " 'White-browed Bushchat',\n",
       " 'White-browed Laughingthrush',\n",
       " 'White-crowned Penduline-Tit',\n",
       " 'White-rumped Snowfinch',\n",
       " 'White-shouldered Starling',\n",
       " 'White-tailed Eagle',\n",
       " 'White-tailed Flycatcher',\n",
       " 'White-tailed Lapwing',\n",
       " 'White-tailed Tropicbird',\n",
       " 'White-throated Bushchat',\n",
       " 'Wood Snipe',\n",
       " 'Wood Warbler',\n",
       " 'Yellow-browed Bunting',\n",
       " 'Yellow-browed Warbler',\n",
       " 'Yellow-eyed Pigeon',\n",
       " 'Yellow-rumped Flycatcher',\n",
       " 'Yellow-throated Laughingthrush',\n",
       " 'Yellowhammer']"
      ]
     },
     "execution_count": 7,
     "metadata": {},
     "output_type": "execute_result"
    }
   ],
   "source": [
    "class_names"
   ]
  },
  {
   "cell_type": "code",
   "execution_count": 8,
   "id": "3840a843",
   "metadata": {
    "execution": {
     "iopub.execute_input": "2024-01-12T17:41:01.473960Z",
     "iopub.status.busy": "2024-01-12T17:41:01.472590Z",
     "iopub.status.idle": "2024-01-12T17:41:01.479413Z",
     "shell.execute_reply": "2024-01-12T17:41:01.478419Z"
    },
    "papermill": {
     "duration": 0.018781,
     "end_time": "2024-01-12T17:41:01.482046",
     "exception": false,
     "start_time": "2024-01-12T17:41:01.463265",
     "status": "completed"
    },
    "tags": []
   },
   "outputs": [],
   "source": [
    "with open('cnames.txt','w') as f:\n",
    "    f.write(str(class_names))"
   ]
  },
  {
   "cell_type": "code",
   "execution_count": 9,
   "id": "db0e378f",
   "metadata": {
    "execution": {
     "iopub.execute_input": "2024-01-12T17:41:01.500756Z",
     "iopub.status.busy": "2024-01-12T17:41:01.500286Z",
     "iopub.status.idle": "2024-01-12T17:41:01.521583Z",
     "shell.execute_reply": "2024-01-12T17:41:01.520193Z"
    },
    "papermill": {
     "duration": 0.034555,
     "end_time": "2024-01-12T17:41:01.525064",
     "exception": false,
     "start_time": "2024-01-12T17:41:01.490509",
     "status": "completed"
    },
    "tags": []
   },
   "outputs": [],
   "source": [
    "train_ds = train_ds.unbatch()"
   ]
  },
  {
   "cell_type": "code",
   "execution_count": 10,
   "id": "b2442881",
   "metadata": {
    "execution": {
     "iopub.execute_input": "2024-01-12T17:41:01.545609Z",
     "iopub.status.busy": "2024-01-12T17:41:01.544578Z",
     "iopub.status.idle": "2024-01-12T17:41:01.858570Z",
     "shell.execute_reply": "2024-01-12T17:41:01.857376Z"
    },
    "papermill": {
     "duration": 0.326028,
     "end_time": "2024-01-12T17:41:01.861057",
     "exception": false,
     "start_time": "2024-01-12T17:41:01.535029",
     "status": "completed"
    },
    "tags": []
   },
   "outputs": [
    {
     "data": {
      "text/plain": [
       "83"
      ]
     },
     "execution_count": 10,
     "metadata": {},
     "output_type": "execute_result"
    }
   ],
   "source": [
    "del tds,increment,datasets,ds\n",
    "gc.collect()"
   ]
  },
  {
   "cell_type": "code",
   "execution_count": 11,
   "id": "0c28de04",
   "metadata": {
    "execution": {
     "iopub.execute_input": "2024-01-12T17:41:01.879391Z",
     "iopub.status.busy": "2024-01-12T17:41:01.878943Z",
     "iopub.status.idle": "2024-01-12T18:15:18.688691Z",
     "shell.execute_reply": "2024-01-12T18:15:18.686057Z"
    },
    "papermill": {
     "duration": 2056.822472,
     "end_time": "2024-01-12T18:15:18.691626",
     "exception": false,
     "start_time": "2024-01-12T17:41:01.869154",
     "status": "completed"
    },
    "tags": []
   },
   "outputs": [
    {
     "name": "stderr",
     "output_type": "stream",
     "text": [
      "195332it [34:16, 94.97it/s] \n"
     ]
    }
   ],
   "source": [
    "serialized=list()\n",
    "\n",
    "for images, labels in tqdm(train_ds):\n",
    "    serialized.append(serialize_example(images.numpy(),labels.numpy()))"
   ]
  },
  {
   "cell_type": "code",
   "execution_count": 12,
   "id": "5a956140",
   "metadata": {
    "execution": {
     "iopub.execute_input": "2024-01-12T18:15:21.150910Z",
     "iopub.status.busy": "2024-01-12T18:15:21.149401Z",
     "iopub.status.idle": "2024-01-12T18:15:22.078383Z",
     "shell.execute_reply": "2024-01-12T18:15:22.077143Z"
    },
    "papermill": {
     "duration": 2.106632,
     "end_time": "2024-01-12T18:15:22.081003",
     "exception": false,
     "start_time": "2024-01-12T18:15:19.974371",
     "status": "completed"
    },
    "tags": []
   },
   "outputs": [
    {
     "data": {
      "text/plain": [
       "0"
      ]
     },
     "execution_count": 12,
     "metadata": {},
     "output_type": "execute_result"
    }
   ],
   "source": [
    "gc.collect()"
   ]
  },
  {
   "cell_type": "code",
   "execution_count": 13,
   "id": "d807504a",
   "metadata": {
    "execution": {
     "iopub.execute_input": "2024-01-12T18:15:24.521064Z",
     "iopub.status.busy": "2024-01-12T18:15:24.520590Z",
     "iopub.status.idle": "2024-01-12T18:15:24.525942Z",
     "shell.execute_reply": "2024-01-12T18:15:24.525018Z"
    },
    "papermill": {
     "duration": 1.285892,
     "end_time": "2024-01-12T18:15:24.528154",
     "exception": false,
     "start_time": "2024-01-12T18:15:23.242262",
     "status": "completed"
    },
    "tags": []
   },
   "outputs": [],
   "source": [
    "l = len(serialized)"
   ]
  },
  {
   "cell_type": "code",
   "execution_count": 14,
   "id": "cf1fc6d3",
   "metadata": {
    "execution": {
     "iopub.execute_input": "2024-01-12T18:15:27.047572Z",
     "iopub.status.busy": "2024-01-12T18:15:27.046914Z",
     "iopub.status.idle": "2024-01-12T18:15:27.407465Z",
     "shell.execute_reply": "2024-01-12T18:15:27.406066Z"
    },
    "papermill": {
     "duration": 1.723882,
     "end_time": "2024-01-12T18:15:27.410688",
     "exception": false,
     "start_time": "2024-01-12T18:15:25.686806",
     "status": "completed"
    },
    "tags": []
   },
   "outputs": [
    {
     "data": {
      "text/plain": [
       "0"
      ]
     },
     "execution_count": 14,
     "metadata": {},
     "output_type": "execute_result"
    }
   ],
   "source": [
    "del f,images,labels\n",
    "gc.collect()"
   ]
  },
  {
   "cell_type": "code",
   "execution_count": 15,
   "id": "4ab25bbc",
   "metadata": {
    "execution": {
     "iopub.execute_input": "2024-01-12T18:15:29.852464Z",
     "iopub.status.busy": "2024-01-12T18:15:29.852016Z",
     "iopub.status.idle": "2024-01-12T18:15:29.915303Z",
     "shell.execute_reply": "2024-01-12T18:15:29.913652Z"
    },
    "papermill": {
     "duration": 1.342096,
     "end_time": "2024-01-12T18:15:29.918524",
     "exception": false,
     "start_time": "2024-01-12T18:15:28.576428",
     "status": "completed"
    },
    "tags": []
   },
   "outputs": [],
   "source": [
    "ix = l//samples\n",
    "serialized_temp = list()\n",
    "for i in range(ix):\n",
    "    serialized_temp.append(serialized[i*samples:(i+1)*samples])\n",
    "serialized_temp.append(serialized[(ix)*samples:])"
   ]
  },
  {
   "cell_type": "code",
   "execution_count": 16,
   "id": "1b3a9f6a",
   "metadata": {
    "execution": {
     "iopub.execute_input": "2024-01-12T18:15:32.353668Z",
     "iopub.status.busy": "2024-01-12T18:15:32.353169Z",
     "iopub.status.idle": "2024-01-12T18:15:32.380286Z",
     "shell.execute_reply": "2024-01-12T18:15:32.378891Z"
    },
    "papermill": {
     "duration": 1.191915,
     "end_time": "2024-01-12T18:15:32.382787",
     "exception": false,
     "start_time": "2024-01-12T18:15:31.190872",
     "status": "completed"
    },
    "tags": []
   },
   "outputs": [],
   "source": [
    "del serialized, ix"
   ]
  },
  {
   "cell_type": "code",
   "execution_count": 17,
   "id": "7eadd088",
   "metadata": {
    "execution": {
     "iopub.execute_input": "2024-01-12T18:15:34.821328Z",
     "iopub.status.busy": "2024-01-12T18:15:34.820206Z",
     "iopub.status.idle": "2024-01-12T18:16:33.978651Z",
     "shell.execute_reply": "2024-01-12T18:16:33.977460Z"
    },
    "papermill": {
     "duration": 71.28086,
     "end_time": "2024-01-12T18:16:44.828320",
     "exception": false,
     "start_time": "2024-01-12T18:15:33.547460",
     "status": "completed"
    },
    "tags": []
   },
   "outputs": [
    {
     "name": "stdout",
     "output_type": "stream",
     "text": [
      "CPU times: user 11.6 s, sys: 17.2 s, total: 28.8 s\n",
      "Wall time: 59.1 s\n"
     ]
    },
    {
     "data": {
      "text/plain": [
       "0"
      ]
     },
     "execution_count": 17,
     "metadata": {},
     "output_type": "execute_result"
    }
   ],
   "source": [
    "%%time\n",
    "for i,s in enumerate(serialized_temp):\n",
    "    filename = os.path.join(\"tfrecords\",\"batch_3_{:02.0f}.tfrec\".format(i))\n",
    "    with tf.io.TFRecordWriter(filename) as writer:\n",
    "        for rec in s:\n",
    "            writer.write(rec)\n",
    "del i,s,serialized_temp,writer\n",
    "gc.collect()"
   ]
  },
  {
   "cell_type": "code",
   "execution_count": null,
   "id": "3049c2de",
   "metadata": {
    "papermill": {
     "duration": 1.188581,
     "end_time": "2024-01-12T18:16:47.290149",
     "exception": false,
     "start_time": "2024-01-12T18:16:46.101568",
     "status": "completed"
    },
    "tags": []
   },
   "outputs": [],
   "source": []
  },
  {
   "cell_type": "code",
   "execution_count": null,
   "id": "f469897a",
   "metadata": {
    "papermill": {
     "duration": 1.275238,
     "end_time": "2024-01-12T18:16:49.844073",
     "exception": false,
     "start_time": "2024-01-12T18:16:48.568835",
     "status": "completed"
    },
    "tags": []
   },
   "outputs": [],
   "source": []
  }
 ],
 "metadata": {
  "kaggle": {
   "accelerator": "none",
   "dataSources": [
    {
     "datasetId": 3526251,
     "sourceId": 6374815,
     "sourceType": "datasetVersion"
    },
    {
     "datasetId": 3676658,
     "sourceId": 6626169,
     "sourceType": "datasetVersion"
    }
   ],
   "dockerImageVersionId": 30527,
   "isGpuEnabled": false,
   "isInternetEnabled": true,
   "language": "python",
   "sourceType": "notebook"
  },
  "kernelspec": {
   "display_name": "Python 3",
   "language": "python",
   "name": "python3"
  },
  "language_info": {
   "codemirror_mode": {
    "name": "ipython",
    "version": 3
   },
   "file_extension": ".py",
   "mimetype": "text/x-python",
   "name": "python",
   "nbconvert_exporter": "python",
   "pygments_lexer": "ipython3",
   "version": "3.10.12"
  },
  "papermill": {
   "default_parameters": {},
   "duration": 2194.981861,
   "end_time": "2024-01-12T18:16:55.305273",
   "environment_variables": {},
   "exception": null,
   "input_path": "__notebook__.ipynb",
   "output_path": "__notebook__.ipynb",
   "parameters": {},
   "start_time": "2024-01-12T17:40:20.323412",
   "version": "2.4.0"
  }
 },
 "nbformat": 4,
 "nbformat_minor": 5
}
