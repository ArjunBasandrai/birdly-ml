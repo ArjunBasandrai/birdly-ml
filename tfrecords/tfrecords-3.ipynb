{
 "cells": [
  {
   "cell_type": "code",
   "execution_count": 1,
   "id": "35f6f084",
   "metadata": {
    "_cell_guid": "b1076dfc-b9ad-4769-8c92-a6c4dae69d19",
    "_uuid": "8f2839f25d086af736a60e9eeb907d3b93b6e0e5",
    "execution": {
     "iopub.execute_input": "2024-01-12T17:24:11.917434Z",
     "iopub.status.busy": "2024-01-12T17:24:11.916952Z",
     "iopub.status.idle": "2024-01-12T17:24:22.267482Z",
     "shell.execute_reply": "2024-01-12T17:24:22.266654Z"
    },
    "papermill": {
     "duration": 10.360559,
     "end_time": "2024-01-12T17:24:22.269673",
     "exception": false,
     "start_time": "2024-01-12T17:24:11.909114",
     "status": "completed"
    },
    "tags": []
   },
   "outputs": [
    {
     "name": "stderr",
     "output_type": "stream",
     "text": [
      "/opt/conda/lib/python3.10/site-packages/scipy/__init__.py:146: UserWarning: A NumPy version >=1.16.5 and <1.23.0 is required for this version of SciPy (detected version 1.23.5\n",
      "  warnings.warn(f\"A NumPy version >={np_minversion} and <{np_maxversion}\"\n",
      "/opt/conda/lib/python3.10/site-packages/tensorflow_io/python/ops/__init__.py:98: UserWarning: unable to load libtensorflow_io_plugins.so: unable to open file: libtensorflow_io_plugins.so, from paths: ['/opt/conda/lib/python3.10/site-packages/tensorflow_io/python/ops/libtensorflow_io_plugins.so']\n",
      "caused by: ['/opt/conda/lib/python3.10/site-packages/tensorflow_io/python/ops/libtensorflow_io_plugins.so: undefined symbol: _ZN3tsl6StatusC1EN10tensorflow5error4CodeESt17basic_string_viewIcSt11char_traitsIcEENS_14SourceLocationE']\n",
      "  warnings.warn(f\"unable to load libtensorflow_io_plugins.so: {e}\")\n",
      "/opt/conda/lib/python3.10/site-packages/tensorflow_io/python/ops/__init__.py:104: UserWarning: file system plugins are not loaded: unable to open file: libtensorflow_io.so, from paths: ['/opt/conda/lib/python3.10/site-packages/tensorflow_io/python/ops/libtensorflow_io.so']\n",
      "caused by: ['/opt/conda/lib/python3.10/site-packages/tensorflow_io/python/ops/libtensorflow_io.so: undefined symbol: _ZTVN10tensorflow13GcsFileSystemE']\n",
      "  warnings.warn(f\"file system plugins are not loaded: {e}\")\n"
     ]
    },
    {
     "data": {
      "text/plain": [
       "'Tensorflow version: 2.12.0'"
      ]
     },
     "execution_count": 1,
     "metadata": {},
     "output_type": "execute_result"
    }
   ],
   "source": [
    "import numpy as np\n",
    "\n",
    "import os\n",
    "from tqdm import tqdm\n",
    "import gc\n",
    "import tensorflow as tf\n",
    "from tensorflow.keras.utils import image_dataset_from_directory\n",
    "f'Tensorflow version: {tf.__version__}'"
   ]
  },
  {
   "cell_type": "code",
   "execution_count": 2,
   "id": "5ca176e9",
   "metadata": {
    "execution": {
     "iopub.execute_input": "2024-01-12T17:24:22.284995Z",
     "iopub.status.busy": "2024-01-12T17:24:22.283683Z",
     "iopub.status.idle": "2024-01-12T17:24:22.289396Z",
     "shell.execute_reply": "2024-01-12T17:24:22.288136Z"
    },
    "papermill": {
     "duration": 0.015873,
     "end_time": "2024-01-12T17:24:22.291950",
     "exception": false,
     "start_time": "2024-01-12T17:24:22.276077",
     "status": "completed"
    },
    "tags": []
   },
   "outputs": [],
   "source": [
    "batch_size = 16\n",
    "image_size = 480\n",
    "samples = 4096"
   ]
  },
  {
   "cell_type": "code",
   "execution_count": 3,
   "id": "9a43609d",
   "metadata": {
    "execution": {
     "iopub.execute_input": "2024-01-12T17:24:22.307761Z",
     "iopub.status.busy": "2024-01-12T17:24:22.306978Z",
     "iopub.status.idle": "2024-01-12T17:24:22.313217Z",
     "shell.execute_reply": "2024-01-12T17:24:22.312103Z"
    },
    "papermill": {
     "duration": 0.016391,
     "end_time": "2024-01-12T17:24:22.315392",
     "exception": false,
     "start_time": "2024-01-12T17:24:22.299001",
     "status": "completed"
    },
    "tags": []
   },
   "outputs": [
    {
     "name": "stdout",
     "output_type": "stream",
     "text": [
      "5\n",
      "['/kaggle/input/indian-birds-250/training_data_11/training_data_11', '/kaggle/input/indian-birds-2/training_data_12/training_data_12', '/kaggle/input/indian-birds-2/training_data_13/training_data_13', '/kaggle/input/indian-birds-2/training_data_14/training_data_14', '/kaggle/input/indian-birds-2/training_data_15/training_data_15']\n"
     ]
    }
   ],
   "source": [
    "datasets = [\"/kaggle/input/indian-birds-250/training_data_11/training_data_11\", \"/kaggle/input/indian-birds-2/training_data_12/training_data_12\", \"/kaggle/input/indian-birds-2/training_data_13/training_data_13\", \"/kaggle/input/indian-birds-2/training_data_14/training_data_14\", \"/kaggle/input/indian-birds-2/training_data_15/training_data_15\"]\n",
    "# datasets=[]\n",
    "# datasets.extend(tf.io.gfile.glob(\"/kaggle/input/indian-birds-250/training_data_[^0-5]/*\"))\n",
    "print(len(datasets))\n",
    "print(datasets)"
   ]
  },
  {
   "cell_type": "code",
   "execution_count": 4,
   "id": "c282fbe8",
   "metadata": {
    "execution": {
     "iopub.execute_input": "2024-01-12T17:24:22.330381Z",
     "iopub.status.busy": "2024-01-12T17:24:22.329506Z",
     "iopub.status.idle": "2024-01-12T17:24:39.656905Z",
     "shell.execute_reply": "2024-01-12T17:24:39.655521Z"
    },
    "papermill": {
     "duration": 17.338098,
     "end_time": "2024-01-12T17:24:39.659817",
     "exception": false,
     "start_time": "2024-01-12T17:24:22.321719",
     "status": "completed"
    },
    "tags": []
   },
   "outputs": [
    {
     "name": "stdout",
     "output_type": "stream",
     "text": [
      "Found 38971 files belonging to 50 classes.\n",
      "Found 42161 files belonging to 50 classes.\n",
      "Found 32671 files belonging to 50 classes.\n",
      "Found 36869 files belonging to 50 classes.\n",
      "Found 39798 files belonging to 50 classes.\n"
     ]
    }
   ],
   "source": [
    "train_ds = None\n",
    "val_ds = None\n",
    "class_names = []\n",
    "increment = 500\n",
    "\n",
    "for i,ds in enumerate(datasets):\n",
    "    tds = image_dataset_from_directory(\n",
    "        ds,\n",
    "        seed=123,\n",
    "        image_size=(image_size, image_size),\n",
    "        batch_size=batch_size\n",
    "    )\n",
    "\n",
    "    class_names.extend(tds.class_names)\n",
    "\n",
    "    tds = tds.map(lambda x, y: (x, y + increment))\n",
    "    if train_ds is None:\n",
    "        train_ds = tds\n",
    "    else:\n",
    "        train_ds = train_ds.concatenate(tds)\n",
    "\n",
    "    if ds != datasets[-1]:\n",
    "        increment += len(os.listdir(datasets[i+1]))"
   ]
  },
  {
   "cell_type": "code",
   "execution_count": 5,
   "id": "4ecd1c39",
   "metadata": {
    "execution": {
     "iopub.execute_input": "2024-01-12T17:24:39.676213Z",
     "iopub.status.busy": "2024-01-12T17:24:39.675095Z",
     "iopub.status.idle": "2024-01-12T17:24:39.685745Z",
     "shell.execute_reply": "2024-01-12T17:24:39.684437Z"
    },
    "papermill": {
     "duration": 0.021721,
     "end_time": "2024-01-12T17:24:39.688531",
     "exception": false,
     "start_time": "2024-01-12T17:24:39.666810",
     "status": "completed"
    },
    "tags": []
   },
   "outputs": [],
   "source": [
    "def int64_feature(value):\n",
    "    return tf.train.Feature(int64_list=tf.train.Int64List(value=[value]))\n",
    "\n",
    "def image_feature(value):\n",
    "    return tf.train.Feature(bytes_list=tf.train.BytesList(value=[tf.io.encode_jpeg(value).numpy()]))\n",
    "\n",
    "def serialize_example(feature0, feature1):\n",
    "    feature = {\n",
    "      'feature0': image_feature(feature0),\n",
    "      'feature1': int64_feature(feature1)\n",
    "    }\n",
    "    example_proto = tf.train.Example(features=tf.train.Features(feature=feature))\n",
    "    return example_proto.SerializeToString()\n",
    "    \n",
    "def tf_serialize_example(f0,f1):\n",
    "    tf_string = tf.py_function(serialize_example, (f0, f1), tf.string)\n",
    "    return tf.reshape(tf_string, ())"
   ]
  },
  {
   "cell_type": "code",
   "execution_count": 6,
   "id": "c722e173",
   "metadata": {
    "execution": {
     "iopub.execute_input": "2024-01-12T17:24:39.704400Z",
     "iopub.status.busy": "2024-01-12T17:24:39.703978Z",
     "iopub.status.idle": "2024-01-12T17:24:39.710288Z",
     "shell.execute_reply": "2024-01-12T17:24:39.709064Z"
    },
    "papermill": {
     "duration": 0.017021,
     "end_time": "2024-01-12T17:24:39.712686",
     "exception": false,
     "start_time": "2024-01-12T17:24:39.695665",
     "status": "completed"
    },
    "tags": []
   },
   "outputs": [],
   "source": [
    "if not os.path.exists('tfrecords'):\n",
    "    os.mkdir('tfrecords')"
   ]
  },
  {
   "cell_type": "code",
   "execution_count": 7,
   "id": "13cebcca",
   "metadata": {
    "execution": {
     "iopub.execute_input": "2024-01-12T17:24:39.728538Z",
     "iopub.status.busy": "2024-01-12T17:24:39.728147Z",
     "iopub.status.idle": "2024-01-12T17:24:39.740094Z",
     "shell.execute_reply": "2024-01-12T17:24:39.739167Z"
    },
    "papermill": {
     "duration": 0.023013,
     "end_time": "2024-01-12T17:24:39.742672",
     "exception": false,
     "start_time": "2024-01-12T17:24:39.719659",
     "status": "completed"
    },
    "tags": []
   },
   "outputs": [
    {
     "data": {
      "text/plain": [
       "[\"Jerdon's Babbler\",\n",
       " \"Jerdon's Bushchat\",\n",
       " 'Jungle Nightjar',\n",
       " 'Kalij Pheasant',\n",
       " 'Laggar Falcon',\n",
       " 'Large Blue Flycatcher',\n",
       " 'Large Cuckooshrike',\n",
       " 'Large-billed Leaf Warbler',\n",
       " 'Large-tailed Nightjar',\n",
       " 'Lemon-rumped Warbler',\n",
       " 'Lesser Black-backed Gull',\n",
       " 'Lesser Coucal',\n",
       " 'Lesser Crested Tern',\n",
       " 'Lesser Sand-Plover',\n",
       " 'Lesser Shortwing',\n",
       " 'Little Forktail',\n",
       " 'Little Ringed Plover',\n",
       " 'Little Spiderhunter',\n",
       " 'Little Stint',\n",
       " 'Little Tern',\n",
       " 'Long-billed Bush Warbler',\n",
       " 'Long-billed Pipit',\n",
       " 'Long-billed Plover',\n",
       " 'Long-billed Thrush',\n",
       " 'Long-eared Owl',\n",
       " 'Long-legged Buzzard',\n",
       " 'Long-tailed Parakeet',\n",
       " 'Long-tailed Shrike',\n",
       " 'Long-tailed Thrush',\n",
       " 'Malabar Imperial-Pigeon',\n",
       " 'Malabar Trogon',\n",
       " 'Malabar Woodshrike',\n",
       " 'Malayan Night-Heron',\n",
       " 'Marsh Babbler',\n",
       " 'Masked Booby',\n",
       " 'Mongolian Finch',\n",
       " 'Mountain Scops-Owl',\n",
       " \"Mrs. Gould's Sunbird\",\n",
       " 'Narcondam Hornbill',\n",
       " 'Nepal House-Martin',\n",
       " 'Nilgiri Laughingthrush',\n",
       " 'Nilgiri Pipit',\n",
       " 'Nilgiri Thrush',\n",
       " 'Nilgiri Wood-Pigeon',\n",
       " 'Northern Wheatear',\n",
       " 'Olive-backed Pipit',\n",
       " 'Oriental Hobby',\n",
       " 'Oriental Skylark',\n",
       " 'Pacific Golden-Plover',\n",
       " 'Pacific Swallow',\n",
       " 'Painted Bush-Quail',\n",
       " 'Painted Francolin',\n",
       " 'Painted Sandgrouse',\n",
       " 'Painted Spurfowl',\n",
       " 'Painted Stork',\n",
       " 'Palani Laughingthrush',\n",
       " 'Pale Blue Flycatcher',\n",
       " 'Pale Sand Martin',\n",
       " 'Pale-billed Parrotbill',\n",
       " 'Pale-capped Pigeon',\n",
       " 'Pale-footed Bush Warbler',\n",
       " \"Pallas's Fish-Eagle\",\n",
       " \"Pallas's Gull\",\n",
       " \"Pallas's Leaf Warbler\",\n",
       " 'Parasitic Jaeger',\n",
       " 'Peregrine Falcon',\n",
       " 'Persian Shearwater',\n",
       " 'Pied Avocet',\n",
       " 'Pied Imperial-Pigeon',\n",
       " 'Pied Thrush',\n",
       " 'Pin-striped Tit-Babbler',\n",
       " 'Pin-tailed Snipe',\n",
       " 'Plain Mountain Finch',\n",
       " 'Rain Quail',\n",
       " 'Red Avadavat',\n",
       " 'Red Crossbill',\n",
       " 'Red-billed Blue-Magpie',\n",
       " 'Red-billed Chough',\n",
       " 'Red-billed Scimitar-Babbler',\n",
       " 'Red-breasted Parakeet',\n",
       " 'Red-headed Bullfinch',\n",
       " 'Red-headed Bunting',\n",
       " 'Red-headed Vulture',\n",
       " 'Red-necked Falcon',\n",
       " 'Red-necked Phalarope',\n",
       " 'Red-tailed Shrike',\n",
       " 'Red-throated Pipit',\n",
       " \"Richard's Pipit\",\n",
       " 'Rock Bunting',\n",
       " 'Rock Bush-Quail',\n",
       " 'Rosy Pipit',\n",
       " 'Ruddy Turnstone',\n",
       " 'Ruddy-breasted Crake',\n",
       " 'Rufous Sibia',\n",
       " 'Rufous-backed Sibia',\n",
       " 'Rufous-bellied Eagle',\n",
       " 'Rufous-bellied Niltava',\n",
       " 'Rufous-breasted Bush-Robin',\n",
       " 'Rufous-capped Babbler',\n",
       " 'Rufous-crowned Prinia',\n",
       " 'Rufous-fronted Prinia',\n",
       " 'Rufous-gorgeted Flycatcher',\n",
       " 'Rufous-headed Parrotbill',\n",
       " 'Rufous-necked Snowfinch',\n",
       " 'Rufous-throated Wren-Babbler',\n",
       " 'Rufous-vented Tit',\n",
       " 'Rufous-vented Yuhina',\n",
       " 'Rufous-winged Fulvetta',\n",
       " 'Russet Bush Warbler',\n",
       " 'Rusty-bellied Shortwing',\n",
       " 'Rusty-capped Fulvetta',\n",
       " 'Rusty-cheeked Scimitar-Babbler',\n",
       " 'Rusty-flanked Treecreeper',\n",
       " 'Rusty-fronted Barwing',\n",
       " 'Sanderling',\n",
       " 'Sandwich Tern',\n",
       " 'Sapphire Flycatcher',\n",
       " 'Sarus Crane',\n",
       " 'Satyr Tragopan',\n",
       " \"Saunders's Tern\",\n",
       " 'Scaly Laughingthrush',\n",
       " 'Scaly Thrush',\n",
       " 'Scaly-bellied Woodpecker',\n",
       " 'Scaly-breasted Cupwing',\n",
       " 'Scarlet-backed Flowerpecker',\n",
       " 'Short-billed Minivet',\n",
       " 'Short-toed Snake-Eagle',\n",
       " 'Sikkim Treecreeper',\n",
       " 'Sikkim Wedge-billed Babbler',\n",
       " 'Slaty-backed Forktail',\n",
       " 'Slaty-headed Parakeet',\n",
       " 'Slaty-legged Crake',\n",
       " 'Slender-billed Gull',\n",
       " 'Slender-billed Oriole',\n",
       " 'Small Buttonquail',\n",
       " 'Small Niltava',\n",
       " 'Small Pratincole',\n",
       " 'Snow Partridge',\n",
       " 'Snowy-browed Flycatcher',\n",
       " 'Snowy-throated Babbler',\n",
       " 'Sooty Tern',\n",
       " 'Spectacled Finch',\n",
       " 'Spot-bellied Eagle-Owl',\n",
       " 'Spot-billed Pelican',\n",
       " 'Spot-breasted Laughingthrush',\n",
       " 'Spot-breasted Scimitar-Babbler',\n",
       " 'Spotted Bush Warbler',\n",
       " 'Spotted Elachura',\n",
       " 'Spotted Flycatcher',\n",
       " 'Spotted Forktail',\n",
       " 'Spot-winged Grosbeak',\n",
       " 'Spot-winged Rosefinch',\n",
       " 'Spot-winged Starling',\n",
       " 'Spotted Laughingthrush',\n",
       " 'Spotted Redshank',\n",
       " 'Square-tailed Bulbul',\n",
       " 'Sri Lanka Frogmouth',\n",
       " 'Steppe Eagle',\n",
       " 'Streak-breasted Scimitar-Babbler',\n",
       " 'Streak-throated Barwing',\n",
       " 'Streak-throated Fulvetta',\n",
       " 'Streak-throated Swallow',\n",
       " 'Streaked Laughingthrush',\n",
       " 'Streaked Spiderhunter',\n",
       " 'Streaked Weaver',\n",
       " 'Streaked Wren-Babbler',\n",
       " 'Striated Laughingthrush',\n",
       " 'Striated Swallow',\n",
       " 'Striated Yuhina',\n",
       " 'Striolated Bunting',\n",
       " 'Stripe-throated Yuhina',\n",
       " 'Swamp Francolin',\n",
       " 'Swamp Grass Babbler',\n",
       " 'Taiga Flycatcher',\n",
       " 'Tawny Eagle',\n",
       " 'Tawny Fish-Owl',\n",
       " 'Tawny Lark',\n",
       " 'Tawny-breasted Wren-Babbler',\n",
       " \"Temminck's Stint\",\n",
       " \"Temminck's Tragopan\",\n",
       " 'Terek Sandpiper',\n",
       " 'Thick-billed Flowerpecker',\n",
       " 'Tibetan Blackbird',\n",
       " 'Tibetan Lark',\n",
       " 'Tibetan Sandgrouse',\n",
       " \"Tickell's Leaf Warbler\",\n",
       " 'Tree Pipit',\n",
       " 'Ultramarine Flycatcher',\n",
       " 'Upland Pipit',\n",
       " 'Variable Wheatear',\n",
       " \"Vigors's Sunbird\",\n",
       " 'Wallcreeper',\n",
       " \"Ward's Trogon\",\n",
       " 'Watercock',\n",
       " 'Wedge-tailed Green-Pigeon',\n",
       " 'West Himalayan Bush Warbler',\n",
       " 'Western Crowned Warbler',\n",
       " 'Western Reef-Heron',\n",
       " 'Western Tragopan',\n",
       " 'Western Yellow Wagtail',\n",
       " 'Whimbrel',\n",
       " 'Whiskered Tern',\n",
       " 'Whiskered Yuhina',\n",
       " \"Whistler's Warbler\",\n",
       " 'White-bellied Blue Flycatcher',\n",
       " 'White-bellied Drongo',\n",
       " 'White-bellied Minivet',\n",
       " 'White-bellied Redstart',\n",
       " 'White-bellied Sea-Eagle',\n",
       " 'White-bellied Sholakili',\n",
       " 'White-breasted Parrotbill',\n",
       " 'White-breasted Woodswallow',\n",
       " 'White-browed Bush-Robin',\n",
       " 'White-browed Fulvetta',\n",
       " 'White-browed Scimitar-Babbler',\n",
       " 'White-browed Shrike-Babbler',\n",
       " 'White-capped Bunting',\n",
       " 'White-cheeked Nuthatch',\n",
       " 'White-cheeked Partridge',\n",
       " 'White-cheeked Tern',\n",
       " 'White-crowned Forktail',\n",
       " 'White-eyed Buzzard',\n",
       " 'White-naped Tit',\n",
       " 'White-naped Woodpecker',\n",
       " 'White-rumped Munia',\n",
       " 'White-rumped Needletail',\n",
       " 'White-rumped Shama',\n",
       " 'White-rumped Vulture',\n",
       " 'White-tailed Iora',\n",
       " 'White-tailed Nuthatch',\n",
       " 'White-tailed Robin',\n",
       " 'White-tailed Stonechat',\n",
       " 'White-throated Dipper',\n",
       " 'White-throated Laughingthrush',\n",
       " 'White-throated Redstart',\n",
       " 'White-throated Tit',\n",
       " 'White-winged Duck',\n",
       " 'White-winged Grosbeak',\n",
       " 'White-winged Tern',\n",
       " 'Wreathed Hornbill',\n",
       " 'Yellow-bellied Fairy-Fantail',\n",
       " 'Yellow-bellied Flowerpecker',\n",
       " 'Yellow-bellied Prinia',\n",
       " 'Yellow-billed Blue-Magpie',\n",
       " 'Yellow-breasted Greenfinch',\n",
       " 'Yellow-rumped Honeyguide',\n",
       " 'Yellow-throated Bulbul',\n",
       " 'Yellow-throated Fulvetta',\n",
       " 'Yellow-throated Sparrow',\n",
       " 'Yellow-vented Warbler']"
      ]
     },
     "execution_count": 7,
     "metadata": {},
     "output_type": "execute_result"
    }
   ],
   "source": [
    "class_names"
   ]
  },
  {
   "cell_type": "code",
   "execution_count": 8,
   "id": "00cc31c4",
   "metadata": {
    "execution": {
     "iopub.execute_input": "2024-01-12T17:24:39.760233Z",
     "iopub.status.busy": "2024-01-12T17:24:39.759779Z",
     "iopub.status.idle": "2024-01-12T17:24:39.765846Z",
     "shell.execute_reply": "2024-01-12T17:24:39.764544Z"
    },
    "papermill": {
     "duration": 0.018161,
     "end_time": "2024-01-12T17:24:39.768490",
     "exception": false,
     "start_time": "2024-01-12T17:24:39.750329",
     "status": "completed"
    },
    "tags": []
   },
   "outputs": [],
   "source": [
    "with open('cnames.txt','w') as f:\n",
    "    f.write(str(class_names))"
   ]
  },
  {
   "cell_type": "code",
   "execution_count": 9,
   "id": "b953247a",
   "metadata": {
    "execution": {
     "iopub.execute_input": "2024-01-12T17:24:39.785623Z",
     "iopub.status.busy": "2024-01-12T17:24:39.785222Z",
     "iopub.status.idle": "2024-01-12T17:24:39.803956Z",
     "shell.execute_reply": "2024-01-12T17:24:39.802959Z"
    },
    "papermill": {
     "duration": 0.03027,
     "end_time": "2024-01-12T17:24:39.806478",
     "exception": false,
     "start_time": "2024-01-12T17:24:39.776208",
     "status": "completed"
    },
    "tags": []
   },
   "outputs": [],
   "source": [
    "train_ds = train_ds.unbatch()"
   ]
  },
  {
   "cell_type": "code",
   "execution_count": 10,
   "id": "9744a927",
   "metadata": {
    "execution": {
     "iopub.execute_input": "2024-01-12T17:24:39.825114Z",
     "iopub.status.busy": "2024-01-12T17:24:39.824640Z",
     "iopub.status.idle": "2024-01-12T17:24:40.080460Z",
     "shell.execute_reply": "2024-01-12T17:24:40.079133Z"
    },
    "papermill": {
     "duration": 0.267628,
     "end_time": "2024-01-12T17:24:40.083123",
     "exception": false,
     "start_time": "2024-01-12T17:24:39.815495",
     "status": "completed"
    },
    "tags": []
   },
   "outputs": [
    {
     "data": {
      "text/plain": [
       "83"
      ]
     },
     "execution_count": 10,
     "metadata": {},
     "output_type": "execute_result"
    }
   ],
   "source": [
    "del tds,increment,datasets,ds\n",
    "gc.collect()"
   ]
  },
  {
   "cell_type": "code",
   "execution_count": 11,
   "id": "7f8be048",
   "metadata": {
    "execution": {
     "iopub.execute_input": "2024-01-12T17:24:40.101128Z",
     "iopub.status.busy": "2024-01-12T17:24:40.100427Z",
     "iopub.status.idle": "2024-01-12T17:57:13.086799Z",
     "shell.execute_reply": "2024-01-12T17:57:13.084491Z"
    },
    "papermill": {
     "duration": 1953.582052,
     "end_time": "2024-01-12T17:57:13.673188",
     "exception": false,
     "start_time": "2024-01-12T17:24:40.091136",
     "status": "completed"
    },
    "tags": []
   },
   "outputs": [
    {
     "name": "stderr",
     "output_type": "stream",
     "text": [
      "190470it [32:32, 97.53it/s] \n"
     ]
    }
   ],
   "source": [
    "serialized=list()\n",
    "\n",
    "for images, labels in tqdm(train_ds):\n",
    "    serialized.append(serialize_example(images.numpy(),labels.numpy()))"
   ]
  },
  {
   "cell_type": "code",
   "execution_count": 12,
   "id": "a9edd663",
   "metadata": {
    "execution": {
     "iopub.execute_input": "2024-01-12T17:57:16.088816Z",
     "iopub.status.busy": "2024-01-12T17:57:16.087885Z",
     "iopub.status.idle": "2024-01-12T17:57:17.029166Z",
     "shell.execute_reply": "2024-01-12T17:57:17.027975Z"
    },
    "papermill": {
     "duration": 2.173999,
     "end_time": "2024-01-12T17:57:17.031683",
     "exception": false,
     "start_time": "2024-01-12T17:57:14.857684",
     "status": "completed"
    },
    "tags": []
   },
   "outputs": [
    {
     "data": {
      "text/plain": [
       "0"
      ]
     },
     "execution_count": 12,
     "metadata": {},
     "output_type": "execute_result"
    }
   ],
   "source": [
    "gc.collect()"
   ]
  },
  {
   "cell_type": "code",
   "execution_count": 13,
   "id": "219089bc",
   "metadata": {
    "execution": {
     "iopub.execute_input": "2024-01-12T17:57:19.350780Z",
     "iopub.status.busy": "2024-01-12T17:57:19.350399Z",
     "iopub.status.idle": "2024-01-12T17:57:19.355173Z",
     "shell.execute_reply": "2024-01-12T17:57:19.354101Z"
    },
    "papermill": {
     "duration": 1.203158,
     "end_time": "2024-01-12T17:57:19.357910",
     "exception": false,
     "start_time": "2024-01-12T17:57:18.154752",
     "status": "completed"
    },
    "tags": []
   },
   "outputs": [],
   "source": [
    "l = len(serialized)"
   ]
  },
  {
   "cell_type": "code",
   "execution_count": 14,
   "id": "5a082e28",
   "metadata": {
    "execution": {
     "iopub.execute_input": "2024-01-12T17:57:21.678040Z",
     "iopub.status.busy": "2024-01-12T17:57:21.677265Z",
     "iopub.status.idle": "2024-01-12T17:57:21.973366Z",
     "shell.execute_reply": "2024-01-12T17:57:21.972051Z"
    },
    "papermill": {
     "duration": 1.492658,
     "end_time": "2024-01-12T17:57:21.975839",
     "exception": false,
     "start_time": "2024-01-12T17:57:20.483181",
     "status": "completed"
    },
    "tags": []
   },
   "outputs": [
    {
     "data": {
      "text/plain": [
       "0"
      ]
     },
     "execution_count": 14,
     "metadata": {},
     "output_type": "execute_result"
    }
   ],
   "source": [
    "del f,images,labels\n",
    "gc.collect()"
   ]
  },
  {
   "cell_type": "code",
   "execution_count": 15,
   "id": "d228bade",
   "metadata": {
    "execution": {
     "iopub.execute_input": "2024-01-12T17:57:24.294323Z",
     "iopub.status.busy": "2024-01-12T17:57:24.293586Z",
     "iopub.status.idle": "2024-01-12T17:57:24.343570Z",
     "shell.execute_reply": "2024-01-12T17:57:24.342568Z"
    },
    "papermill": {
     "duration": 1.251693,
     "end_time": "2024-01-12T17:57:24.346139",
     "exception": false,
     "start_time": "2024-01-12T17:57:23.094446",
     "status": "completed"
    },
    "tags": []
   },
   "outputs": [],
   "source": [
    "ix = l//samples\n",
    "serialized_temp = list()\n",
    "for i in range(ix):\n",
    "    serialized_temp.append(serialized[i*samples:(i+1)*samples])\n",
    "serialized_temp.append(serialized[(ix)*samples:])"
   ]
  },
  {
   "cell_type": "code",
   "execution_count": 16,
   "id": "8f6ff232",
   "metadata": {
    "execution": {
     "iopub.execute_input": "2024-01-12T17:57:26.681450Z",
     "iopub.status.busy": "2024-01-12T17:57:26.680939Z",
     "iopub.status.idle": "2024-01-12T17:57:26.702640Z",
     "shell.execute_reply": "2024-01-12T17:57:26.701620Z"
    },
    "papermill": {
     "duration": 1.239151,
     "end_time": "2024-01-12T17:57:26.704876",
     "exception": false,
     "start_time": "2024-01-12T17:57:25.465725",
     "status": "completed"
    },
    "tags": []
   },
   "outputs": [],
   "source": [
    "del serialized, ix"
   ]
  },
  {
   "cell_type": "code",
   "execution_count": 17,
   "id": "fc24039d",
   "metadata": {
    "execution": {
     "iopub.execute_input": "2024-01-12T17:57:29.016872Z",
     "iopub.status.busy": "2024-01-12T17:57:29.016232Z",
     "iopub.status.idle": "2024-01-12T17:58:29.149025Z",
     "shell.execute_reply": "2024-01-12T17:58:29.147755Z"
    },
    "papermill": {
     "duration": 62.506244,
     "end_time": "2024-01-12T17:58:30.322943",
     "exception": false,
     "start_time": "2024-01-12T17:57:27.816699",
     "status": "completed"
    },
    "tags": []
   },
   "outputs": [
    {
     "name": "stdout",
     "output_type": "stream",
     "text": [
      "CPU times: user 11.4 s, sys: 16.6 s, total: 28 s\n",
      "Wall time: 1min\n"
     ]
    },
    {
     "data": {
      "text/plain": [
       "0"
      ]
     },
     "execution_count": 17,
     "metadata": {},
     "output_type": "execute_result"
    }
   ],
   "source": [
    "%%time\n",
    "for i,s in enumerate(serialized_temp):\n",
    "    filename = os.path.join(\"tfrecords\",\"batch_3_{:02.0f}.tfrec\".format(i))\n",
    "    with tf.io.TFRecordWriter(filename) as writer:\n",
    "        for rec in s:\n",
    "            writer.write(rec)\n",
    "del i,s,serialized_temp,writer\n",
    "gc.collect()"
   ]
  },
  {
   "cell_type": "code",
   "execution_count": null,
   "id": "63ba1660",
   "metadata": {
    "papermill": {
     "duration": 1.14551,
     "end_time": "2024-01-12T17:58:32.678984",
     "exception": false,
     "start_time": "2024-01-12T17:58:31.533474",
     "status": "completed"
    },
    "tags": []
   },
   "outputs": [],
   "source": []
  },
  {
   "cell_type": "code",
   "execution_count": null,
   "id": "5caaf1d0",
   "metadata": {
    "papermill": {
     "duration": 1.125856,
     "end_time": "2024-01-12T17:58:35.021213",
     "exception": false,
     "start_time": "2024-01-12T17:58:33.895357",
     "status": "completed"
    },
    "tags": []
   },
   "outputs": [],
   "source": []
  }
 ],
 "metadata": {
  "kaggle": {
   "accelerator": "none",
   "dataSources": [
    {
     "datasetId": 3526251,
     "sourceId": 6374815,
     "sourceType": "datasetVersion"
    },
    {
     "datasetId": 3676658,
     "sourceId": 6626169,
     "sourceType": "datasetVersion"
    }
   ],
   "dockerImageVersionId": 30527,
   "isGpuEnabled": false,
   "isInternetEnabled": true,
   "language": "python",
   "sourceType": "notebook"
  },
  "kernelspec": {
   "display_name": "Python 3",
   "language": "python",
   "name": "python3"
  },
  "language_info": {
   "codemirror_mode": {
    "name": "ipython",
    "version": 3
   },
   "file_extension": ".py",
   "mimetype": "text/x-python",
   "name": "python",
   "nbconvert_exporter": "python",
   "pygments_lexer": "ipython3",
   "version": "3.10.12"
  },
  "papermill": {
   "default_parameters": {},
   "duration": 2081.571015,
   "end_time": "2024-01-12T17:58:40.128347",
   "environment_variables": {},
   "exception": null,
   "input_path": "__notebook__.ipynb",
   "output_path": "__notebook__.ipynb",
   "parameters": {},
   "start_time": "2024-01-12T17:23:58.557332",
   "version": "2.4.0"
  }
 },
 "nbformat": 4,
 "nbformat_minor": 5
}
